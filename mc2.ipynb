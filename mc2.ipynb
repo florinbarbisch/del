{
 "cells": [
  {
   "cell_type": "code",
   "execution_count": 60,
   "metadata": {},
   "outputs": [],
   "source": [
    "import os\n",
    "import time\n",
    "from collections import OrderedDict\n",
    "from typing import Tuple\n",
    "import pandas as pd\n",
    "import numpy as np\n",
    "import matplotlib.pyplot as plt\n",
    "from tqdm import tqdm\n",
    "\n",
    "\n",
    "from PIL import Image\n",
    "\n",
    "from\n",
    "\n",
    "import torch\n",
    "import torch.nn as nn\n",
    "from torch.utils.data import Dataset, DataLoader\n",
    "from torchvision import models\n",
    "from torchvision.transforms.functional import to_tensor\n",
    "\n",
    "from nltk.tokenize import word_tokenize, RegexpTokenizer\n",
    "\n",
    "import wandb\n",
    "\n",
    "# set WANDB_NOTEBOOK_NAME \n",
    "os.environ['WANDB_NOTEBOOK_NAME'] = 'mc2.ipynb'\n"
   ]
  },
  {
   "cell_type": "code",
   "execution_count": 10,
   "metadata": {},
   "outputs": [
    {
     "data": {
      "text/plain": [
       "{'epochs': 10,\n",
       " 'batch_size': 32,\n",
       " 'learning_rate': 0.001,\n",
       " 'device': device(type='cuda', index=0),\n",
       " 'image_dir': 'flickr8k/images',\n",
       " 'caption_file': 'flickr8k/captions.txt'}"
      ]
     },
     "execution_count": 10,
     "metadata": {},
     "output_type": "execute_result"
    }
   ],
   "source": [
    "config = dict(\n",
    "    epochs=10,\n",
    "    batch_size=32,\n",
    "    learning_rate=0.001,\n",
    "    device=torch.device('cuda:0' if torch.cuda.is_available() else 'cpu'),\n",
    "    image_dir = 'flickr8k/images',\n",
    "    caption_file = 'flickr8k/captions.txt',\n",
    ")\n",
    "\n",
    "config"
   ]
  },
  {
   "cell_type": "code",
   "execution_count": 109,
   "metadata": {},
   "outputs": [
    {
     "name": "stdout",
     "output_type": "stream",
     "text": [
      "Vocab size: 8831\n"
     ]
    }
   ],
   "source": [
    "class Vocab():\n",
    "\n",
    "    def __init__(self, captions_file, tokenizer):\n",
    "        self.tokenizer = tokenizer\n",
    "        self.captions_file = captions_file\n",
    "        self.build_vocab()\n",
    "\n",
    "    def build_vocab(self):\n",
    "        vocab = OrderedDict()\n",
    "\n",
    "        # Add special tokens\n",
    "        vocab['<pad>'] = None\n",
    "        vocab['<sos>'] = None\n",
    "        vocab['<eos>'] = None\n",
    "\n",
    "        captions = pd.read_csv(config[\"caption_file\"], delimiter='|')['caption_text'].str.lower() \\\n",
    "                                                         .replace(r\"[^a-zA-Z0-9\\s]+\", \"\", regex=True) \\\n",
    "                                                         .replace(r'\\s+', ' ', regex=True)\n",
    "        \n",
    "        for caption in captions:\n",
    "            for token in self.tokenizer(caption):\n",
    "                if token not in vocab:\n",
    "                    vocab[token] = None\n",
    "\n",
    "        self.idx2word = list(vocab.keys())\n",
    "        self.word2idx = {word: idx for idx, word in enumerate(self.idx2word)}\n",
    "\n",
    "        self.pad_idx = self.word2idx['<pad>']\n",
    "        self.sos_idx = self.word2idx['<sos>']\n",
    "        self.eos_idx = self.word2idx['<eos>']\n",
    "\n",
    "    def __len__(self):\n",
    "        return len(self.idx2word)\n",
    "\n",
    "    def token_to_idx(self, token):\n",
    "        return self.word2idx[token]\n",
    "\n",
    "    def idx_to_token(self, idx):\n",
    "        return self.idx2word[idx]\n",
    "\n",
    "\n",
    "special_word_tokenizer = RegexpTokenizer( r'(?:\\w+|<\\w+>)') # capture <word> tokens\n",
    "\n",
    "vocab = Vocab(config[\"caption_file\"], tokenizer=special_word_tokenizer.tokenize)\n",
    "\n",
    "config['vocab_size'] = len(vocab)\n",
    "\n",
    "print(f'Vocab size: {config[\"vocab_size\"]}')"
   ]
  },
  {
   "cell_type": "code",
   "execution_count": 95,
   "metadata": {},
   "outputs": [
    {
     "name": "stderr",
     "output_type": "stream",
     "text": [
      "100%|██████████| 8091/8091 [01:34<00:00, 85.48it/s] \n"
     ]
    },
    {
     "name": "stdout",
     "output_type": "stream",
     "text": [
      "40455\n"
     ]
    }
   ],
   "source": [
    "class Flickr8kDataset(Dataset):\n",
    "    def __init__(self, root_dir, captions_file, tokenizer, word2idx, transform=None):\n",
    "        \"\"\"\n",
    "        Args:\n",
    "            root_dir (string): Directory with all the images.\n",
    "            captions_file (string): Path to the txt file with captions.\n",
    "            transform (callable, optional): Optional transform to be applied\n",
    "                on a image sample.\n",
    "        \"\"\"\n",
    "        self.root_dir = root_dir\n",
    "        self.df = pd.read_csv(captions_file, delimiter='|')\n",
    "        self.transform = transform\n",
    "        self.tokenizer = tokenizer\n",
    "        self.word2idx = word2idx\n",
    "\n",
    "        # clean caption_text\n",
    "        self.df['caption_text'] = self.df['caption_text'].str.lower() \\\n",
    "                                                         .replace(r\"[^a-zA-Z0-9\\s]+\", \"\", regex=True) \\\n",
    "                                                         .replace(r'\\s+', \" \", regex=True)\n",
    "        # append <start> and <end> to caption_text\n",
    "        self.df['caption_text'] = self.df['caption_text'].apply(lambda x: '<sos> ' + x + ' <eos>') \\\n",
    "                                                         .apply(lambda x: torch.LongTensor(self._caption_to_idx(x)))\n",
    "        # store memory\n",
    "        self.captions_image_names = list(zip(self.df['caption_text'], self.df['image_name']))\n",
    "        \n",
    "        self.images = {}\n",
    "\n",
    "        # load all images into memory\n",
    "        for img_name in tqdm(self.df['image_name'].unique()):\n",
    "            img_path = os.path.join(self.root_dir, img_name)\n",
    "            image = Image.open(img_path).convert('RGB')\n",
    "            \n",
    "            if self.transform:\n",
    "                image = self.transform(image)\n",
    "\n",
    "            self.images[img_name] = image\n",
    "\n",
    "    def _caption_to_idx(self, caption):\n",
    "        return [self.word2idx[word] for word in self.tokenizer(caption)]\n",
    "    \n",
    "    def __len__(self):\n",
    "        return len(self.df)\n",
    "\n",
    "    def __getitem__(self, idx):\n",
    "        caption, img_name = self.captions_image_names[idx]\n",
    "        image = self.images[img_name]\n",
    "        return image, caption\n",
    "\n",
    "\n",
    "dataset = Flickr8kDataset(config[\"image_dir\"],\n",
    "                          config[\"caption_file\"],\n",
    "                          special_word_tokenizer.tokenize,\n",
    "                          word2idx,\n",
    "                          models.ResNet50_Weights.IMAGENET1K_V1.transforms())\n",
    "print(len(dataset))"
   ]
  },
  {
   "cell_type": "code",
   "execution_count": 87,
   "metadata": {},
   "outputs": [],
   "source": [
    "class Collate:\n",
    "    def __init__(self, pad_idx):\n",
    "        self.pad_idx = pad_idx\n",
    "    \n",
    "    def __call__(self, batch):\n",
    "        images, captions = zip(*batch)\n",
    "        images = torch.stack(images)\n",
    "        captions = nn.utils.rnn.pad_sequence(captions, batch_first=True, padding_value=self.pad_idx)\n",
    "        return images, captions"
   ]
  },
  {
   "cell_type": "code",
   "execution_count": 96,
   "metadata": {},
   "outputs": [
    {
     "name": "stderr",
     "output_type": "stream",
     "text": [
      "Clipping input data to the valid range for imshow with RGB data ([0..1] for floats or [0..255] for integers).\n"
     ]
    },
    {
     "data": {
      "image/png": "[encoded data removed]",
      "text/plain": [
       "<Figure size 432x288 with 1 Axes>"
      ]
     },
     "metadata": {
      "needs_background": "light"
     },
     "output_type": "display_data"
    }
   ],
   "source": [
    "test_loader = DataLoader(dataset,\n",
    "                         batch_size=config[\"batch_size\"],\n",
    "                         shuffle=False,\n",
    "                         pin_memory=True,\n",
    "                         collate_fn=Collate(config[\"pad_idx\"]))\n",
    "for i, (images, captions) in enumerate(test_loader):\n",
    "\n",
    "    plt.imshow(images[0].permute(1, 2, 0))\n",
    "    plt.title(captions[0])\n",
    "    plt.show()\n",
    "    break"
   ]
  },
  {
   "cell_type": "code",
   "execution_count": 33,
   "metadata": {},
   "outputs": [
    {
     "name": "stderr",
     "output_type": "stream",
     "text": [
      "100%|██████████| 1265/1265 [01:20<00:00, 15.75it/s]\n"
     ]
    }
   ],
   "source": [
    "# analyze the captions lengths\n",
    "lengths = []\n",
    "total_data_loader_len = len(test_loader)\n",
    "for i, (images, captions) in tqdm(enumerate(test_loader), total=total_data_loader_len):\n",
    "    lengths.append(np.array(captions.shape[1] - (captions == config['pad_idx']).sum(dim=1)))"
   ]
  },
  {
   "cell_type": "code",
   "execution_count": 40,
   "metadata": {},
   "outputs": [
    {
     "data": {
      "text/plain": [
       "(40455,)"
      ]
     },
     "execution_count": 40,
     "metadata": {},
     "output_type": "execute_result"
    }
   ],
   "source": [
    "# convert lengths to numpy array\n",
    "np.concatenate(lengths).shape"
   ]
  },
  {
   "cell_type": "code",
   "execution_count": 42,
   "metadata": {},
   "outputs": [
    {
     "name": "stdout",
     "output_type": "stream",
     "text": [
      "Captions lengths shape: (40455,)\n"
     ]
    },
    {
     "data": {
      "image/png": "[encoded data removed]",
      "text/plain": [
       "<Figure size 432x288 with 1 Axes>"
      ]
     },
     "metadata": {
      "needs_background": "light"
     },
     "output_type": "display_data"
    }
   ],
   "source": [
    "lengths_arr = np.concatenate(lengths)\n",
    "\n",
    "print(\"Captions lengths shape:\", lengths_arr.shape)\n",
    "\n",
    "plt.hist(lengths_arr, bins=40)\n",
    "plt.title(\"Captions lengths, mean={:.2f}\".format(lengths_arr.mean()))\n",
    "plt.show()\n"
   ]
  },
  {
   "attachments": {},
   "cell_type": "markdown",
   "metadata": {},
   "source": [
    "# Model"
   ]
  },
  {
   "cell_type": "code",
   "execution_count": 110,
   "metadata": {},
   "outputs": [
    {
     "name": "stdout",
     "output_type": "stream",
     "text": [
      "captions: torch.Size([32, 40])\n",
      "image_features: torch.Size([1, 32, 512])\n",
      "hidden: torch.Size([1, 32, 512])\n",
      "cell: torch.Size([1, 32, 512])\n",
      "outputs: torch.Size([40, 32, 8831])\n",
      "hidden: torch.Size([1, 32, 512])\n",
      "cell: torch.Size([1, 32, 512])\n",
      "loss: tensor(3.4679, device='cuda:0', grad_fn=<NllLossBackward0>)\n",
      "True\n",
      "True\n",
      "True\n",
      "True\n",
      "True\n",
      "True\n",
      "True\n",
      "True\n",
      "captions: torch.Size([40, 32])\n",
      "captions: ['razzling', 'tile', 'motley', 'hooping', 'san', 'shirts', '13', 'blondhaired', 'emphatically', 'dinghy', 'outfield', 'rod', 'alotment', 'nations', 'batsman', 'begs', 'beached', 'motion', 'items', 'handing', 'hangong', 'persues', 'busstop', 'exibit', 'ball', 'ship', 'firefighters', 'buffalo', 'not', 'tackling', 'stirs', 'redish']\n"
     ]
    }
   ],
   "source": [
    "class Encoder(nn.Module):\n",
    "\n",
    "    def __init__(self, image_embedding_dim: int):\n",
    "        super(Encoder, self).__init__()\n",
    "        self.image_embedding_dim = image_embedding_dim\n",
    "\n",
    "        resnet = models.resnet50(weights=models.ResNet50_Weights.DEFAULT)\n",
    "\n",
    "        for param in resnet.parameters():\n",
    "            param.requires_grad_(False)\n",
    "\n",
    "        modules = list(resnet.children())[:-1]\n",
    "        self.resnet = nn.Sequential(*modules)\n",
    "        \n",
    "        self.fc = nn.Linear(resnet.fc.in_features, self.image_embedding_dim)\n",
    "\n",
    "\n",
    "    def forward(self, images: torch.Tensor) -> torch.Tensor:\n",
    "        x = self.resnet(images)\n",
    "        x = x.reshape(x.size(0), -1)\n",
    "        x = self.fc(x)\n",
    "        return x\n",
    "    \n",
    "\n",
    "class Decoder(nn.Module):\n",
    "\n",
    "    def __init__(self, embedding_dim: int, lstm_layers: int, vocabulary_size: int, max_sequence_length: int, padding_idx: int, start_of_sequence_idx: int, end_of_sequence_idx: int):\n",
    "        super(Decoder, self).__init__()\n",
    "        self.embedding_dim = embedding_dim\n",
    "        self.lstm_layers = lstm_layers\n",
    "        self.vocabulary_size = vocabulary_size\n",
    "        self.max_sequence_length = max_sequence_length\n",
    "        self.padding_idx = padding_idx\n",
    "        self.start_of_sequence_idx = start_of_sequence_idx\n",
    "        self.end_of_sequence_idx = end_of_sequence_idx\n",
    "        \n",
    "        self.embedding_layer = nn.Embedding(vocabulary_size, embedding_dim, padding_idx=padding_idx)\n",
    "\n",
    "        self.hidden_state_0 = nn.Parameter(torch.zeros((self.lstm_layers, 1, embedding_dim)))\n",
    "        self.cell_state_0 = nn.Parameter(torch.zeros((self.lstm_layers, 1, embedding_dim)))\n",
    "\n",
    "\n",
    "        self.lstm = nn.LSTM(input_size = embedding_dim,\n",
    "                            hidden_size = embedding_dim,\n",
    "                            num_layers = self.lstm_layers)\n",
    "        \n",
    "        self.fc = nn.Sequential(\n",
    "            nn.Linear(embedding_dim, self.vocabulary_size),\n",
    "            nn.LogSoftmax(dim=1)\n",
    "        )\n",
    "\n",
    "    def embed_sequence(self, sequence: torch.Tensor) -> torch.Tensor:\n",
    "        return self.embedding_layer(sequence)\n",
    "\n",
    "    def forward(self, image_embedding: torch.Tensor, captions: torch.Tensor, hidden: torch.Tensor, cell: torch.Tensor) -> Tuple[torch.Tensor, Tuple[torch.Tensor, torch.Tensor]]:\n",
    "        captions = self.embedding_layer(captions).permute(1, 0, 2)\n",
    "\n",
    "        embeddings = torch.cat((image_embedding, captions), dim=0)\n",
    "                \n",
    "        outputs, (hidden, cell) = self.lstm(embeddings, (hidden, cell))\n",
    "        outputs = self.fc(outputs)\n",
    "        \n",
    "        return outputs, (hidden, cell)\n",
    "\n",
    "image_encoder = Encoder(512)\n",
    "caption_decoder = Decoder(512, 1, len(vocab), 40, vocab.pad_idx, vocab.sos_idx, vocab.eos_idx)\n",
    "\n",
    "image_encoder.to(config[\"device\"])\n",
    "caption_decoder.to(config[\"device\"])\n",
    "\n",
    "image_encoder.train()\n",
    "caption_decoder.train()\n",
    "\n",
    "# create random tensor of images and captions \n",
    "images = torch.randn(32, 3, 500, 500).to(config[\"device\"])\n",
    "# sequence of 40 words\n",
    "captions = torch.randint(0, len(vocab), (32, 40)).to(config[\"device\"])\n",
    "# convert to embeddings\n",
    "print(\"captions:\", captions.size())\n",
    "\n",
    "# encode images\n",
    "image_features = image_encoder(images).unsqueeze(0)\n",
    "print(\"image_features:\", image_features.size())\n",
    "\n",
    "# initialize hidden and cell states\n",
    "hidden = caption_decoder.hidden_state_0.repeat(1, 32, 1)\n",
    "cell = caption_decoder.cell_state_0.repeat(1, 32, 1)\n",
    "\n",
    "\n",
    "\n",
    "print(\"hidden:\", hidden.size())\n",
    "print(\"cell:\", cell.size())\n",
    "\n",
    "# decode\n",
    "outputs, (hidden, cell) = caption_decoder(image_features, captions, hidden, cell)\n",
    "\n",
    "# remove last token from outputs\n",
    "outputs = outputs[:-1]\n",
    "\n",
    "print(\"outputs:\", outputs.size())\n",
    "print(\"hidden:\", hidden.size())\n",
    "print(\"cell:\", cell.size())\n",
    "\n",
    "# compute loss\n",
    "#loss = nn.NLLLoss()(outputs.permute(1, 2, 0), captions.permute(1, 0))\n",
    "loss = nn.NLLLoss()(outputs.reshape(-1, outputs.size(2)), captions.reshape(-1))\n",
    "\n",
    "print(\"loss:\", loss)\n",
    "\n",
    "# check if on cuda\n",
    "print(next(image_encoder.parameters()).is_cuda)\n",
    "print(next(caption_decoder.parameters()).is_cuda)\n",
    "print(next(caption_decoder.embedding_layer.parameters()).is_cuda)\n",
    "print(next(caption_decoder.lstm.parameters()).is_cuda)\n",
    "print(next(caption_decoder.fc.parameters()).is_cuda)\n",
    "print(outputs.is_cuda)\n",
    "print(hidden.is_cuda)\n",
    "print(cell.is_cuda)\n",
    "\n",
    "\n",
    "# convert outputs to captions_idx\n",
    "captions = torch.argmax(outputs, dim=2)\n",
    "print(\"captions:\", captions.size())\n",
    "\n",
    "# convert captions_idx to captions\n",
    "captions = [[idx2word[idx.item()] for idx in caption] for caption in captions]\n",
    "print(\"captions:\", captions[0])"
   ]
  },
  {
   "cell_type": "code",
   "execution_count": 12,
   "metadata": {},
   "outputs": [
    {
     "name": "stdout",
     "output_type": "stream",
     "text": [
      "Number of parameters: 35711167\n"
     ]
    },
    {
     "data": {
      "text/plain": [
       "'model.png'"
      ]
     },
     "execution_count": 12,
     "metadata": {},
     "output_type": "execute_result"
    }
   ],
   "source": [
    "# visualize the model\n",
    "from torchviz import make_dot\n",
    "\n",
    "# print number of parameters\n",
    "params = list(image_encoder.parameters()) + list(caption_decoder.parameters())\n",
    "print(\"Number of parameters:\", sum([np.prod(p.size()) for p in params]))\n",
    "\n",
    "make_dot(outputs, params=dict(list(image_encoder.named_parameters()) + list(caption_decoder.named_parameters()))).render(\"model\", format=\"png\")"
   ]
  },
  {
   "cell_type": "code",
   "execution_count": 104,
   "metadata": {},
   "outputs": [
    {
     "name": "stdout",
     "output_type": "stream",
     "text": [
      "32364 8091\n"
     ]
    }
   ],
   "source": [
    "train_dataset, val_dataset = torch.utils.data.random_split(dataset, [int(len(dataset) * 0.8), len(dataset) - int(len(dataset) * 0.8)])\n",
    "print(len(train_dataset), len(val_dataset))\n",
    "\n",
    "def get_data_loader(dataset: Dataset, config: dict):\n",
    "    return DataLoader(\n",
    "        dataset=dataset,\n",
    "        batch_size=config[\"batch_size\"],\n",
    "        shuffle=False,\n",
    "        pin_memory=True,\n",
    "        collate_fn=Collate(config[\"pad_idx\"])\n",
    "    )"
   ]
  },
  {
   "cell_type": "code",
   "execution_count": 111,
   "metadata": {},
   "outputs": [
    {
     "data": {
      "text/html": [
       "Changes to your `wandb` environment variables will be ignored because your `wandb` session has already started. For more information on how to modify your settings with `wandb.init()` arguments, please refer to <a href='https://wandb.me/wandb-init' target=\"_blank\">the W&B docs</a>."
      ],
      "text/plain": [
       "<IPython.core.display.HTML object>"
      ]
     },
     "metadata": {},
     "output_type": "display_data"
    },
    {
     "data": {
      "application/vnd.jupyter.widget-view+json": {
       "model_id": "c534bc5c72f2489dbf7cbcebc8babf49",
       "version_major": 2,
       "version_minor": 0
      },
      "text/plain": [
       "VBox(children=(Label(value='Waiting for wandb.init()...\\r'), FloatProgress(value=0.016666666666666666, max=1.0…"
      ]
     },
     "metadata": {},
     "output_type": "display_data"
    },
    {
     "data": {
      "text/html": [
       "wandb version 0.15.2 is available!  To upgrade, please run:\n",
       " $ pip install wandb --upgrade"
      ],
      "text/plain": [
       "<IPython.core.display.HTML object>"
      ]
     },
     "metadata": {},
     "output_type": "display_data"
    },
    {
     "data": {
      "text/html": [
       "Tracking run with wandb version 0.13.10"
      ],
      "text/plain": [
       "<IPython.core.display.HTML object>"
      ]
     },
     "metadata": {},
     "output_type": "display_data"
    },
    {
     "data": {
      "text/html": [
       "Run data is saved locally in <code>d:\\dev\\del\\wandb\\run-20230512_230455-2pma8yog</code>"
      ],
      "text/plain": [
       "<IPython.core.display.HTML object>"
      ]
     },
     "metadata": {},
     "output_type": "display_data"
    },
    {
     "data": {
      "text/html": [
       "Syncing run <strong><a href='https://wandb.ai/florin-barbisch/del-mc2/runs/2pma8yog' target=\"_blank\">chocolate-salad-29</a></strong> to <a href='https://wandb.ai/florin-barbisch/del-mc2' target=\"_blank\">Weights & Biases</a> (<a href='https://wandb.me/run' target=\"_blank\">docs</a>)<br/>"
      ],
      "text/plain": [
       "<IPython.core.display.HTML object>"
      ]
     },
     "metadata": {},
     "output_type": "display_data"
    },
    {
     "data": {
      "text/html": [
       " View project at <a href='https://wandb.ai/florin-barbisch/del-mc2' target=\"_blank\">https://wandb.ai/florin-barbisch/del-mc2</a>"
      ],
      "text/plain": [
       "<IPython.core.display.HTML object>"
      ]
     },
     "metadata": {},
     "output_type": "display_data"
    },
    {
     "data": {
      "text/html": [
       " View run at <a href='https://wandb.ai/florin-barbisch/del-mc2/runs/2pma8yog' target=\"_blank\">https://wandb.ai/florin-barbisch/del-mc2/runs/2pma8yog</a>"
      ],
      "text/plain": [
       "<IPython.core.display.HTML object>"
      ]
     },
     "metadata": {},
     "output_type": "display_data"
    },
    {
     "name": "stdout",
     "output_type": "stream",
     "text": [
      "time: 0.09020590782165527\n",
      "Epoch: 0, Batch: 0, Loss: 3.466341257095337\n",
      "time: 8.979271411895752\n",
      "Epoch: 0, Batch: 100, Loss: 3.4793732166290283\n"
     ]
    },
    {
     "data": {
      "text/html": [
       "Waiting for W&B process to finish... <strong style=\"color:red\">(failed 1).</strong> Press Ctrl-C to abort syncing."
      ],
      "text/plain": [
       "<IPython.core.display.HTML object>"
      ]
     },
     "metadata": {},
     "output_type": "display_data"
    }
   ],
   "source": [
    "with wandb.init(project=\"del-mc2\", entity=\"florin-barbisch\", config=config) as run:\n",
    "\n",
    "    train_loader = get_data_loader(train_dataset, config)\n",
    "    val_loader = get_data_loader(val_dataset, config)\n",
    "\n",
    "    # create the model\n",
    "    image_encoder   = Encoder(512) \\\n",
    "                            .to(config[\"device\"])\n",
    "    caption_decoder = Decoder(512, 1, len(vocab), 40, vocab.pad_idx, vocab.sos_idx, vocab.eos_idx) \\\n",
    "                            .to(config[\"device\"])\n",
    "    \n",
    "    # define the loss function\n",
    "    loss_function = nn.NLLLoss(ignore_index=config[\"pad_idx\"])\n",
    "\n",
    "    parameters = list(image_encoder.parameters()) + list(caption_decoder.parameters())\n",
    "\n",
    "    optimizer = torch.optim.Adam(parameters, lr=config[\"learning_rate\"])\n",
    "\n",
    "    start_time = time.time()\n",
    "    # train the model\n",
    "    for epoch in range(config[\"epochs\"]):\n",
    "        for i, batch in enumerate(train_loader):\n",
    "            # set to training mode\n",
    "            image_encoder.train()\n",
    "            caption_decoder.train()\n",
    "\n",
    "            # unpack batch and send to device\n",
    "            images, captions = batch\n",
    "            images   = images  .to(config[\"device\"])\n",
    "            captions = captions.to(config[\"device\"])\n",
    "\n",
    "            # encode images\n",
    "            image_features = image_encoder(images).unsqueeze(0)\n",
    "\n",
    "            # initialize hidden and cell states\n",
    "            hidden = caption_decoder.hidden_state_0.repeat(1, images.size(0), 1)\n",
    "            cell = caption_decoder.cell_state_0.repeat(1, images.size(0), 1)\n",
    "\n",
    "            # decode\n",
    "            outputs, (hidden, cell) = caption_decoder(image_features, captions, hidden, cell)\n",
    "\n",
    "            # remove last token from outputs\n",
    "            outputs = outputs[:-1]\n",
    "\n",
    "            # calculate loss\n",
    "            loss = loss_function(outputs.reshape(-1, outputs.size(2)), captions.reshape(-1))\n",
    "\n",
    "            # backpropagate\n",
    "            optimizer.zero_grad()\n",
    "            loss.backward()\n",
    "            optimizer.step()\n",
    "\n",
    "            wandb.log({\"loss\": loss.item()})\n",
    "\n",
    "            if i % 100 == 0:\n",
    "                print(f\"time: {time.time() - start_time}\")\n",
    "                print(f'Epoch: {epoch}, Batch: {i}, Loss: {loss.item()}')\n"
   ]
  }
 ],
 "metadata": {
  "kernelspec": {
   "display_name": ".venv",
   "language": "python",
   "name": "python3"
  },
  "language_info": {
   "codemirror_mode": {
    "name": "ipython",
    "version": 3
   },
   "file_extension": ".py",
   "mimetype": "text/x-python",
   "name": "python",
   "nbconvert_exporter": "python",
   "pygments_lexer": "ipython3",
   "version": "3.10.10"
  },
  "orig_nbformat": 4
 },
 "nbformat": 4,
 "nbformat_minor": 2
}
