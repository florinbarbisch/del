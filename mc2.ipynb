{
 "cells": [
  {
   "cell_type": "code",
   "execution_count": 1,
   "metadata": {},
   "outputs": [],
   "source": [
    "import os\n",
    "import time\n",
    "from collections import OrderedDict\n",
    "from typing import Tuple\n",
    "import pandas as pd\n",
    "import numpy as np\n",
    "import matplotlib.pyplot as plt\n",
    "from tqdm import tqdm\n",
    "\n",
    "from PIL import Image\n",
    "\n",
    "import torch\n",
    "import torch.nn as nn\n",
    "import torch.nn.functional as F\n",
    "from torch.utils.data import Dataset, DataLoader, random_split\n",
    "from torchvision import models\n",
    "from torchvision.transforms.functional import to_tensor\n",
    "from torchmetrics import BLEUScore\n",
    "\n",
    "import pytorch_lightning as pl\n",
    "from pytorch_lightning import Trainer\n",
    "from pytorch_lightning.loggers import WandbLogger\n",
    "\n",
    "from nltk.tokenize import word_tokenize, RegexpTokenizer\n",
    "from sklearn.model_selection import train_test_split\n",
    "\n",
    "import wandb\n",
    "\n",
    "\n",
    "# set WANDB_NOTEBOOK_NAME \n",
    "os.environ['WANDB_NOTEBOOK_NAME'] = 'mc2.ipynb'\n"
   ]
  },
  {
   "attachments": {},
   "cell_type": "markdown",
   "metadata": {},
   "source": [
    "# Challenge\n",
    "Aufgabe dieser Mini-Challenge ist es ein Image Catptioning Modell zu bauen, dass auf dem Paper [Show and Tell: A Neural Image Caption Generator](https://arxiv.org/pdf/1411.4555.pdf) basiert. Das Modell soll in der Lage sein, eine Beschreibung zu einem Bild zu generieren. Das Modell basiert auf einem Encoder, welche das Bild in ein Imageembedding transformiert und einem Decoder (ein LSTM), welcher die Beschreibung generiert. Input des LSTM ist zuerst das Imageembedding und dann der das Embedding des Starttoken. Der Output des LSTM bildet die Basis für die Generierung des nächsten Wortes. Das Modell wird mit dem Flickr8k Dataset trainiert."
   ]
  },
  {
   "attachments": {},
   "cell_type": "markdown",
   "metadata": {},
   "source": [
    "# Config\n",
    "\n",
    "In der config werden diverse Hyperparameter festgehalten. Wichtig ist vorallem der Parameter seed, welcher beim train-test-split für Reproduzierbarkeit sorgt. So besteht das Testset auch zwischen mehreren Runs aus den gleichen Bildern."
   ]
  },
  {
   "cell_type": "code",
   "execution_count": 112,
   "metadata": {},
   "outputs": [
    {
     "data": {
      "text/plain": [
       "{'epochs': 150,\n",
       " 'batch_size': 128,\n",
       " 'learning_rate': 0.001,\n",
       " 'accelerator': 'gpu',\n",
       " 'image_dir': 'flickr8k/images',\n",
       " 'caption_file': 'flickr8k/captions.txt',\n",
       " 'embedding_dim': 512,\n",
       " 'hidden_dim': 512,\n",
       " 'lstm_layers': 1,\n",
       " 'max_caption_length': 15,\n",
       " 'beam_size': 2,\n",
       " 'seed': 42,\n",
       " 'debug': False}"
      ]
     },
     "execution_count": 112,
     "metadata": {},
     "output_type": "execute_result"
    }
   ],
   "source": [
    "config = dict(\n",
    "    epochs=150,\n",
    "    batch_size=128,\n",
    "    learning_rate=0.001,\n",
    "    accelerator='gpu' if torch.cuda.is_available() else None,\n",
    "    image_dir = 'flickr8k/images',\n",
    "    caption_file = 'flickr8k/captions.txt',\n",
    "    embedding_dim = 512,\n",
    "    hidden_dim = 512,\n",
    "    lstm_layers = 1,\n",
    "    max_caption_length = 15,\n",
    "    beam_size = 2,\n",
    "    seed = 42,\n",
    "    debug = False,\n",
    ")\n",
    "\n",
    "config"
   ]
  },
  {
   "attachments": {},
   "cell_type": "markdown",
   "metadata": {},
   "source": [
    "# Vocabulary\n",
    "\n",
    "Dem Computer kann man nicht einfach ganze Sätze füttern. Sie müssen so transformiert werden, dass sie mit mathematischen Operationen weiter verarbeitet werden können. Dazu werden die Sätze in Tokens aufgeteilt. Dazu gibt es mehrere Ansätze. Ein einfacher Ansatz ist, Spezialzeichen zu entfernen, alles kleinschreiben und für jedes Wort ein Token zu erstellen. Diesen haben ich hier verwendet. Um das Training zu erleichtern, werden vier Spezialtokens definiert:\n",
    "- `<sos>` Markiert den Start einer Beschreibung. Das wird später der erste Token sein, dessen Embedding nach dem Imageembedding in das LSTM gefüttert wird.\n",
    "- `<eos>` Markiert das Ende einer Beschreibung. Damit wissen wir später, wann das LSTM uns sagt, dass die Beschreibung fertig ist.\n",
    "- `<pad>` Da die Beschreibungen unterschiedlich lang sind und wir das Trainieren batched durchführen wollen, müssen wir die Beschreibungen auf eine feste Länge bringen. Dazu werden kurze Beschreibungen mit dem padding token aufgefüllt. So können wir auch einfach beim Loss sagen, welche Tokens ignoriert werden sollen.\n",
    "- `<unk>` Damit Wörter, die nicht in den Trainingsdaten vorkommen, auch enkodiert werden können gibt es ein Unknown token. Das `<unk>` Token hat des Weiteren den Vorteil, dass nicht für jedes Wort (z.B. Wörter mit Tippfehlern) ein Token erstellt werden muss. Somit kann man das Vokabular klein halten (spart Computingressouren).\n",
    "\n",
    "Es werden alle Wörter weggelassen, die weniger als 3 mal vorkommen. Das Vokabular ist somit nur noch halb so gross (4097 Tokens)."
   ]
  },
  {
   "cell_type": "code",
   "execution_count": 113,
   "metadata": {},
   "outputs": [
    {
     "name": "stdout",
     "output_type": "stream",
     "text": [
      "Vocab size: 4097, Pad index: 0, SOS index: 1, EOS index: 2\n"
     ]
    }
   ],
   "source": [
    "class Vocab():\n",
    "\n",
    "    def __init__(self, captions_file, tokenizer):\n",
    "        self.tokenizer = tokenizer\n",
    "        self.captions_file = captions_file\n",
    "        self.build_vocab()\n",
    "\n",
    "    def build_vocab(self):\n",
    "        vocab = OrderedDict()\n",
    "\n",
    "        # Add special tokens\n",
    "        vocab['<pad>'] = None\n",
    "        vocab['<sos>'] = None\n",
    "        vocab['<eos>'] = None\n",
    "        vocab['<unk>'] = None\n",
    "\n",
    "        captions = pd.read_csv(config[\"caption_file\"], delimiter='|')['caption_text'].str.lower() \\\n",
    "                                                         .replace(r\"[^a-zA-Z0-9\\s]+\", \"\", regex=True) \\\n",
    "                                                         .replace(r'\\s+', ' ', regex=True)\n",
    "        if config[\"debug\"]:\n",
    "            captions = captions[:500:5]\n",
    "        \n",
    "        token_freq = {}\n",
    "        for caption in captions:\n",
    "            for token in self.tokenizer(caption):\n",
    "                if token not in token_freq:\n",
    "                    token_freq[token] = 1\n",
    "                else:\n",
    "                    token_freq[token] += 1\n",
    "\n",
    "        for token, freq in token_freq.items():\n",
    "            if freq >= 3:\n",
    "                vocab[token] = None\n",
    "\n",
    "\n",
    "        self.idx2word = list(vocab.keys())\n",
    "        self.word2idx = {word: idx for idx, word in enumerate(self.idx2word)}\n",
    "\n",
    "        self.pad_idx = self.word2idx['<pad>']\n",
    "        self.sos_idx = self.word2idx['<sos>']\n",
    "        self.eos_idx = self.word2idx['<eos>']\n",
    "\n",
    "    def __len__(self):\n",
    "        return len(self.idx2word)\n",
    "\n",
    "    def token_to_idx(self, token):\n",
    "        if token not in self.word2idx:\n",
    "            return self.word2idx['<unk>']\n",
    "        else:\n",
    "            return self.word2idx[token]\n",
    "\n",
    "    def idx_to_token(self, idx):\n",
    "        return self.idx2word[idx]\n",
    "\n",
    "\n",
    "special_word_tokenizer = RegexpTokenizer( r'(?:\\w+|<\\w+>)') # capture special <word> tokens\n",
    "\n",
    "vocab = Vocab(config[\"caption_file\"], tokenizer=special_word_tokenizer.tokenize)\n",
    "\n",
    "print(f'Vocab size: {len(vocab)}, Pad index: {vocab.pad_idx}, SOS index: {vocab.sos_idx}, EOS index: {vocab.eos_idx}')"
   ]
  },
  {
   "cell_type": "code",
   "execution_count": 4,
   "metadata": {},
   "outputs": [
    {
     "name": "stdout",
     "output_type": "stream",
     "text": [
      "Original string: a brown dog is running on the grass, like florin!\n",
      "Tokenized string: ['a', 'brown', 'dog', 'is', 'running', 'on', 'the', 'grass', 'like', 'florin']\n",
      "Tokenized string indices: [4, 42, 29, 9, 114, 39, 24, 66, 1160, 3]\n",
      "Converted string: ['a', 'brown', 'dog', 'is', 'running', 'on', 'the', 'grass', 'like', '<unk>']\n"
     ]
    }
   ],
   "source": [
    "# debug vocab\n",
    "test_string = 'a brown dog is running on the grass, like florin!'\n",
    "print(f'Original string: {test_string}')\n",
    "tokenized_string = special_word_tokenizer.tokenize(test_string)\n",
    "print(f'Tokenized string: {tokenized_string}')\n",
    "tokenized_string_idx = [vocab.token_to_idx(token) for token in tokenized_string]\n",
    "print(f'Tokenized string indices: {tokenized_string_idx}')\n",
    "converted_string = [vocab.idx_to_token(idx) for idx in tokenized_string_idx]\n",
    "print(f'Converted string: {converted_string}')"
   ]
  },
  {
   "attachments": {},
   "cell_type": "markdown",
   "metadata": {},
   "source": [
    "So sieht ein Satz aus, welcher tokenized wurde und wieder zurück konvertiert wurde."
   ]
  },
  {
   "attachments": {},
   "cell_type": "markdown",
   "metadata": {},
   "source": [
    "# Dataset\n",
    "Das Dataset liesst die Beschreibungen und Bilder ein. Da ich aber im Traindataset nicht die gleichen Bilder wie im Testdataset haben möchte, kann man eine Liste mit image_ids mitgeben, nach denen gefiltert wird. Um das trainieren zu Beschleunigen, lese ich die Bilder schon beim Initialisieren ein und halte sie im Memory. Dort wende ich auch auch gleich eine Transformation an. Als Transformation verwende ich die selbe, wie sie auch auf dem Bildern für die vortrainierten Modelle verwendet wurde. Für die beiden Modelle (resnet50, densenet201) die ich verwende sind die Transformationen wie folgt: \n",
    "- Resize auf 232x232 (mit Bilinearer Interpolation für zu kleine Bilder)\n",
    "- Zentrales Cropping auf 224x224\n",
    "- Skalieren der Werte auf [0.0, 1.0]\n",
    "- Dann normalisieren mit mean=[0.485, 0.456, 0.406], std=[0.229, 0.224, 0.225]\n",
    "\n",
    "Die Option `group_by_image` ermöglicht es, die Datenpunkte nach Bilder zu gruppieren und dann alle Captions auf einmal zurückzugeben. Sonst wird immer eine Caption mit dem dazugehörigen Bild zurückgegeben. Wenn ich auf den Testdaten den BLEU-Score berechne, dann brauche ich aber alle Captions für das Bild. Deshalb habe ich diese Option eingeführt."
   ]
  },
  {
   "cell_type": "code",
   "execution_count": 115,
   "metadata": {},
   "outputs": [],
   "source": [
    "class Flickr8kDataset(Dataset):\n",
    "    def __init__(self, root_dir, captions_file, image_ids, tokenizer, vocab, transform=None, group_by_image=False):\n",
    "        \"\"\"\n",
    "        Args:\n",
    "            root_dir (string): Directory with all the images.\n",
    "            captions_file (string): Path to the txt file with captions.\n",
    "            image_ids (list): List of image ids to use.\n",
    "            tokenizer (callable): Tokenizer for captions.\n",
    "            vocab (Vocab): Vocab object.\n",
    "            transform (callable, optional): Optional transform to be applied\n",
    "                on a image sample.\n",
    "            group_by_image (bool): Group captions by image. If True then each image will return all its captions.\n",
    "        \"\"\"\n",
    "        self.root_dir = root_dir\n",
    "        self.df = pd.read_csv(captions_file, delimiter='|')\n",
    "        if image_ids is not None:\n",
    "            self.df = self.df[self.df['image_name'].isin(image_ids)]\n",
    "        if config[\"debug\"]:\n",
    "            # select only the first 10 images for testing\n",
    "            self.df = self.df[:100:1]\n",
    "        self.transform = transform\n",
    "        self.tokenizer = tokenizer\n",
    "        self.vocab = vocab\n",
    "        self.group_by_image = group_by_image\n",
    "\n",
    "        # clean caption_text\n",
    "        self.df['caption_text'] = self.df['caption_text'].str.lower() \\\n",
    "                                                         .replace(r\"[^a-zA-Z0-9\\s]+\", \"\", regex=True) \\\n",
    "                                                         .replace(r'\\s+', \" \", regex=True)\n",
    "        # append <start> and <end> to caption_text\n",
    "        self.df['caption_text'] = self.df['caption_text'].apply(lambda x: '<sos> ' + x + ' <eos>') \\\n",
    "                                                         .apply(lambda x: torch.LongTensor(self._caption_to_idx(x)))\n",
    "        # store memory\n",
    "        self.captions_image_names = list(zip(self.df['caption_text'], self.df['image_name']))\n",
    "        \n",
    "        self.images = {}\n",
    "\n",
    "        # load all images into memory\n",
    "        for img_name in tqdm(self.df['image_name'].unique()):\n",
    "            img_path = os.path.join(self.root_dir, img_name)\n",
    "            image = Image.open(img_path).convert('RGB')\n",
    "            \n",
    "            if self.transform:\n",
    "                image = self.transform(image)\n",
    "\n",
    "            self.images[img_name] = image\n",
    "\n",
    "    def _caption_to_idx(self, caption):\n",
    "        return [self.vocab.token_to_idx(word) for word in self.tokenizer(caption)]\n",
    "    \n",
    "    def __len__(self):\n",
    "        if self.group_by_image:\n",
    "            return len(self.images)\n",
    "        else:\n",
    "            return len(self.df)\n",
    "\n",
    "    def __getitem__(self, idx):\n",
    "        if self.group_by_image:\n",
    "            img_name = list(self.images.keys())[idx]\n",
    "            image = self.images[img_name]\n",
    "            captions = self.df[self.df['image_name'] == img_name]['caption_text'].tolist()\n",
    "            return image, captions, img_name\n",
    "        else:\n",
    "            caption, img_name = self.captions_image_names[idx]\n",
    "            image = self.images[img_name]\n",
    "            return image, caption, img_name"
   ]
  },
  {
   "attachments": {},
   "cell_type": "markdown",
   "metadata": {},
   "source": [
    "Die Sequenzen wie sie vom Dataset zurückgegeben werden, haben nicht alle die gleiche Länge (weil die Beschreibung der Bilder auch nicht immer gleich lange ist). Damit sie aber in eine zwei-dimensionale Matrix abgespeichert werden können, müssen alle die gleiche Länge haben. Dies kann man erreichen indem man alle zu kurzen Sequenzen mit dem Padding-Token auffüllt, sodass alle Sequenzen gleichlange sind.  "
   ]
  },
  {
   "cell_type": "code",
   "execution_count": 100,
   "metadata": {},
   "outputs": [],
   "source": [
    "class Collate:\n",
    "    def __init__(self, pad_idx):\n",
    "        self.pad_idx = pad_idx\n",
    "    \n",
    "    def __call__(self, batch):\n",
    "        images, captions, image_ids = zip(*batch)\n",
    "        images = torch.stack(images)\n",
    "        image_ids = list(image_ids)\n",
    "        if isinstance(captions[0], list): # for group_by_image=True\n",
    "            captions = [torch.nn.utils.rnn.pad_sequence(caption, batch_first=True, padding_value=self.pad_idx) for caption in captions]\n",
    "        else:\n",
    "            captions = nn.utils.rnn.pad_sequence(captions, batch_first=True, padding_value=self.pad_idx)\n",
    "        return images, captions, image_ids"
   ]
  },
  {
   "cell_type": "code",
   "execution_count": 101,
   "metadata": {},
   "outputs": [
    {
     "name": "stderr",
     "output_type": "stream",
     "text": [
      "100%|██████████| 20/20 [00:00<00:00, 47.52it/s]\n"
     ]
    }
   ],
   "source": [
    "dataset_group_by_image = Flickr8kDataset(config[\"image_dir\"],\n",
    "                          config[\"caption_file\"],\n",
    "                          None,\n",
    "                          special_word_tokenizer.tokenize,\n",
    "                          vocab,\n",
    "                          models.ResNet50_Weights.IMAGENET1K_V1.transforms(),\n",
    "                          group_by_image=True)"
   ]
  },
  {
   "cell_type": "code",
   "execution_count": 103,
   "metadata": {},
   "outputs": [
    {
     "name": "stderr",
     "output_type": "stream",
     "text": [
      "Clipping input data to the valid range for imshow with RGB data ([0..1] for floats or [0..255] for integers).\n"
     ]
    },
    {
     "data": {
      "image/png": "[encoded data removed]",
      "text/plain": [
       "<Figure size 432x288 with 1 Axes>"
      ]
     },
     "metadata": {
      "needs_background": "light"
     },
     "output_type": "display_data"
    }
   ],
   "source": [
    "data_loader_group_by_image = DataLoader(dataset_group_by_image,\n",
    "                         batch_size=config[\"batch_size\"],\n",
    "                         shuffle=False,\n",
    "                         pin_memory=True,\n",
    "                         collate_fn=Collate(vocab.pad_idx))\n",
    "for i, (images, captions, image_ids) in enumerate(data_loader_group_by_image):\n",
    "    token_captions = captions[0]\n",
    "    reconstructed_caption = [[vocab.idx_to_token(idx) for idx in token_caption] for token_caption in token_captions]\n",
    "    plt.imshow(images[0].permute(1, 2, 0))\n",
    "    strs = '.\\n'.join([' '.join(cap) for cap in reconstructed_caption])\n",
    "    plt.title(f\"caption: {strs}\")\n",
    "    plt.tight_layout()\n",
    "    plt.show()\n",
    "    break"
   ]
  },
  {
   "attachments": {},
   "cell_type": "markdown",
   "metadata": {},
   "source": [
    "Hier ist ein Bild mit den 5 captions (tokenized) zu sehen. Da das Bild schon transformiert wurde, wird es von matplotlib nicht richtig dargestellt. Aber man erkennt trotzdem noch, dass das Bild zu den Beschreibungen passt."
   ]
  },
  {
   "cell_type": "code",
   "execution_count": 47,
   "metadata": {},
   "outputs": [
    {
     "name": "stderr",
     "output_type": "stream",
     "text": [
      "100%|██████████| 8091/8091 [01:25<00:00, 94.75it/s]\n"
     ]
    }
   ],
   "source": [
    "test_dataset = Flickr8kDataset(config[\"image_dir\"],\n",
    "                          config[\"caption_file\"],\n",
    "                          None,\n",
    "                          special_word_tokenizer.tokenize,\n",
    "                          vocab,\n",
    "                          models.ResNet50_Weights.IMAGENET1K_V1.transforms(),\n",
    "                          group_by_image=False)\n",
    "test_data_loader = DataLoader(test_dataset,\n",
    "                         batch_size=config[\"batch_size\"],\n",
    "                         shuffle=False,\n",
    "                         pin_memory=True,\n",
    "                         collate_fn=Collate(vocab.pad_idx))"
   ]
  },
  {
   "cell_type": "code",
   "execution_count": 61,
   "metadata": {},
   "outputs": [
    {
     "name": "stderr",
     "output_type": "stream",
     "text": [
      " 20%|██        | 64/317 [00:25<01:41,  2.48it/s]\n"
     ]
    }
   ],
   "source": [
    "# analyze the captions lengths\n",
    "lengths = []\n",
    "total_data_loader_len = len(test_data_loader)\n",
    "for i, (images, captions, image_ids) in tqdm(enumerate(test_loader), total=total_data_loader_len):\n",
    "    for caption in captions:\n",
    "        lengths.append(np.array(caption.size(1) - (caption == vocab.pad_idx).sum(dim=1)))"
   ]
  },
  {
   "cell_type": "code",
   "execution_count": 59,
   "metadata": {},
   "outputs": [
    {
     "data": {
      "text/plain": [
       "(40455,)"
      ]
     },
     "execution_count": 59,
     "metadata": {},
     "output_type": "execute_result"
    }
   ],
   "source": [
    "# convert lengths to numpy array\n",
    "np.concatenate(lengths).shape"
   ]
  },
  {
   "attachments": {},
   "cell_type": "markdown",
   "metadata": {},
   "source": [
    "Der Datensatz Flickr8k beinhaltet 8091 Bilder und 40455 Beschreibungen dazu."
   ]
  },
  {
   "cell_type": "code",
   "execution_count": 60,
   "metadata": {},
   "outputs": [
    {
     "name": "stdout",
     "output_type": "stream",
     "text": [
      "Captions lengths shape: (40455,)\n"
     ]
    },
    {
     "data": {
      "image/png": "[encoded data removed]",
      "text/plain": [
       "<Figure size 432x288 with 1 Axes>"
      ]
     },
     "metadata": {
      "needs_background": "light"
     },
     "output_type": "display_data"
    }
   ],
   "source": [
    "lengths_arr = np.concatenate(lengths)\n",
    "\n",
    "print(\"Captions lengths shape:\", lengths_arr.shape)\n",
    "\n",
    "plt.hist(lengths_arr, bins=20)\n",
    "plt.title(\"Captions lengths, mean={:.2f}\".format(lengths_arr.mean()))\n",
    "plt.show()\n"
   ]
  },
  {
   "attachments": {},
   "cell_type": "markdown",
   "metadata": {},
   "source": [
    "Hier ist die Verteilung der Länge der Beschreibungen zu sehen. Die meisten Beschreibungen sind zwischen 10 und 15 Wörter lang. Die wenigsten Beschreibungen sind länger als 30 Wörter. Das hat mich dazu bewegt, die max_length auf 30 zu setzen."
   ]
  },
  {
   "attachments": {},
   "cell_type": "markdown",
   "metadata": {},
   "source": [
    "# Model v1"
   ]
  },
  {
   "attachments": {},
   "cell_type": "markdown",
   "metadata": {},
   "source": [
    "Das Modell besteht aus einem Encoder und Decoder. Des Encoder setzt sich aus dem Modell Resnet50 (welche auf sogenannten Residualblocks besteht: (Die Daten teilen sich auf, ein Pfad führt durch zwei Convolutionlayers wonach das Resultat mit dem anderen Pfad (der keine Berechnungen durchläuft) zusammen addiert wird)), einem Linearlayer und Batchnorm-Layer besteht. Die Layer des Resnets werden gefreezed und nicht neu trainiert. Das nennt sich Transfer-Learning. Diese Featureextraction ist dazu da, das Bild in einem kleineren Raum zu embedden um es dann in das LSTM zu füttern. \n",
    "\n",
    "Der Decoder besteht aus drei Teilen: dem Embedding-Layer, dem LSTM und dem inversen Embedding-Layer.\n",
    "- Der Embedding-Layer kann die Tokens in einen Featurevektor transformieren. Dieser Vektor hat die gleiche Grösse wie das Embedding des Bildes. Damit kann auch dieses Embedding in das LSTM gefüttert werden.\n",
    "- Der inverse Embedding-Layer kann aus dem Output des LSTMs wieder Tokens berechnen (respektive die Wahrscheinlichkeit für jedes Token). Dazu wird der LogSoftmax verwendet. Dadurch kann beim optimieren der negative log likelihood als Loss verwendet werden. \n",
    "- Das LSTM ist das eigentliche Herzstück dieses Modells. Es nimmt die image und word embeddings und kann daraus das nächste Wort generieren. Dabei behält es einen hidden und cell state (das long und short term Memory) um sich über lang Zeit die Informationen aus dem Bild zu merken. Da LSTM ist eine Variante eines RNNs. Interessant ist, dass hier das Trainieren und Vorhersagen nicht genau abläuft. Während man beim Trainieren alle Embeddings auf einmal mitgibt (Teacher-Forcing) und so gleichzeitig das nächste Wort vorhersagen kann, muss man beim Vorhersagen die Embeddings nacheinander einfügen. Denn das nächste Embedding ergibt sich aus dem Output des vorherigen Embeddings.\n",
    "\n",
    "Um die Wörter vorherzusagen gibt es zwei Varianten: erstens Beam-Search und zweitens Greedy-Search (was ein Spezialfall von Beam-Search ist (mit k=1)). Bei Greedy-Search wird pro Bild/Token jeweils genau ein Token vorhergesagt und als nächsten LSTM-Input verwendet. Bei Beam-Search werden beim ersten Token die k besten Vorhersagen behalten. Beim nächsten Token werden dann für jedes der k Tokens die k besten Vorhersagen behalten. Damit die Anzahl der Pfade aber nicht exponentiell wächst, werden jeweils die k*k Vorhersagen wieder auf die k besten Vorhersagen reduziert. Wenn eine Sequenz das Endtoken vorhersagt, wird dieser Ast als beendet markiert. Für die restlichen Pfade wird Beamsearch so weitergeführt, bis alle k-Pfade das Endtoken erreicht haben oder die maximale Länge erreicht wurde. Die Sequenz mit der höchsten Wahrscheinlichkeit wird dann als Caption verwendet. Diese Wahrscheinlichkeit ist die Summe der Logarithmen der Wahrscheinlichkeiten der einzelnen Tokens. Da der Logarithmus nicht positiv ist, hat Beamsearch die Tendenz kürzere Beschreibungen zu wählen.\n",
    "\n",
    "Die Performance auf dem Testset wird mit dem BLEU-Score berechnet. Diese Metrik misst die Ähnlichkeit der generierten Beschreibung zu den 5 Referenzsätzen. Der BLEU-Score schaut ob die generierte Beschreibung die gleichen Wörter enthält wie die Referenzsätze. Dabei wird aber nicht nur die Übereinstimmung der Wörter betrachtet, sondern auch die Reihenfolge der Wörter.\n"
   ]
  },
  {
   "cell_type": "code",
   "execution_count": 104,
   "metadata": {},
   "outputs": [
    {
     "name": "stderr",
     "output_type": "stream",
     "text": [
      "c:\\Users\\flori\\miniconda3\\envs\\del\\lib\\site-packages\\torch\\nn\\modules\\rnn.py:67: UserWarning: dropout option adds dropout after all but last recurrent layer, so non-zero dropout expects num_layers greater than 1, but got dropout=0.5 and num_layers=1\n",
      "  warnings.warn(\"dropout option adds dropout after all but last \"\n"
     ]
    },
    {
     "name": "stdout",
     "output_type": "stream",
     "text": [
      "captions: torch.Size([32, 40])\n",
      "outputs: torch.Size([40, 32, 4097])\n",
      "loss: tensor(8.3196, device='cuda:0', grad_fn=<NllLossBackward0>)\n",
      "True\n",
      "True\n",
      "True\n",
      "True\n",
      "True\n",
      "True\n",
      "captions: torch.Size([40, 32])\n",
      "captions: ['travel', 'flapping', 'jockey', 'overhead', 'mesh', 'rocket', 'knit', 'mime', 'gaze', 'motorcyclists', 'rival', 'gazing', 'wrestler', 'fence', 'tea', 'shaved', 'sink', 'cat', 'shadow', 'move', 'stare', 'mop', 'distorted', 'acting', 'missing', 'vehicles', 'that', 'spaghetti', 'sparks', 'bush', 'oxen', 'teens']\n",
      "Generated caption: [[2129, 610, 2802, 3688, 1636, 2177, 3742, 524, 1962, 709, 3797, 1813, 1526, 2010, 245], [2129, 610, 2802, 3688, 1636, 2177, 3742, 524, 1962, 709, 3797, 1813, 1526, 2010, 245], [2129, 610, 2802, 3688, 1636, 2177, 3742, 524, 1962, 709, 3797, 1813, 1526, 2010, 245], [2129, 610, 2802, 3688, 1636, 2177, 3742, 524, 1962, 709, 3797, 1813, 1526, 2010, 245], [2129, 610, 2802, 3688, 1636, 2177, 3742, 524, 1962, 709, 3797, 1813, 1526, 2010, 245], [2129, 610, 2802, 3688, 1636, 2177, 3742, 524, 1962, 709, 3797, 1813, 1526, 2010, 245], [2129, 610, 2802, 3688, 1636, 2177, 3742, 524, 1962, 709, 3797, 1813, 1526, 2010, 245], [2129, 610, 2802, 3688, 1636, 2177, 3742, 524, 1962, 709, 3797, 1813, 1526, 2010, 245]]\n",
      "Generated caption: [[2129, 1601, 3012, 3519, 3073, 3177, 1808, 2101, 1291, 3396, 1903, 2707, 2707, 3151, 3151, 3338, 1398, 46, 164, 1302], [2129, 1601, 3012, 3519, 3073, 3177, 1808, 2101, 1291, 3396, 1903, 2707, 2707, 3151, 3151, 3338, 1398, 46, 164, 1302], [2129, 1601, 3012, 3519, 3073, 3177, 1808, 2101, 1291, 3396, 1903, 2707, 2707, 3151, 3151, 3338, 1398, 46, 164, 1302], [2129, 1601, 3012, 3519, 3073, 3177, 1808, 2101, 1291, 3396, 1903, 2707, 2707, 3151, 3151, 3338, 1398, 46, 164, 1302], [2129, 1601, 3012, 3519, 3073, 3177, 1808, 2101, 1291, 3396, 1903, 2707, 2707, 3151, 3151, 3338, 1398, 46, 164, 1302], [2064, 2411, 1601, 3494, 1071, 2091, 3078, 3302, 273, 95, 1174, 2384, 2100, 1113, 2617, 3741, 3741, 3616, 3616, 2231], [2129, 1601, 3012, 3519, 3073, 3177, 1808, 2101, 1291, 3396, 1903, 2707, 2707, 3151, 3151, 3338, 1398, 46, 164, 1302], [2129, 1601, 3012, 3519, 3073, 3177, 1808, 2101, 1291, 3396, 1903, 2707, 2707, 3151, 3151, 3338, 1398, 46, 164, 1302]]\n",
      "BLEU score: tensor(0., device='cuda:0')\n"
     ]
    }
   ],
   "source": [
    "\n",
    "class ImageCaptioning(pl.LightningModule):\n",
    "\n",
    "    def __init__(self, embedding_dim: int, lstm_layers: int, hidden_dim: int, vocabulary_size: int, padding_idx: int, learning_rate: float):\n",
    "        super(ImageCaptioning, self).__init__()\n",
    "\n",
    "        # Encoder\n",
    "        self.encoder = nn.Sequential(\n",
    "            nn.Sequential(*list(models.resnet50(weights=models.ResNet50_Weights.DEFAULT).children())[:-1]),\n",
    "            nn.Flatten(),\n",
    "            nn.Linear(models.resnet50().fc.in_features, embedding_dim),\n",
    "            nn.BatchNorm1d(embedding_dim)\n",
    "        )\n",
    "        for param in self.encoder[0].parameters():\n",
    "            param.requires_grad_(False)\n",
    "\n",
    "        # Decoder\n",
    "        self.decoder = nn.ModuleDict({\n",
    "            'embedding_layer': nn.Embedding(vocabulary_size, embedding_dim),\n",
    "            'lstm': nn.LSTM(input_size=embedding_dim, hidden_size=hidden_dim, num_layers=lstm_layers, dropout = 0.5),\n",
    "            'inv_embedding': nn.Sequential(nn.Linear(hidden_dim, vocabulary_size), nn.LogSoftmax(dim=2))\n",
    "        })\n",
    "        \n",
    "        self.learning_rate = learning_rate\n",
    "\n",
    "        self.bleu_score = BLEUScore(smooth=True)\n",
    "\n",
    "        self.save_hyperparameters()\n",
    "\n",
    "\n",
    "    def forward(self, images: torch.Tensor, captions: torch.Tensor) -> torch.Tensor:\n",
    "        # Encoder forward\n",
    "        # images: (batch_size, channels, pixels, pixels)\n",
    "        image_embedding = self.encoder(images) # (batch_size, embedding_dim)\n",
    "\n",
    "        # Decoder forward\n",
    "        word_embeddings = self.decoder['embedding_layer'](captions).permute(1, 0, 2) # (seq_len, batch_size, embedding_dim)\n",
    "        \n",
    "        embeddings = torch.cat((image_embedding.unsqueeze(0), word_embeddings), dim=0)\n",
    "\n",
    "        outputs, _ = self.decoder['lstm'](embeddings) # (seq_len, batch_size, embedding_dim)\n",
    "        outputs = self.decoder['inv_embedding'](outputs) # (seq_len, batch_size, vocab_size)\n",
    "        return outputs\n",
    "\n",
    "\n",
    "    def configure_optimizers(self):\n",
    "        return torch.optim.Adam(filter(lambda p: p.requires_grad, self.parameters()), lr=self.learning_rate, weight_decay=0.0001)\n",
    "\n",
    "    \n",
    "    def training_step(self, batch, batch_idx):\n",
    "        self.train()\n",
    "        images, captions, image_ids = batch\n",
    "        outputs = self(images, captions[:,:-1])\n",
    "        outputs = outputs[1:].reshape(-1, outputs.size(2)) # remove the first word from the output\n",
    "        captions = captions.permute(1, 0)[1:].reshape(-1) # remove the first word from the target\n",
    "        loss = F.nll_loss(outputs, captions, ignore_index=int(vocab.pad_idx))\n",
    "        self.log('train_loss', loss)\n",
    "        return loss\n",
    "\n",
    "    def validation_step(self, batch, batch_idx):\n",
    "        self.eval()\n",
    "        images, captions, image_ids = batch\n",
    "        outputs = self(images, captions[:,:-1])\n",
    "        outputs = outputs[1:].reshape(-1, outputs.size(2)) # remove the first word from the output\n",
    "        captions = captions.permute(1, 0)[1:].reshape(-1) # remove the first word from the target\n",
    "        loss = F.nll_loss(outputs, captions, ignore_index=int(vocab.pad_idx))\n",
    "        self.log('val_loss', loss)\n",
    "        return loss\n",
    "    \n",
    "\n",
    "    def test_step(self, batch, batch_idx, beam_size: int = 2):\n",
    "        \"\"\"\n",
    "        Compute the BLEU score for the generated captions\n",
    "        \"\"\"\n",
    "        self.eval()\n",
    "        images, target_caption_groups, image_ids = batch # captions contain all the 5 possible captions for each image\n",
    "        outputs_gredy = self.sample_greedy(images, max_length=config[\"max_caption_length\"])\n",
    "        outputs_beam = self.sample_beam(images, max_length=config[\"max_caption_length\"], beam_size=config[\"beam_size\"])\n",
    "\n",
    "        # filter out the <eos>, <sos> and <pad> tokens\n",
    "        generated_sentences_greedy = []\n",
    "        for caption in outputs_gredy:\n",
    "            tokens = []\n",
    "            for idx in caption:\n",
    "                if idx != vocab.eos_idx:\n",
    "                    tokens.append(vocab.idx_to_token(idx))\n",
    "                else:\n",
    "                    break \n",
    "            generated_sentences_greedy.append(\" \".join(tokens))\n",
    "        \n",
    "        generated_sentences_beam = []\n",
    "        for caption in outputs_beam:\n",
    "            tokens = []\n",
    "            for idx in caption:\n",
    "                if idx != vocab.eos_idx:\n",
    "                    tokens.append(vocab.idx_to_token(idx))\n",
    "                else:\n",
    "                    break \n",
    "            generated_sentences_beam.append(\" \".join(tokens))\n",
    "\n",
    "        target_sentence_groups = []\n",
    "        for target_caption_group in target_caption_groups:\n",
    "            target_sentences = []\n",
    "            for caption in target_caption_group:\n",
    "                tokens = []\n",
    "                for idx in caption:\n",
    "                    if idx == vocab.sos_idx:\n",
    "                        continue\n",
    "                    if idx != vocab.eos_idx:\n",
    "                        tokens.append(vocab.idx_to_token(idx))\n",
    "                    else:\n",
    "                        break \n",
    "                target_sentences.append(\" \".join(tokens))\n",
    "            target_sentence_groups.append(target_sentences)\n",
    "\n",
    "        self.log_dict({\n",
    "            'bleu_score_greedy': self.bleu_score(generated_sentences_greedy, target_sentence_groups),\n",
    "            'bleu_score_beam': self.bleu_score(generated_sentences_beam, target_sentence_groups)\n",
    "        })\n",
    "\n",
    "    def sample_greedy(self, images: torch.Tensor, max_length: int = 15):\n",
    "        self.eval()\n",
    "        image_embeddings = self.encoder(images).unsqueeze(0) # (1, batch_size, embedding_dim)\n",
    "        input_tokens = torch.tensor([[vocab.sos_idx]], device=images.device).repeat(1, images.size(0)) # (1, batch_size)\n",
    "\n",
    "        output, hidden = self.decoder['lstm'](image_embeddings)\n",
    "\n",
    "        generated_captions = []\n",
    "        for _ in range(max_length):\n",
    "            # Embed the input\n",
    "            input_embeddings = self.decoder['embedding_layer'](input_tokens)\n",
    "            \n",
    "            # LSTM forward\n",
    "            outputs, hidden = self.decoder['lstm'](input_embeddings, hidden)\n",
    "            outputs = self.decoder['inv_embedding'](outputs)\n",
    "            \n",
    "            # Get the maximum probable words (greedy decoding)\n",
    "            predicted_word_idx = outputs.argmax(dim=2)\n",
    "            generated_captions.append(predicted_word_idx)\n",
    "\n",
    "            input_tokens = predicted_word_idx # (1, batch_size)\n",
    "\n",
    "        return torch.cat(generated_captions, dim=0).permute(1, 0).tolist() # (batch_size, max_length)\n",
    "\n",
    "    def sample_beam(self, images: torch.Tensor, max_length: int = 20, beam_size: int = 2):\n",
    "        self.eval()\n",
    "        batch_size = images.size(0)\n",
    "        image_embeddings = self.encoder(images).unsqueeze(0) # (1, batch_size, embedding_dim)\n",
    "        \n",
    "        # loop over the batch\n",
    "        generated_captions = []\n",
    "        for i in range(batch_size):\n",
    "            image_embedding = image_embeddings[:, i, :] # (1,  embedding_dim)\n",
    "            input_token = torch.tensor([[vocab.sos_idx]], device=images.device) # (1,1)\n",
    "            \n",
    "            outputs, (hidden, cell) = self.decoder['lstm'](image_embedding) # (1, embedding_dim), ((1, embedding_dim), (1, embedding_dim))\n",
    "            \n",
    "            final_beams = []\n",
    "            beam = [(input_token, 0, (hidden.unsqueeze(0), cell.unsqueeze(0)))] # (token, score, (h_n, c_n))\n",
    "            for _ in range(max_length):\n",
    "                # print(\"Iteration:\", _)\n",
    "                input_embeddings = self.decoder['embedding_layer'](torch.cat([tokens[-1] for tokens, _, _ in beam], dim=0)).unsqueeze(0) # (1, beam_size[old], embedding_dim)\n",
    "\n",
    "                # LSTM forward\n",
    "                hidden = torch.cat([h_n for _, _, (h_n, c_n) in beam], dim=1)#.unsqueeze(0) # (1, beam_size[old], embedding_dim)\n",
    "                cell = torch.cat([c_n for _, _, (h_n, c_n) in beam], dim=1)#.unsqueeze(0) # (1, beam_size[old], embedding_dim)\n",
    "\n",
    "                outputs, (hidden, cell) = self.decoder['lstm'](input_embeddings, (hidden, cell)) # (1, beam_size[old], embedding_dim), ()\n",
    "                outputs = self.decoder['inv_embedding'](outputs) # (1, beam_size[old], vocab_size)\n",
    "\n",
    "                # Get the maximum probable beam_size words (beam search)\n",
    "                predicted_word_idx = outputs.topk(beam_size, dim=2) # (values, indices): ((1, beam_size[old], beam_size[new]), (1, beam_size[old], beam_size[new]))\n",
    "                # select the top beam_size words for each beam\n",
    "                new_beam = []\n",
    "                for ii, (token, score, (h_n, c_n)) in enumerate(beam):\n",
    "                    for j in range(beam_size):\n",
    "                        new_token = torch.cat([token, predicted_word_idx[1][:, ii, j].unsqueeze(1)], dim=0)\n",
    "                        new_score = score + predicted_word_idx[0][:, ii, j] # log softmax can be added to get the probability\n",
    "                        new_hidden = hidden[:, ii, :].unsqueeze(0)\n",
    "                        new_cell = cell[:, ii, :].unsqueeze(0)\n",
    "                        new_beam.append((new_token, new_score, (new_hidden, new_cell)))\n",
    "                beam = []\n",
    "\n",
    "                # filter out finished beams\n",
    "                for b in new_beam:\n",
    "                    if b[0][-1] == vocab.eos_idx:\n",
    "                        final_beams.append(b)\n",
    "                    else:\n",
    "                        beam.append(b)\n",
    "                \n",
    "                # sort the beam by score\n",
    "                beam = sorted(beam, key=lambda x: x[1], reverse=True)[:max(0,beam_size-len(final_beams))]\n",
    "                # check if all the beams have the <eos> token\n",
    "                if len(beam) == 0:\n",
    "                    break\n",
    "\n",
    "            # append any beams left to the final beams\n",
    "            final_beams.extend(beam)\n",
    "\n",
    "            # select the best beam\n",
    "            final_beam = sorted(final_beams, key=lambda x: x[1], reverse=True)[0]\n",
    "\n",
    "            generated_captions.append(final_beam[0].squeeze(1).tolist()[1:]) # remove the <sos> token\n",
    "\n",
    "        return generated_captions # (batch_size, max_length)\n",
    "\n",
    "image_captioning = ImageCaptioning(512, 1, 1024, len(vocab), vocab.pad_idx, 0.001).to(torch.device('cuda')) # just to get feedback faster, not used in pl.Trainer \n",
    "\n",
    "image_captioning.train()\n",
    "\n",
    "# create random tensor of images and captions \n",
    "images = torch.randn(32, 3, 500, 500).to(torch.device('cuda')) # just to get feedback faster, not used in pl.Trainer \n",
    "# sequence of 40 words\n",
    "captions = torch.randint(0, len(vocab), (32, 40)).to(torch.device('cuda')) # just to get feedback faster, not used in pl.Trainer \n",
    "print(\"captions:\", captions.size())\n",
    "\n",
    "outputs = image_captioning(images, captions[:,:-1])\n",
    "\n",
    "\n",
    "print(\"outputs:\", outputs.size())\n",
    "\n",
    "# compute loss\n",
    "#loss = nn.NLLLoss()(outputs.permute(1, 2, 0), captions.permute(1, 0))\n",
    "loss = nn.NLLLoss(ignore_index=int(vocab.pad_idx))(outputs.reshape(-1, outputs.size(2)), captions.reshape(-1))\n",
    "\n",
    "print(\"loss:\", loss)\n",
    "\n",
    "# check if on cuda\n",
    "print(next(image_captioning.parameters()).is_cuda)\n",
    "print(next(image_captioning.encoder.parameters()).is_cuda)\n",
    "print(next(image_captioning.decoder['embedding_layer'].parameters()).is_cuda)\n",
    "print(next(image_captioning.decoder['lstm'].parameters()).is_cuda)\n",
    "print(next(image_captioning.decoder['inv_embedding'].parameters()).is_cuda)\n",
    "print(outputs.is_cuda)\n",
    "\n",
    "# convert outputs to captions_idx\n",
    "captions = torch.argmax(outputs, dim=2)\n",
    "print(\"captions:\", captions.size())\n",
    "\n",
    "# convert captions_idx to captions\n",
    "captions = [[vocab.idx_to_token(idx.item()) for idx in caption] for caption in captions]\n",
    "print(\"captions:\", captions[0])\n",
    "\n",
    "# 5 images\n",
    "image = torch.randn(8, 3, 500, 500).to(torch.device('cuda')) \n",
    "caption = image_captioning.sample_greedy(image)\n",
    "print(\"Generated caption:\", caption)\n",
    "beam_caption = image_captioning.sample_beam(image)\n",
    "print(\"Generated caption:\", beam_caption)\n",
    "caption_sentence = [vocab.idx_to_token(idx) for idx in caption[0]]\n",
    "target_sentences = [\" \".join(caption) for caption in captions]\n",
    "bleu_score = image_captioning.bleu_score(caption_sentence, target_sentences)\n",
    "print(\"BLEU score:\", bleu_score)"
   ]
  },
  {
   "attachments": {},
   "cell_type": "markdown",
   "metadata": {},
   "source": [
    "# Data Module\n",
    "\n",
    "Das Data-Module ist zuständig um einen Train-Test-Split durchzuführen. Dieser wird auf Basis der Bilder gemacht. Würde man ihn auf Basis der Beschreibungen machen, würden die Trainingsdaten in die Testdaten leaken (das Gleiche Bild wäre in beiden Datensätzen und im worst-case würde der BLEU-Score die Ähnlichkeit zwischen den Referenzsätzen berechnen).\n",
    "\n",
    "Zum Trainieren werden 80% der Daten verwendet. Weitere 10% werden zum validieren nach jeder Epoche verwendet. Die restlichen 10% werden zum Testen verwendet. Die Daten des Testdataloader werden nach Bilder gruppiert zurückgegeben, damit kann der BLEU-Score erst berechnet werden."
   ]
  },
  {
   "cell_type": "code",
   "execution_count": 117,
   "metadata": {},
   "outputs": [],
   "source": [
    "class Flickr8kDataModule(pl.LightningDataModule):\n",
    "    def __init__(self, config, transform=None):\n",
    "        super().__init__()\n",
    "        self.config = config\n",
    "        self.transform = transform\n",
    "        self.special_word_tokenizer = RegexpTokenizer( r'(?:\\w+|<\\w+>)') # capture <word> tokens\n",
    "        self.vocab = Vocab(self.config[\"caption_file\"], tokenizer=self.special_word_tokenizer.tokenize)\n",
    "        self.config['vocab_size'] = len(self.vocab)\n",
    "        self.collate_fn = Collate(self.vocab.pad_idx)\n",
    "\n",
    "\n",
    "    def setup(self, stage=None):\n",
    "        # check if train_dataset variable exists\n",
    "        if hasattr(self, 'train_dataset'):\n",
    "            return\n",
    "        # read the dataframe and make split on images\n",
    "        df = pd.read_csv(self.config[\"caption_file\"], delimiter='|')\n",
    "        image_ids = df['image_name'].unique()\n",
    "\n",
    "        train_image_ids, test_image_ids = train_test_split(image_ids, test_size=0.2, random_state=self.config[\"seed\"]) # 80% train\n",
    "        val_image_ids, test_image_ids = train_test_split(test_image_ids, test_size=0.5, random_state=self.config[\"seed\"]) # 10% val, 10% test\n",
    "\n",
    "        # create datasets\n",
    "        self.train_dataset = Flickr8kDataset(self.config[\"image_dir\"],\n",
    "                                        self.config[\"caption_file\"],\n",
    "                                        train_image_ids,\n",
    "                                        self.special_word_tokenizer.tokenize,\n",
    "                                        self.vocab,\n",
    "                                        self.transform)\n",
    "        self.val_dataset = Flickr8kDataset(self.config[\"image_dir\"],\n",
    "                                        self.config[\"caption_file\"],\n",
    "                                        val_image_ids,\n",
    "                                        self.special_word_tokenizer.tokenize,\n",
    "                                        self.vocab,\n",
    "                                        self.transform)\n",
    "        self.test_dataset = Flickr8kDataset(self.config[\"image_dir\"],\n",
    "                                        self.config[\"caption_file\"],\n",
    "                                        test_image_ids,\n",
    "                                        self.special_word_tokenizer.tokenize,\n",
    "                                        self.vocab,\n",
    "                                        self.transform,\n",
    "                                        group_by_image=True)\n",
    "\n",
    "    def dataloader(self, dataset, shuffle=False, collate=True):\n",
    "        return DataLoader(dataset,\n",
    "                          batch_size=self.config[\"batch_size\"],\n",
    "                          shuffle=shuffle,\n",
    "                          pin_memory=True,\n",
    "                          collate_fn=Collate(self.vocab.pad_idx))\n",
    "\n",
    "\n",
    "    def train_dataloader(self): return self.dataloader(self.train_dataset, shuffle=True)\n",
    "    def val_dataloader  (self): return self.dataloader(self.val_dataset)\n",
    "    def test_dataloader (self): return self.dataloader(self.test_dataset, collate=False)\n",
    "\n",
    "flickr8k_data_module = Flickr8kDataModule(config, transform=models.ResNet50_Weights.IMAGENET1K_V1.transforms())"
   ]
  },
  {
   "attachments": {},
   "cell_type": "markdown",
   "metadata": {},
   "source": [
    "# Training Modell v1\n",
    "\n",
    "Das Training erfolgt über den PyTorch-Trainer. Dort gebe ich zwei Callbacks mit:\n",
    "- ModelCheckpoint: sorgt dafür, dass ab und zu die weights des Modells gespeichert werden. Dabei wird das Modell nur gespeichert, wenn es einen besser val_loss erzeilt.\n",
    "- EarlyStopping: sorgt dafür, dass das Training abgebrochen wird, wenn der val_loss nicht mehr besser wird. Dabei wird das Training abgebrochen, wenn der val_loss für 5 Epochen nicht mehr besser wird.\n",
    "\n",
    "Ich habe eine Hyperparametertuning für die hidden_dim und embedding_dim durchgeführt. "
   ]
  },
  {
   "cell_type": "code",
   "execution_count": 80,
   "metadata": {},
   "outputs": [
    {
     "data": {
      "text/html": [
       "Tracking run with wandb version 0.15.4"
      ],
      "text/plain": [
       "<IPython.core.display.HTML object>"
      ]
     },
     "metadata": {},
     "output_type": "display_data"
    },
    {
     "data": {
      "text/html": [
       "Run data is saved locally in <code>.\\wandb\\run-20230613_145824-pc20q7ef</code>"
      ],
      "text/plain": [
       "<IPython.core.display.HTML object>"
      ]
     },
     "metadata": {},
     "output_type": "display_data"
    },
    {
     "data": {
      "text/html": [
       "Syncing run <strong><a href='https://wandb.ai/florin-barbisch/del-mc2/runs/pc20q7ef' target=\"_blank\">v1-dim-512</a></strong> to <a href='https://wandb.ai/florin-barbisch/del-mc2' target=\"_blank\">Weights & Biases</a> (<a href='https://wandb.me/run' target=\"_blank\">docs</a>)<br/>"
      ],
      "text/plain": [
       "<IPython.core.display.HTML object>"
      ]
     },
     "metadata": {},
     "output_type": "display_data"
    },
    {
     "data": {
      "text/html": [
       " View project at <a href='https://wandb.ai/florin-barbisch/del-mc2' target=\"_blank\">https://wandb.ai/florin-barbisch/del-mc2</a>"
      ],
      "text/plain": [
       "<IPython.core.display.HTML object>"
      ]
     },
     "metadata": {},
     "output_type": "display_data"
    },
    {
     "data": {
      "text/html": [
       " View run at <a href='https://wandb.ai/florin-barbisch/del-mc2/runs/pc20q7ef' target=\"_blank\">https://wandb.ai/florin-barbisch/del-mc2/runs/pc20q7ef</a>"
      ],
      "text/plain": [
       "<IPython.core.display.HTML object>"
      ]
     },
     "metadata": {},
     "output_type": "display_data"
    },
    {
     "name": "stderr",
     "output_type": "stream",
     "text": [
      "\u001b[34m\u001b[1mwandb\u001b[0m: logging graph, to disable use `wandb.watch(log_graph=False)`\n",
      "GPU available: True (cuda), used: True\n",
      "TPU available: False, using: 0 TPU cores\n",
      "IPU available: False, using: 0 IPUs\n",
      "HPU available: False, using: 0 HPUs\n",
      "LOCAL_RANK: 0 - CUDA_VISIBLE_DEVICES: [0]\n",
      "\n",
      "  | Name       | Type       | Params\n",
      "------------------------------------------\n",
      "0 | encoder    | Sequential | 24.6 M\n",
      "1 | decoder    | ModuleDict | 6.3 M \n",
      "2 | bleu_score | BLEUScore  | 0     \n",
      "------------------------------------------\n",
      "7.4 M     Trainable params\n",
      "23.5 M    Non-trainable params\n",
      "30.9 M    Total params\n",
      "123.435   Total estimated model params size (MB)\n"
     ]
    },
    {
     "data": {
      "application/json": {
       "ascii": false,
       "bar_format": null,
       "colour": null,
       "elapsed": 0.02050924301147461,
       "initial": 0,
       "n": 0,
       "ncols": null,
       "nrows": null,
       "postfix": null,
       "prefix": "Sanity Checking",
       "rate": null,
       "total": null,
       "unit": "it",
       "unit_divisor": 1000,
       "unit_scale": false
      },
      "application/vnd.jupyter.widget-view+json": {
       "model_id": "c8d3660602684ffbb4765ff69f00d5a6",
       "version_major": 2,
       "version_minor": 0
      },
      "text/plain": [
       "Sanity Checking: 0it [00:00, ?it/s]"
      ]
     },
     "metadata": {},
     "output_type": "display_data"
    },
    {
     "name": "stderr",
     "output_type": "stream",
     "text": [
      "c:\\Users\\flori\\miniconda3\\envs\\del\\lib\\site-packages\\pytorch_lightning\\trainer\\connectors\\data_connector.py:224: PossibleUserWarning: The dataloader, val_dataloader 0, does not have many workers which may be a bottleneck. Consider increasing the value of the `num_workers` argument` (try 12 which is the number of cpus on this machine) in the `DataLoader` init to improve performance.\n",
      "  rank_zero_warn(\n",
      "c:\\Users\\flori\\miniconda3\\envs\\del\\lib\\site-packages\\pytorch_lightning\\trainer\\connectors\\data_connector.py:224: PossibleUserWarning: The dataloader, train_dataloader, does not have many workers which may be a bottleneck. Consider increasing the value of the `num_workers` argument` (try 12 which is the number of cpus on this machine) in the `DataLoader` init to improve performance.\n",
      "  rank_zero_warn(\n"
     ]
    },
    {
     "data": {
      "application/json": {
       "ascii": false,
       "bar_format": null,
       "colour": null,
       "elapsed": 0.017508268356323242,
       "initial": 0,
       "n": 0,
       "ncols": null,
       "nrows": null,
       "postfix": null,
       "prefix": "Training",
       "rate": null,
       "total": null,
       "unit": "it",
       "unit_divisor": 1000,
       "unit_scale": false
      },
      "application/vnd.jupyter.widget-view+json": {
       "model_id": "db262db4920d435e868d5c07aa5c9474",
       "version_major": 2,
       "version_minor": 0
      },
      "text/plain": [
       "Training: 0it [00:00, ?it/s]"
      ]
     },
     "metadata": {},
     "output_type": "display_data"
    },
    {
     "data": {
      "application/json": {
       "ascii": false,
       "bar_format": null,
       "colour": null,
       "elapsed": 0.017548561096191406,
       "initial": 0,
       "n": 0,
       "ncols": null,
       "nrows": null,
       "postfix": null,
       "prefix": "Validation",
       "rate": null,
       "total": null,
       "unit": "it",
       "unit_divisor": 1000,
       "unit_scale": false
      },
      "application/vnd.jupyter.widget-view+json": {
       "model_id": "8a53ed281fcf460889598df712ce3241",
       "version_major": 2,
       "version_minor": 0
      },
      "text/plain": [
       "Validation: 0it [00:00, ?it/s]"
      ]
     },
     "metadata": {},
     "output_type": "display_data"
    },
    {
     "data": {
      "application/json": {
       "ascii": false,
       "bar_format": null,
       "colour": null,
       "elapsed": 0.03756213188171387,
       "initial": 0,
       "n": 0,
       "ncols": null,
       "nrows": null,
       "postfix": null,
       "prefix": "Validation",
       "rate": null,
       "total": null,
       "unit": "it",
       "unit_divisor": 1000,
       "unit_scale": false
      },
      "application/vnd.jupyter.widget-view+json": {
       "model_id": "54005352c1a1450faa8e0e8a38ebfa5f",
       "version_major": 2,
       "version_minor": 0
      },
      "text/plain": [
       "Validation: 0it [00:00, ?it/s]"
      ]
     },
     "metadata": {},
     "output_type": "display_data"
    },
    {
     "name": "stderr",
     "output_type": "stream",
     "text": [
      "c:\\Users\\flori\\miniconda3\\envs\\del\\lib\\site-packages\\pytorch_lightning\\trainer\\call.py:48: UserWarning: Detected KeyboardInterrupt, attempting graceful shutdown...\n",
      "  rank_zero_warn(\"Detected KeyboardInterrupt, attempting graceful shutdown...\")\n",
      "LOCAL_RANK: 0 - CUDA_VISIBLE_DEVICES: [0]\n",
      "c:\\Users\\flori\\miniconda3\\envs\\del\\lib\\site-packages\\pytorch_lightning\\trainer\\connectors\\data_connector.py:224: PossibleUserWarning: The dataloader, test_dataloader 0, does not have many workers which may be a bottleneck. Consider increasing the value of the `num_workers` argument` (try 12 which is the number of cpus on this machine) in the `DataLoader` init to improve performance.\n",
      "  rank_zero_warn(\n"
     ]
    },
    {
     "data": {
      "application/json": {
       "ascii": false,
       "bar_format": null,
       "colour": null,
       "elapsed": 0.01851797103881836,
       "initial": 0,
       "n": 0,
       "ncols": null,
       "nrows": null,
       "postfix": null,
       "prefix": "Testing",
       "rate": null,
       "total": null,
       "unit": "it",
       "unit_divisor": 1000,
       "unit_scale": false
      },
      "application/vnd.jupyter.widget-view+json": {
       "model_id": "9437783b3b8a45a1bb8a4ccf68f35066",
       "version_major": 2,
       "version_minor": 0
      },
      "text/plain": [
       "Testing: 0it [00:00, ?it/s]"
      ]
     },
     "metadata": {},
     "output_type": "display_data"
    },
    {
     "name": "stdout",
     "output_type": "stream",
     "text": [
      "────────────────────────────────────────────────────────────────────────────────────────────────────────────────────────\n",
      "       Test metric             DataLoader 0\n",
      "────────────────────────────────────────────────────────────────────────────────────────────────────────────────────────\n",
      "     bleu_score_beam        0.09829098731279373\n",
      "    bleu_score_greedy       0.10580360144376755\n",
      "────────────────────────────────────────────────────────────────────────────────────────────────────────────────────────\n"
     ]
    },
    {
     "data": {
      "text/html": [
       "Waiting for W&B process to finish... <strong style=\"color:green\">(success).</strong>"
      ],
      "text/plain": [
       "<IPython.core.display.HTML object>"
      ]
     },
     "metadata": {},
     "output_type": "display_data"
    },
    {
     "data": {
      "text/html": [
       "<style>\n",
       "    table.wandb td:nth-child(1) { padding: 0 10px; text-align: left ; width: auto;} td:nth-child(2) {text-align: left ; width: 100%}\n",
       "    .wandb-row { display: flex; flex-direction: row; flex-wrap: wrap; justify-content: flex-start; width: 100% }\n",
       "    .wandb-col { display: flex; flex-direction: column; flex-basis: 100%; flex: 1; padding: 10px; }\n",
       "    </style>\n",
       "<div class=\"wandb-row\"><div class=\"wandb-col\"><h3>Run history:</h3><br/><table class=\"wandb\"><tr><td>bleu_score_beam</td><td>▁</td></tr><tr><td>bleu_score_greedy</td><td>▁</td></tr><tr><td>epoch</td><td>▁▁▁▁▁▁▁▁▁▁▁▁▁▁▁▁▅▅▅▅▅▅▅▅▅▅▅▅▅▅▅▅████████</td></tr><tr><td>train_loss</td><td>█▇▆▅▄▄▄▃▄▃▃▃▂▃▃▃▃▃▂▂▂▂▂▂▂▂▂▂▂▂▂▂▁▁▁▁▁▂▁▁</td></tr><tr><td>trainer/global_step</td><td>▁▁▁▂▂▂▂▂▂▃▃▃▃▃▄▄▄▄▄▄▅▅▅▅▅▅▆▆▆▆▇▇▇▇▇▇████</td></tr><tr><td>val_loss</td><td>█▁</td></tr></table><br/></div><div class=\"wandb-col\"><h3>Run summary:</h3><br/><table class=\"wandb\"><tr><td>bleu_score_beam</td><td>0.09829</td></tr><tr><td>bleu_score_greedy</td><td>0.1058</td></tr><tr><td>epoch</td><td>2</td></tr><tr><td>train_loss</td><td>2.92908</td></tr><tr><td>trainer/global_step</td><td>632</td></tr><tr><td>val_loss</td><td>3.13461</td></tr></table><br/></div></div>"
      ],
      "text/plain": [
       "<IPython.core.display.HTML object>"
      ]
     },
     "metadata": {},
     "output_type": "display_data"
    },
    {
     "data": {
      "text/html": [
       " View run <strong style=\"color:#cdcd00\">v1-dim-512</strong> at: <a href='https://wandb.ai/florin-barbisch/del-mc2/runs/pc20q7ef' target=\"_blank\">https://wandb.ai/florin-barbisch/del-mc2/runs/pc20q7ef</a><br/>Synced 5 W&B file(s), 1 media file(s), 4 artifact file(s) and 0 other file(s)"
      ],
      "text/plain": [
       "<IPython.core.display.HTML object>"
      ]
     },
     "metadata": {},
     "output_type": "display_data"
    },
    {
     "data": {
      "text/html": [
       "Find logs at: <code>.\\wandb\\run-20230613_145824-pc20q7ef\\logs</code>"
      ],
      "text/plain": [
       "<IPython.core.display.HTML object>"
      ]
     },
     "metadata": {},
     "output_type": "display_data"
    },
    {
     "data": {
      "application/vnd.jupyter.widget-view+json": {
       "model_id": "0bf37c5a433d4e5bb3df738153a49ff2",
       "version_major": 2,
       "version_minor": 0
      },
      "text/plain": [
       "VBox(children=(Label(value='Waiting for wandb.init()...\\r'), FloatProgress(value=0.016666666666666666, max=1.0…"
      ]
     },
     "metadata": {},
     "output_type": "display_data"
    },
    {
     "data": {
      "text/html": [
       "Tracking run with wandb version 0.15.4"
      ],
      "text/plain": [
       "<IPython.core.display.HTML object>"
      ]
     },
     "metadata": {},
     "output_type": "display_data"
    },
    {
     "data": {
      "text/html": [
       "Run data is saved locally in <code>.\\wandb\\run-20230613_150221-s8gvh1yw</code>"
      ],
      "text/plain": [
       "<IPython.core.display.HTML object>"
      ]
     },
     "metadata": {},
     "output_type": "display_data"
    },
    {
     "data": {
      "text/html": [
       "Syncing run <strong><a href='https://wandb.ai/florin-barbisch/del-mc2/runs/s8gvh1yw' target=\"_blank\">v1-dim-1024</a></strong> to <a href='https://wandb.ai/florin-barbisch/del-mc2' target=\"_blank\">Weights & Biases</a> (<a href='https://wandb.me/run' target=\"_blank\">docs</a>)<br/>"
      ],
      "text/plain": [
       "<IPython.core.display.HTML object>"
      ]
     },
     "metadata": {},
     "output_type": "display_data"
    },
    {
     "data": {
      "text/html": [
       " View project at <a href='https://wandb.ai/florin-barbisch/del-mc2' target=\"_blank\">https://wandb.ai/florin-barbisch/del-mc2</a>"
      ],
      "text/plain": [
       "<IPython.core.display.HTML object>"
      ]
     },
     "metadata": {},
     "output_type": "display_data"
    },
    {
     "data": {
      "text/html": [
       " View run at <a href='https://wandb.ai/florin-barbisch/del-mc2/runs/s8gvh1yw' target=\"_blank\">https://wandb.ai/florin-barbisch/del-mc2/runs/s8gvh1yw</a>"
      ],
      "text/plain": [
       "<IPython.core.display.HTML object>"
      ]
     },
     "metadata": {},
     "output_type": "display_data"
    },
    {
     "name": "stderr",
     "output_type": "stream",
     "text": [
      "\u001b[34m\u001b[1mwandb\u001b[0m: logging graph, to disable use `wandb.watch(log_graph=False)`\n",
      "GPU available: True (cuda), used: True\n",
      "TPU available: False, using: 0 TPU cores\n",
      "IPU available: False, using: 0 IPUs\n",
      "HPU available: False, using: 0 HPUs\n",
      "LOCAL_RANK: 0 - CUDA_VISIBLE_DEVICES: [0]\n",
      "\n",
      "  | Name       | Type       | Params\n",
      "------------------------------------------\n",
      "0 | encoder    | Sequential | 25.6 M\n",
      "1 | decoder    | ModuleDict | 16.8 M\n",
      "2 | bleu_score | BLEUScore  | 0     \n",
      "------------------------------------------\n",
      "18.9 M    Trainable params\n",
      "23.5 M    Non-trainable params\n",
      "42.4 M    Total params\n",
      "169.599   Total estimated model params size (MB)\n"
     ]
    },
    {
     "data": {
      "application/json": {
       "ascii": false,
       "bar_format": null,
       "colour": null,
       "elapsed": 0.01701664924621582,
       "initial": 0,
       "n": 0,
       "ncols": null,
       "nrows": null,
       "postfix": null,
       "prefix": "Sanity Checking",
       "rate": null,
       "total": null,
       "unit": "it",
       "unit_divisor": 1000,
       "unit_scale": false
      },
      "application/vnd.jupyter.widget-view+json": {
       "model_id": "cda7125120a34f23861bfe6202a5a8a7",
       "version_major": 2,
       "version_minor": 0
      },
      "text/plain": [
       "Sanity Checking: 0it [00:00, ?it/s]"
      ]
     },
     "metadata": {},
     "output_type": "display_data"
    },
    {
     "data": {
      "application/json": {
       "ascii": false,
       "bar_format": null,
       "colour": null,
       "elapsed": 0.023532629013061523,
       "initial": 0,
       "n": 0,
       "ncols": null,
       "nrows": null,
       "postfix": null,
       "prefix": "Training",
       "rate": null,
       "total": null,
       "unit": "it",
       "unit_divisor": 1000,
       "unit_scale": false
      },
      "application/vnd.jupyter.widget-view+json": {
       "model_id": "b4610a03da144c82b50825be63ccbbaf",
       "version_major": 2,
       "version_minor": 0
      },
      "text/plain": [
       "Training: 0it [00:00, ?it/s]"
      ]
     },
     "metadata": {},
     "output_type": "display_data"
    },
    {
     "data": {
      "application/json": {
       "ascii": false,
       "bar_format": null,
       "colour": null,
       "elapsed": 0.017972707748413086,
       "initial": 0,
       "n": 0,
       "ncols": null,
       "nrows": null,
       "postfix": null,
       "prefix": "Validation",
       "rate": null,
       "total": null,
       "unit": "it",
       "unit_divisor": 1000,
       "unit_scale": false
      },
      "application/vnd.jupyter.widget-view+json": {
       "model_id": "563eab328fea4bd4b84ed7688aa449e7",
       "version_major": 2,
       "version_minor": 0
      },
      "text/plain": [
       "Validation: 0it [00:00, ?it/s]"
      ]
     },
     "metadata": {},
     "output_type": "display_data"
    },
    {
     "name": "stderr",
     "output_type": "stream",
     "text": [
      "LOCAL_RANK: 0 - CUDA_VISIBLE_DEVICES: [0]\n"
     ]
    },
    {
     "data": {
      "application/json": {
       "ascii": false,
       "bar_format": null,
       "colour": null,
       "elapsed": 0.017056941986083984,
       "initial": 0,
       "n": 0,
       "ncols": null,
       "nrows": null,
       "postfix": null,
       "prefix": "Testing",
       "rate": null,
       "total": null,
       "unit": "it",
       "unit_divisor": 1000,
       "unit_scale": false
      },
      "application/vnd.jupyter.widget-view+json": {
       "model_id": "e89c0d90c2cf41aeb395d68f359061b9",
       "version_major": 2,
       "version_minor": 0
      },
      "text/plain": [
       "Testing: 0it [00:00, ?it/s]"
      ]
     },
     "metadata": {},
     "output_type": "display_data"
    },
    {
     "data": {
      "text/html": [
       "Waiting for W&B process to finish... <strong style=\"color:green\">(success).</strong>"
      ],
      "text/plain": [
       "<IPython.core.display.HTML object>"
      ]
     },
     "metadata": {},
     "output_type": "display_data"
    },
    {
     "data": {
      "text/html": [
       "<style>\n",
       "    table.wandb td:nth-child(1) { padding: 0 10px; text-align: left ; width: auto;} td:nth-child(2) {text-align: left ; width: 100%}\n",
       "    .wandb-row { display: flex; flex-direction: row; flex-wrap: wrap; justify-content: flex-start; width: 100% }\n",
       "    .wandb-col { display: flex; flex-direction: column; flex-basis: 100%; flex: 1; padding: 10px; }\n",
       "    </style>\n",
       "<div class=\"wandb-row\"><div class=\"wandb-col\"><h3>Run history:</h3><br/><table class=\"wandb\"><tr><td>epoch</td><td>▁▁▁▁▁▁▁▁▁▁▁▁▁▁▁▁▁▁▁▁▁▁██████████████████</td></tr><tr><td>train_loss</td><td>█▆▆▅▄▄▄▃▃▃▃▃▃▃▂▃▃▂▂▃▂▂▁▁▁▁▂▂▁▁▂▁▁▁▁▁▁▂▁▁</td></tr><tr><td>trainer/global_step</td><td>▁▁▁▁▂▂▂▂▂▃▃▃▃▃▄▄▄▄▄▄▅▅▅▅▅▅▆▆▆▆▆▇▇▇▇▇▇███</td></tr><tr><td>val_loss</td><td>▁</td></tr></table><br/></div><div class=\"wandb-col\"><h3>Run summary:</h3><br/><table class=\"wandb\"><tr><td>epoch</td><td>1</td></tr><tr><td>train_loss</td><td>2.70667</td></tr><tr><td>trainer/global_step</td><td>479</td></tr><tr><td>val_loss</td><td>3.15244</td></tr></table><br/></div></div>"
      ],
      "text/plain": [
       "<IPython.core.display.HTML object>"
      ]
     },
     "metadata": {},
     "output_type": "display_data"
    },
    {
     "data": {
      "text/html": [
       " View run <strong style=\"color:#cdcd00\">v1-dim-1024</strong> at: <a href='https://wandb.ai/florin-barbisch/del-mc2/runs/s8gvh1yw' target=\"_blank\">https://wandb.ai/florin-barbisch/del-mc2/runs/s8gvh1yw</a><br/>Synced 5 W&B file(s), 1 media file(s), 3 artifact file(s) and 0 other file(s)"
      ],
      "text/plain": [
       "<IPython.core.display.HTML object>"
      ]
     },
     "metadata": {},
     "output_type": "display_data"
    },
    {
     "data": {
      "text/html": [
       "Find logs at: <code>.\\wandb\\run-20230613_150221-s8gvh1yw\\logs</code>"
      ],
      "text/plain": [
       "<IPython.core.display.HTML object>"
      ]
     },
     "metadata": {},
     "output_type": "display_data"
    },
    {
     "data": {
      "application/vnd.jupyter.widget-view+json": {
       "model_id": "dea02e393015411fa2cd43d09b66a2df",
       "version_major": 2,
       "version_minor": 0
      },
      "text/plain": [
       "VBox(children=(Label(value='Waiting for wandb.init()...\\r'), FloatProgress(value=0.016916666666656966, max=1.0…"
      ]
     },
     "metadata": {},
     "output_type": "display_data"
    },
    {
     "data": {
      "text/html": [
       "Tracking run with wandb version 0.15.4"
      ],
      "text/plain": [
       "<IPython.core.display.HTML object>"
      ]
     },
     "metadata": {},
     "output_type": "display_data"
    },
    {
     "data": {
      "text/html": [
       "Run data is saved locally in <code>.\\wandb\\run-20230613_150541-76mbugik</code>"
      ],
      "text/plain": [
       "<IPython.core.display.HTML object>"
      ]
     },
     "metadata": {},
     "output_type": "display_data"
    },
    {
     "data": {
      "text/html": [
       "Syncing run <strong><a href='https://wandb.ai/florin-barbisch/del-mc2/runs/76mbugik' target=\"_blank\">v1-dim-2048</a></strong> to <a href='https://wandb.ai/florin-barbisch/del-mc2' target=\"_blank\">Weights & Biases</a> (<a href='https://wandb.me/run' target=\"_blank\">docs</a>)<br/>"
      ],
      "text/plain": [
       "<IPython.core.display.HTML object>"
      ]
     },
     "metadata": {},
     "output_type": "display_data"
    },
    {
     "data": {
      "text/html": [
       " View project at <a href='https://wandb.ai/florin-barbisch/del-mc2' target=\"_blank\">https://wandb.ai/florin-barbisch/del-mc2</a>"
      ],
      "text/plain": [
       "<IPython.core.display.HTML object>"
      ]
     },
     "metadata": {},
     "output_type": "display_data"
    },
    {
     "data": {
      "text/html": [
       " View run at <a href='https://wandb.ai/florin-barbisch/del-mc2/runs/76mbugik' target=\"_blank\">https://wandb.ai/florin-barbisch/del-mc2/runs/76mbugik</a>"
      ],
      "text/plain": [
       "<IPython.core.display.HTML object>"
      ]
     },
     "metadata": {},
     "output_type": "display_data"
    },
    {
     "name": "stderr",
     "output_type": "stream",
     "text": [
      "\u001b[34m\u001b[1mwandb\u001b[0m: logging graph, to disable use `wandb.watch(log_graph=False)`\n",
      "GPU available: True (cuda), used: True\n",
      "TPU available: False, using: 0 TPU cores\n",
      "IPU available: False, using: 0 IPUs\n",
      "HPU available: False, using: 0 HPUs\n",
      "LOCAL_RANK: 0 - CUDA_VISIBLE_DEVICES: [0]\n",
      "\n",
      "  | Name       | Type       | Params\n",
      "------------------------------------------\n",
      "0 | encoder    | Sequential | 27.7 M\n",
      "1 | decoder    | ModuleDict | 50.4 M\n",
      "2 | bleu_score | BLEUScore  | 0     \n",
      "------------------------------------------\n",
      "54.6 M    Trainable params\n",
      "23.5 M    Non-trainable params\n",
      "78.1 M    Total params\n",
      "312.259   Total estimated model params size (MB)\n"
     ]
    },
    {
     "data": {
      "application/json": {
       "ascii": false,
       "bar_format": null,
       "colour": null,
       "elapsed": 0.01643228530883789,
       "initial": 0,
       "n": 0,
       "ncols": null,
       "nrows": null,
       "postfix": null,
       "prefix": "Sanity Checking",
       "rate": null,
       "total": null,
       "unit": "it",
       "unit_divisor": 1000,
       "unit_scale": false
      },
      "application/vnd.jupyter.widget-view+json": {
       "model_id": "3f246a67913e40e9ab745604b9ab42df",
       "version_major": 2,
       "version_minor": 0
      },
      "text/plain": [
       "Sanity Checking: 0it [00:00, ?it/s]"
      ]
     },
     "metadata": {},
     "output_type": "display_data"
    },
    {
     "data": {
      "application/json": {
       "ascii": false,
       "bar_format": null,
       "colour": null,
       "elapsed": 0.015082359313964844,
       "initial": 0,
       "n": 0,
       "ncols": null,
       "nrows": null,
       "postfix": null,
       "prefix": "Training",
       "rate": null,
       "total": null,
       "unit": "it",
       "unit_divisor": 1000,
       "unit_scale": false
      },
      "application/vnd.jupyter.widget-view+json": {
       "model_id": "749b459377d24bce987f45c9a9206837",
       "version_major": 2,
       "version_minor": 0
      },
      "text/plain": [
       "Training: 0it [00:00, ?it/s]"
      ]
     },
     "metadata": {},
     "output_type": "display_data"
    },
    {
     "name": "stderr",
     "output_type": "stream",
     "text": [
      "LOCAL_RANK: 0 - CUDA_VISIBLE_DEVICES: [0]\n"
     ]
    },
    {
     "data": {
      "application/json": {
       "ascii": false,
       "bar_format": null,
       "colour": null,
       "elapsed": 0.01950836181640625,
       "initial": 0,
       "n": 0,
       "ncols": null,
       "nrows": null,
       "postfix": null,
       "prefix": "Testing",
       "rate": null,
       "total": null,
       "unit": "it",
       "unit_divisor": 1000,
       "unit_scale": false
      },
      "application/vnd.jupyter.widget-view+json": {
       "model_id": "464333f3431a47608fd71ec9ced33c98",
       "version_major": 2,
       "version_minor": 0
      },
      "text/plain": [
       "Testing: 0it [00:00, ?it/s]"
      ]
     },
     "metadata": {},
     "output_type": "display_data"
    },
    {
     "name": "stdout",
     "output_type": "stream",
     "text": [
      "────────────────────────────────────────────────────────────────────────────────────────────────────────────────────────\n",
      "       Test metric             DataLoader 0\n",
      "────────────────────────────────────────────────────────────────────────────────────────────────────────────────────────\n",
      "     bleu_score_beam       0.035882383584976196\n",
      "    bleu_score_greedy       0.05355777218937874\n",
      "────────────────────────────────────────────────────────────────────────────────────────────────────────────────────────\n"
     ]
    },
    {
     "data": {
      "text/html": [
       "Waiting for W&B process to finish... <strong style=\"color:green\">(success).</strong>"
      ],
      "text/plain": [
       "<IPython.core.display.HTML object>"
      ]
     },
     "metadata": {},
     "output_type": "display_data"
    },
    {
     "data": {
      "application/vnd.jupyter.widget-view+json": {
       "model_id": "70cf752523db47189154d92a30eb2548",
       "version_major": 2,
       "version_minor": 0
      },
      "text/plain": [
       "VBox(children=(Label(value='0.020 MB of 0.020 MB uploaded (0.000 MB deduped)\\r'), FloatProgress(value=1.0, max…"
      ]
     },
     "metadata": {},
     "output_type": "display_data"
    },
    {
     "data": {
      "text/html": [
       "<style>\n",
       "    table.wandb td:nth-child(1) { padding: 0 10px; text-align: left ; width: auto;} td:nth-child(2) {text-align: left ; width: 100%}\n",
       "    .wandb-row { display: flex; flex-direction: row; flex-wrap: wrap; justify-content: flex-start; width: 100% }\n",
       "    .wandb-col { display: flex; flex-direction: column; flex-basis: 100%; flex: 1; padding: 10px; }\n",
       "    </style>\n",
       "<div class=\"wandb-row\"><div class=\"wandb-col\"><h3>Run history:</h3><br/><table class=\"wandb\"><tr><td>bleu_score_beam</td><td>▁</td></tr><tr><td>bleu_score_greedy</td><td>▁</td></tr><tr><td>epoch</td><td>▁▁▁</td></tr><tr><td>train_loss</td><td>█▁</td></tr><tr><td>trainer/global_step</td><td>▁▆█</td></tr></table><br/></div><div class=\"wandb-col\"><h3>Run summary:</h3><br/><table class=\"wandb\"><tr><td>bleu_score_beam</td><td>0.03588</td></tr><tr><td>bleu_score_greedy</td><td>0.05356</td></tr><tr><td>epoch</td><td>0</td></tr><tr><td>train_loss</td><td>4.21672</td></tr><tr><td>trainer/global_step</td><td>24</td></tr></table><br/></div></div>"
      ],
      "text/plain": [
       "<IPython.core.display.HTML object>"
      ]
     },
     "metadata": {},
     "output_type": "display_data"
    },
    {
     "data": {
      "text/html": [
       " View run <strong style=\"color:#cdcd00\">v1-dim-2048</strong> at: <a href='https://wandb.ai/florin-barbisch/del-mc2/runs/76mbugik' target=\"_blank\">https://wandb.ai/florin-barbisch/del-mc2/runs/76mbugik</a><br/>Synced 5 W&B file(s), 1 media file(s), 2 artifact file(s) and 0 other file(s)"
      ],
      "text/plain": [
       "<IPython.core.display.HTML object>"
      ]
     },
     "metadata": {},
     "output_type": "display_data"
    },
    {
     "data": {
      "text/html": [
       "Find logs at: <code>.\\wandb\\run-20230613_150541-76mbugik\\logs</code>"
      ],
      "text/plain": [
       "<IPython.core.display.HTML object>"
      ]
     },
     "metadata": {},
     "output_type": "display_data"
    },
    {
     "name": "stdout",
     "output_type": "stream",
     "text": [
      "Problem at: c:\\Users\\flori\\miniconda3\\envs\\del\\lib\\site-packages\\pytorch_lightning\\loggers\\wandb.py 405 experiment\n"
     ]
    },
    {
     "ename": "KeyboardInterrupt",
     "evalue": "",
     "output_type": "error",
     "traceback": [
      "\u001b[1;31m---------------------------------------------------------------------------\u001b[0m",
      "\u001b[1;31mKeyboardInterrupt\u001b[0m                         Traceback (most recent call last)",
      "\u001b[1;32md:\\dev\\del\\mc2.ipynb Cell 28\u001b[0m in \u001b[0;36m<cell line: 1>\u001b[1;34m()\u001b[0m\n\u001b[0;32m      <a href='vscode-notebook-cell:/d%3A/dev/del/mc2.ipynb#X35sZmlsZQ%3D%3D?line=1'>2</a>\u001b[0m config[\u001b[39m\"\u001b[39m\u001b[39mhidden_dim\u001b[39m\u001b[39m\"\u001b[39m] \u001b[39m=\u001b[39m dim_size\n\u001b[0;32m      <a href='vscode-notebook-cell:/d%3A/dev/del/mc2.ipynb#X35sZmlsZQ%3D%3D?line=2'>3</a>\u001b[0m config[\u001b[39m\"\u001b[39m\u001b[39membedding_dim\u001b[39m\u001b[39m\"\u001b[39m] \u001b[39m=\u001b[39m dim_size\n\u001b[1;32m----> <a href='vscode-notebook-cell:/d%3A/dev/del/mc2.ipynb#X35sZmlsZQ%3D%3D?line=3'>4</a>\u001b[0m wandb_logger \u001b[39m=\u001b[39m WandbLogger(name\u001b[39m=\u001b[39;49m\u001b[39mf\u001b[39;49m\u001b[39m\"\u001b[39;49m\u001b[39mv1-dim-\u001b[39;49m\u001b[39m{\u001b[39;49;00mdim_size\u001b[39m}\u001b[39;49;00m\u001b[39m\"\u001b[39;49m, project\u001b[39m=\u001b[39;49m\u001b[39m\"\u001b[39;49m\u001b[39mdel-mc2\u001b[39;49m\u001b[39m\"\u001b[39;49m, entity\u001b[39m=\u001b[39;49m\u001b[39m\"\u001b[39;49m\u001b[39mflorin-barbisch\u001b[39;49m\u001b[39m\"\u001b[39;49m, config\u001b[39m=\u001b[39;49mconfig, log_model\u001b[39m=\u001b[39;49m\u001b[39m\"\u001b[39;49m\u001b[39mall\u001b[39;49m\u001b[39m\"\u001b[39;49m)\n\u001b[0;32m      <a href='vscode-notebook-cell:/d%3A/dev/del/mc2.ipynb#X35sZmlsZQ%3D%3D?line=5'>6</a>\u001b[0m model \u001b[39m=\u001b[39m ImageCaptioning(\n\u001b[0;32m      <a href='vscode-notebook-cell:/d%3A/dev/del/mc2.ipynb#X35sZmlsZQ%3D%3D?line=6'>7</a>\u001b[0m     config[\u001b[39m\"\u001b[39m\u001b[39membedding_dim\u001b[39m\u001b[39m\"\u001b[39m],\n\u001b[0;32m      <a href='vscode-notebook-cell:/d%3A/dev/del/mc2.ipynb#X35sZmlsZQ%3D%3D?line=7'>8</a>\u001b[0m     config[\u001b[39m\"\u001b[39m\u001b[39mlstm_layers\u001b[39m\u001b[39m\"\u001b[39m],\n\u001b[1;32m   (...)\u001b[0m\n\u001b[0;32m     <a href='vscode-notebook-cell:/d%3A/dev/del/mc2.ipynb#X35sZmlsZQ%3D%3D?line=11'>12</a>\u001b[0m     config[\u001b[39m\"\u001b[39m\u001b[39mlearning_rate\u001b[39m\u001b[39m\"\u001b[39m]\n\u001b[0;32m     <a href='vscode-notebook-cell:/d%3A/dev/del/mc2.ipynb#X35sZmlsZQ%3D%3D?line=12'>13</a>\u001b[0m )\n\u001b[0;32m     <a href='vscode-notebook-cell:/d%3A/dev/del/mc2.ipynb#X35sZmlsZQ%3D%3D?line=14'>15</a>\u001b[0m wandb_logger\u001b[39m.\u001b[39mwatch(model, log\u001b[39m=\u001b[39m\u001b[39m\"\u001b[39m\u001b[39mall\u001b[39m\u001b[39m\"\u001b[39m)\n",
      "File \u001b[1;32mc:\\Users\\flori\\miniconda3\\envs\\del\\lib\\site-packages\\pytorch_lightning\\loggers\\wandb.py:357\u001b[0m, in \u001b[0;36mWandbLogger.__init__\u001b[1;34m(self, name, save_dir, version, offline, dir, id, anonymous, project, log_model, experiment, prefix, checkpoint_name, **kwargs)\u001b[0m\n\u001b[0;32m    355\u001b[0m \u001b[39mif\u001b[39;00m _WANDB_GREATER_EQUAL_0_12_10:\n\u001b[0;32m    356\u001b[0m     wandb\u001b[39m.\u001b[39mrequire(\u001b[39m\"\u001b[39m\u001b[39mservice\u001b[39m\u001b[39m\"\u001b[39m)\n\u001b[1;32m--> 357\u001b[0m     _ \u001b[39m=\u001b[39m \u001b[39mself\u001b[39;49m\u001b[39m.\u001b[39;49mexperiment\n\u001b[0;32m    359\u001b[0m \u001b[39mself\u001b[39m\u001b[39m.\u001b[39m_checkpoint_name \u001b[39m=\u001b[39m checkpoint_name\n",
      "File \u001b[1;32mc:\\Users\\flori\\miniconda3\\envs\\del\\lib\\site-packages\\lightning_fabric\\loggers\\logger.py:117\u001b[0m, in \u001b[0;36mrank_zero_experiment.<locals>.experiment\u001b[1;34m(self)\u001b[0m\n\u001b[0;32m    113\u001b[0m \u001b[39m@rank_zero_only\u001b[39m\n\u001b[0;32m    114\u001b[0m \u001b[39mdef\u001b[39;00m \u001b[39mget_experiment\u001b[39m() \u001b[39m-\u001b[39m\u001b[39m>\u001b[39m Callable:\n\u001b[0;32m    115\u001b[0m     \u001b[39mreturn\u001b[39;00m fn(\u001b[39mself\u001b[39m)\n\u001b[1;32m--> 117\u001b[0m \u001b[39mreturn\u001b[39;00m get_experiment() \u001b[39mor\u001b[39;00m _DummyExperiment()\n",
      "File \u001b[1;32mc:\\Users\\flori\\miniconda3\\envs\\del\\lib\\site-packages\\lightning_utilities\\core\\rank_zero.py:27\u001b[0m, in \u001b[0;36mrank_zero_only.<locals>.wrapped_fn\u001b[1;34m(*args, **kwargs)\u001b[0m\n\u001b[0;32m     25\u001b[0m     \u001b[39mraise\u001b[39;00m \u001b[39mRuntimeError\u001b[39;00m(\u001b[39m\"\u001b[39m\u001b[39mThe `rank_zero_only.rank` needs to be set before use\u001b[39m\u001b[39m\"\u001b[39m)\n\u001b[0;32m     26\u001b[0m \u001b[39mif\u001b[39;00m rank \u001b[39m==\u001b[39m \u001b[39m0\u001b[39m:\n\u001b[1;32m---> 27\u001b[0m     \u001b[39mreturn\u001b[39;00m fn(\u001b[39m*\u001b[39margs, \u001b[39m*\u001b[39m\u001b[39m*\u001b[39mkwargs)\n\u001b[0;32m     28\u001b[0m \u001b[39mreturn\u001b[39;00m \u001b[39mNone\u001b[39;00m\n",
      "File \u001b[1;32mc:\\Users\\flori\\miniconda3\\envs\\del\\lib\\site-packages\\lightning_fabric\\loggers\\logger.py:115\u001b[0m, in \u001b[0;36mrank_zero_experiment.<locals>.experiment.<locals>.get_experiment\u001b[1;34m()\u001b[0m\n\u001b[0;32m    113\u001b[0m \u001b[39m@rank_zero_only\u001b[39m\n\u001b[0;32m    114\u001b[0m \u001b[39mdef\u001b[39;00m \u001b[39mget_experiment\u001b[39m() \u001b[39m-\u001b[39m\u001b[39m>\u001b[39m Callable:\n\u001b[1;32m--> 115\u001b[0m     \u001b[39mreturn\u001b[39;00m fn(\u001b[39mself\u001b[39;49m)\n",
      "File \u001b[1;32mc:\\Users\\flori\\miniconda3\\envs\\del\\lib\\site-packages\\pytorch_lightning\\loggers\\wandb.py:405\u001b[0m, in \u001b[0;36mWandbLogger.experiment\u001b[1;34m(self)\u001b[0m\n\u001b[0;32m    402\u001b[0m     \u001b[39mself\u001b[39m\u001b[39m.\u001b[39m_experiment \u001b[39m=\u001b[39m wandb\u001b[39m.\u001b[39m_attach(attach_id)\n\u001b[0;32m    403\u001b[0m \u001b[39melse\u001b[39;00m:\n\u001b[0;32m    404\u001b[0m     \u001b[39m# create new wandb process\u001b[39;00m\n\u001b[1;32m--> 405\u001b[0m     \u001b[39mself\u001b[39m\u001b[39m.\u001b[39m_experiment \u001b[39m=\u001b[39m wandb\u001b[39m.\u001b[39minit(\u001b[39m*\u001b[39m\u001b[39m*\u001b[39m\u001b[39mself\u001b[39m\u001b[39m.\u001b[39m_wandb_init)\n\u001b[0;32m    407\u001b[0m     \u001b[39m# define default x-axis\u001b[39;00m\n\u001b[0;32m    408\u001b[0m     \u001b[39mif\u001b[39;00m \u001b[39misinstance\u001b[39m(\u001b[39mself\u001b[39m\u001b[39m.\u001b[39m_experiment, (Run, RunDisabled)) \u001b[39mand\u001b[39;00m \u001b[39mgetattr\u001b[39m(\n\u001b[0;32m    409\u001b[0m         \u001b[39mself\u001b[39m\u001b[39m.\u001b[39m_experiment, \u001b[39m\"\u001b[39m\u001b[39mdefine_metric\u001b[39m\u001b[39m\"\u001b[39m, \u001b[39mNone\u001b[39;00m\n\u001b[0;32m    410\u001b[0m     ):\n",
      "File \u001b[1;32mc:\\Users\\flori\\miniconda3\\envs\\del\\lib\\site-packages\\wandb\\sdk\\wandb_init.py:1175\u001b[0m, in \u001b[0;36minit\u001b[1;34m(job_type, dir, config, project, entity, reinit, tags, group, name, notes, magic, config_exclude_keys, config_include_keys, anonymous, mode, allow_val_change, resume, force, tensorboard, sync_tensorboard, monitor_gym, save_code, id, settings)\u001b[0m\n\u001b[0;32m   1173\u001b[0m     \u001b[39massert\u001b[39;00m logger\n\u001b[0;32m   1174\u001b[0m     logger\u001b[39m.\u001b[39mwarning(\u001b[39m\"\u001b[39m\u001b[39minterrupted\u001b[39m\u001b[39m\"\u001b[39m, exc_info\u001b[39m=\u001b[39me)\n\u001b[1;32m-> 1175\u001b[0m     \u001b[39mraise\u001b[39;00m e\n\u001b[0;32m   1176\u001b[0m \u001b[39mexcept\u001b[39;00m \u001b[39mException\u001b[39;00m \u001b[39mas\u001b[39;00m e:\n\u001b[0;32m   1177\u001b[0m     error_seen \u001b[39m=\u001b[39m e\n",
      "File \u001b[1;32mc:\\Users\\flori\\miniconda3\\envs\\del\\lib\\site-packages\\wandb\\sdk\\wandb_init.py:1152\u001b[0m, in \u001b[0;36minit\u001b[1;34m(job_type, dir, config, project, entity, reinit, tags, group, name, notes, magic, config_exclude_keys, config_include_keys, anonymous, mode, allow_val_change, resume, force, tensorboard, sync_tensorboard, monitor_gym, save_code, id, settings)\u001b[0m\n\u001b[0;32m   1150\u001b[0m except_exit \u001b[39m=\u001b[39m wi\u001b[39m.\u001b[39msettings\u001b[39m.\u001b[39m_except_exit\n\u001b[0;32m   1151\u001b[0m \u001b[39mtry\u001b[39;00m:\n\u001b[1;32m-> 1152\u001b[0m     run \u001b[39m=\u001b[39m wi\u001b[39m.\u001b[39;49minit()\n\u001b[0;32m   1153\u001b[0m     except_exit \u001b[39m=\u001b[39m wi\u001b[39m.\u001b[39msettings\u001b[39m.\u001b[39m_except_exit\n\u001b[0;32m   1154\u001b[0m \u001b[39mexcept\u001b[39;00m (\u001b[39mKeyboardInterrupt\u001b[39;00m, \u001b[39mException\u001b[39;00m) \u001b[39mas\u001b[39;00m e:\n",
      "File \u001b[1;32mc:\\Users\\flori\\miniconda3\\envs\\del\\lib\\site-packages\\wandb\\sdk\\wandb_init.py:739\u001b[0m, in \u001b[0;36m_WandbInit.init\u001b[1;34m(self)\u001b[0m\n\u001b[0;32m    736\u001b[0m logger\u001b[39m.\u001b[39minfo(\u001b[39mf\u001b[39m\u001b[39m\"\u001b[39m\u001b[39mcommunicating run to backend with \u001b[39m\u001b[39m{\u001b[39;00mtimeout\u001b[39m}\u001b[39;00m\u001b[39m second timeout\u001b[39m\u001b[39m\"\u001b[39m)\n\u001b[0;32m    738\u001b[0m run_init_handle \u001b[39m=\u001b[39m backend\u001b[39m.\u001b[39minterface\u001b[39m.\u001b[39mdeliver_run(run)\n\u001b[1;32m--> 739\u001b[0m result \u001b[39m=\u001b[39m run_init_handle\u001b[39m.\u001b[39;49mwait(\n\u001b[0;32m    740\u001b[0m     timeout\u001b[39m=\u001b[39;49mtimeout,\n\u001b[0;32m    741\u001b[0m     on_progress\u001b[39m=\u001b[39;49m\u001b[39mself\u001b[39;49m\u001b[39m.\u001b[39;49m_on_progress_init,\n\u001b[0;32m    742\u001b[0m     cancel\u001b[39m=\u001b[39;49m\u001b[39mTrue\u001b[39;49;00m,\n\u001b[0;32m    743\u001b[0m )\n\u001b[0;32m    744\u001b[0m \u001b[39mif\u001b[39;00m result:\n\u001b[0;32m    745\u001b[0m     run_result \u001b[39m=\u001b[39m result\u001b[39m.\u001b[39mrun_result\n",
      "File \u001b[1;32mc:\\Users\\flori\\miniconda3\\envs\\del\\lib\\site-packages\\wandb\\sdk\\lib\\mailbox.py:283\u001b[0m, in \u001b[0;36mMailboxHandle.wait\u001b[1;34m(self, timeout, on_probe, on_progress, release, cancel)\u001b[0m\n\u001b[0;32m    280\u001b[0m     \u001b[39mif\u001b[39;00m \u001b[39mself\u001b[39m\u001b[39m.\u001b[39m_interface\u001b[39m.\u001b[39m_transport_keepalive_failed():\n\u001b[0;32m    281\u001b[0m         \u001b[39mraise\u001b[39;00m MailboxError(\u001b[39m\"\u001b[39m\u001b[39mtransport failed\u001b[39m\u001b[39m\"\u001b[39m)\n\u001b[1;32m--> 283\u001b[0m found, abandoned \u001b[39m=\u001b[39m \u001b[39mself\u001b[39;49m\u001b[39m.\u001b[39;49m_slot\u001b[39m.\u001b[39;49m_get_and_clear(timeout\u001b[39m=\u001b[39;49mwait_timeout)\n\u001b[0;32m    284\u001b[0m \u001b[39mif\u001b[39;00m found:\n\u001b[0;32m    285\u001b[0m     \u001b[39m# Always update progress to 100% when done\u001b[39;00m\n\u001b[0;32m    286\u001b[0m     \u001b[39mif\u001b[39;00m on_progress \u001b[39mand\u001b[39;00m progress_handle \u001b[39mand\u001b[39;00m progress_sent:\n",
      "File \u001b[1;32mc:\\Users\\flori\\miniconda3\\envs\\del\\lib\\site-packages\\wandb\\sdk\\lib\\mailbox.py:130\u001b[0m, in \u001b[0;36m_MailboxSlot._get_and_clear\u001b[1;34m(self, timeout)\u001b[0m\n\u001b[0;32m    128\u001b[0m \u001b[39mdef\u001b[39;00m \u001b[39m_get_and_clear\u001b[39m(\u001b[39mself\u001b[39m, timeout: \u001b[39mfloat\u001b[39m) \u001b[39m-\u001b[39m\u001b[39m>\u001b[39m Tuple[Optional[pb\u001b[39m.\u001b[39mResult], \u001b[39mbool\u001b[39m]:\n\u001b[0;32m    129\u001b[0m     found \u001b[39m=\u001b[39m \u001b[39mNone\u001b[39;00m\n\u001b[1;32m--> 130\u001b[0m     \u001b[39mif\u001b[39;00m \u001b[39mself\u001b[39;49m\u001b[39m.\u001b[39;49m_wait(timeout\u001b[39m=\u001b[39;49mtimeout):\n\u001b[0;32m    131\u001b[0m         \u001b[39mwith\u001b[39;00m \u001b[39mself\u001b[39m\u001b[39m.\u001b[39m_lock:\n\u001b[0;32m    132\u001b[0m             found \u001b[39m=\u001b[39m \u001b[39mself\u001b[39m\u001b[39m.\u001b[39m_result\n",
      "File \u001b[1;32mc:\\Users\\flori\\miniconda3\\envs\\del\\lib\\site-packages\\wandb\\sdk\\lib\\mailbox.py:126\u001b[0m, in \u001b[0;36m_MailboxSlot._wait\u001b[1;34m(self, timeout)\u001b[0m\n\u001b[0;32m    125\u001b[0m \u001b[39mdef\u001b[39;00m \u001b[39m_wait\u001b[39m(\u001b[39mself\u001b[39m, timeout: \u001b[39mfloat\u001b[39m) \u001b[39m-\u001b[39m\u001b[39m>\u001b[39m \u001b[39mbool\u001b[39m:\n\u001b[1;32m--> 126\u001b[0m     \u001b[39mreturn\u001b[39;00m \u001b[39mself\u001b[39;49m\u001b[39m.\u001b[39;49m_event\u001b[39m.\u001b[39;49mwait(timeout\u001b[39m=\u001b[39;49mtimeout)\n",
      "File \u001b[1;32mc:\\Users\\flori\\miniconda3\\envs\\del\\lib\\threading.py:607\u001b[0m, in \u001b[0;36mEvent.wait\u001b[1;34m(self, timeout)\u001b[0m\n\u001b[0;32m    605\u001b[0m signaled \u001b[39m=\u001b[39m \u001b[39mself\u001b[39m\u001b[39m.\u001b[39m_flag\n\u001b[0;32m    606\u001b[0m \u001b[39mif\u001b[39;00m \u001b[39mnot\u001b[39;00m signaled:\n\u001b[1;32m--> 607\u001b[0m     signaled \u001b[39m=\u001b[39m \u001b[39mself\u001b[39;49m\u001b[39m.\u001b[39;49m_cond\u001b[39m.\u001b[39;49mwait(timeout)\n\u001b[0;32m    608\u001b[0m \u001b[39mreturn\u001b[39;00m signaled\n",
      "File \u001b[1;32mc:\\Users\\flori\\miniconda3\\envs\\del\\lib\\threading.py:324\u001b[0m, in \u001b[0;36mCondition.wait\u001b[1;34m(self, timeout)\u001b[0m\n\u001b[0;32m    322\u001b[0m \u001b[39melse\u001b[39;00m:\n\u001b[0;32m    323\u001b[0m     \u001b[39mif\u001b[39;00m timeout \u001b[39m>\u001b[39m \u001b[39m0\u001b[39m:\n\u001b[1;32m--> 324\u001b[0m         gotit \u001b[39m=\u001b[39m waiter\u001b[39m.\u001b[39;49macquire(\u001b[39mTrue\u001b[39;49;00m, timeout)\n\u001b[0;32m    325\u001b[0m     \u001b[39melse\u001b[39;00m:\n\u001b[0;32m    326\u001b[0m         gotit \u001b[39m=\u001b[39m waiter\u001b[39m.\u001b[39macquire(\u001b[39mFalse\u001b[39;00m)\n",
      "\u001b[1;31mKeyboardInterrupt\u001b[0m: "
     ]
    }
   ],
   "source": [
    "for dim_size in [512, 1024, 2048, 4096, 8192]:\n",
    "    config[\"hidden_dim\"] = dim_size\n",
    "    config[\"embedding_dim\"] = dim_size\n",
    "    wandb_logger = WandbLogger(name=f\"v1-dim-{dim_size}\", project=\"del-mc2\", entity=\"florin-barbisch\", config=config, log_model=\"all\")\n",
    "\n",
    "    model = ImageCaptioning(\n",
    "        config[\"embedding_dim\"],\n",
    "        config[\"lstm_layers\"],\n",
    "        config[\"hidden_dim\"],\n",
    "        len(flickr8k_data_module.vocab),\n",
    "        flickr8k_data_module.vocab.pad_idx,\n",
    "        config[\"learning_rate\"]\n",
    "    )\n",
    "\n",
    "    wandb_logger.watch(model, log=\"all\")\n",
    "\n",
    "    checkpoint_callback = pl.callbacks.ModelCheckpoint(monitor='val_loss')\n",
    "    early_stopping_callback = pl.callbacks.EarlyStopping(monitor='val_loss', patience=5)\n",
    "\n",
    "    trainer = pl.Trainer(\n",
    "        accelerator = config[\"accelerator\"],\n",
    "        max_epochs = config[\"epochs\"],\n",
    "        callbacks = [checkpoint_callback, early_stopping_callback],\n",
    "        logger = wandb_logger,\n",
    "        log_every_n_steps = 10\n",
    "    )\n",
    "\n",
    "    trainer.fit(model, flickr8k_data_module)\n",
    "    trainer.test(model, flickr8k_data_module.test_dataloader())\n",
    "    wandb.finish()"
   ]
  },
  {
   "attachments": {},
   "cell_type": "markdown",
   "metadata": {},
   "source": [
    "# Evaluation Modell v1"
   ]
  },
  {
   "cell_type": "code",
   "execution_count": 124,
   "metadata": {},
   "outputs": [
    {
     "name": "stderr",
     "output_type": "stream",
     "text": [
      "  0%|          | 0/7 [00:00<?, ?it/s]\n"
     ]
    }
   ],
   "source": [
    "# load image ids and images from the test_loader\n",
    "image_ids = []\n",
    "images = []\n",
    "target_captions = []\n",
    "#flickr8k_data_module.setup()\n",
    "test_loader = flickr8k_data_module.test_dataloader()\n",
    "for i, (image, captions, image_ids) in tqdm(enumerate(test_loader), total=len(test_loader)):\n",
    "    image_ids.extend(image_ids)\n",
    "    images.extend(image)\n",
    "    target_captions.extend(captions)\n",
    "    if i == 0:\n",
    "        break # don't need more than 128 images"
   ]
  },
  {
   "cell_type": "code",
   "execution_count": null,
   "metadata": {},
   "outputs": [],
   "source": []
  },
  {
   "attachments": {},
   "cell_type": "markdown",
   "metadata": {},
   "source": [
    "# Evaluate BLEU Score\n",
    "Beim generieren des BLEU-Scores hat es zwei Parameter, von denen ich vermute, dass sie die Performance beeinflussen:\n",
    "- max_caption_length\n",
    "- beam_size: Dies gilt nur für Beamsearch. Ich vermute, dass der Einfluss von max_caption_length relativ unabhängig ist (da Beamsearch einen Bias für kürzere Sätze hat).\n"
   ]
  },
  {
   "cell_type": "code",
   "execution_count": 25,
   "metadata": {},
   "outputs": [
    {
     "name": "stderr",
     "output_type": "stream",
     "text": [
      "\u001b[34m\u001b[1mwandb\u001b[0m: Downloading large artifact model-2lbny888:best_k, 306.20MB. 1 files... \n",
      "\u001b[34m\u001b[1mwandb\u001b[0m:   1 of 1 files downloaded.  \n",
      "Done. 0:0:0.8\n",
      "GPU available: True (cuda), used: False\n",
      "TPU available: False, using: 0 TPU cores\n",
      "IPU available: False, using: 0 IPUs\n",
      "HPU available: False, using: 0 HPUs\n",
      "c:\\Users\\flori\\miniconda3\\envs\\del\\lib\\site-packages\\pytorch_lightning\\trainer\\setup.py:176: PossibleUserWarning: GPU available but not used. Set `accelerator` and `devices` using `Trainer(accelerator='gpu', devices=1)`.\n",
      "  rank_zero_warn(\n"
     ]
    }
   ],
   "source": [
    "artifact_dir = wandb.Api().artifact(f\"florin-barbisch/del-mc2/model-2lbny888:best_k\").download()\n",
    "model = ImageCaptioning.load_from_checkpoint(os.path.join(artifact_dir, \"model.ckpt\"))\n",
    "trainer = pl.Trainer()"
   ]
  },
  {
   "attachments": {},
   "cell_type": "markdown",
   "metadata": {},
   "source": [
    "## Evaluate on different caption lengths"
   ]
  },
  {
   "cell_type": "code",
   "execution_count": 26,
   "metadata": {},
   "outputs": [
    {
     "data": {
      "application/json": {
       "ascii": false,
       "bar_format": null,
       "colour": null,
       "elapsed": 0.02216053009033203,
       "initial": 0,
       "n": 0,
       "ncols": null,
       "nrows": null,
       "postfix": null,
       "prefix": "Testing",
       "rate": null,
       "total": null,
       "unit": "it",
       "unit_divisor": 1000,
       "unit_scale": false
      },
      "application/vnd.jupyter.widget-view+json": {
       "model_id": "753c3b964de846729a95166542018ce3",
       "version_major": 2,
       "version_minor": 0
      },
      "text/plain": [
       "Testing: 0it [00:00, ?it/s]"
      ]
     },
     "metadata": {},
     "output_type": "display_data"
    },
    {
     "name": "stdout",
     "output_type": "stream",
     "text": [
      "────────────────────────────────────────────────────────────────────────────────────────────────────────────────────────\n",
      "       Test metric             DataLoader 0\n",
      "────────────────────────────────────────────────────────────────────────────────────────────────────────────────────────\n",
      "     bleu_score_beam        0.08901931345462799\n",
      "    bleu_score_greedy       0.09271679073572159\n",
      "────────────────────────────────────────────────────────────────────────────────────────────────────────────────────────\n"
     ]
    },
    {
     "data": {
      "application/json": {
       "ascii": false,
       "bar_format": null,
       "colour": null,
       "elapsed": 0.018050193786621094,
       "initial": 0,
       "n": 0,
       "ncols": null,
       "nrows": null,
       "postfix": null,
       "prefix": "Testing",
       "rate": null,
       "total": null,
       "unit": "it",
       "unit_divisor": 1000,
       "unit_scale": false
      },
      "application/vnd.jupyter.widget-view+json": {
       "model_id": "1a96bcce647b49bfb4821b559b4a4983",
       "version_major": 2,
       "version_minor": 0
      },
      "text/plain": [
       "Testing: 0it [00:00, ?it/s]"
      ]
     },
     "metadata": {},
     "output_type": "display_data"
    },
    {
     "name": "stdout",
     "output_type": "stream",
     "text": [
      "────────────────────────────────────────────────────────────────────────────────────────────────────────────────────────\n",
      "       Test metric             DataLoader 0\n",
      "────────────────────────────────────────────────────────────────────────────────────────────────────────────────────────\n",
      "     bleu_score_beam        0.08644389361143112\n",
      "    bleu_score_greedy       0.09271679073572159\n",
      "────────────────────────────────────────────────────────────────────────────────────────────────────────────────────────\n"
     ]
    },
    {
     "data": {
      "application/json": {
       "ascii": false,
       "bar_format": null,
       "colour": null,
       "elapsed": 0.019016504287719727,
       "initial": 0,
       "n": 0,
       "ncols": null,
       "nrows": null,
       "postfix": null,
       "prefix": "Testing",
       "rate": null,
       "total": null,
       "unit": "it",
       "unit_divisor": 1000,
       "unit_scale": false
      },
      "application/vnd.jupyter.widget-view+json": {
       "model_id": "a3199c2aadbf4aec96c1e1c3825b5946",
       "version_major": 2,
       "version_minor": 0
      },
      "text/plain": [
       "Testing: 0it [00:00, ?it/s]"
      ]
     },
     "metadata": {},
     "output_type": "display_data"
    },
    {
     "name": "stdout",
     "output_type": "stream",
     "text": [
      "────────────────────────────────────────────────────────────────────────────────────────────────────────────────────────\n",
      "       Test metric             DataLoader 0\n",
      "────────────────────────────────────────────────────────────────────────────────────────────────────────────────────────\n",
      "     bleu_score_beam        0.08442177623510361\n",
      "    bleu_score_greedy       0.09271679073572159\n",
      "────────────────────────────────────────────────────────────────────────────────────────────────────────────────────────\n"
     ]
    },
    {
     "data": {
      "application/json": {
       "ascii": false,
       "bar_format": null,
       "colour": null,
       "elapsed": 0.02102494239807129,
       "initial": 0,
       "n": 0,
       "ncols": null,
       "nrows": null,
       "postfix": null,
       "prefix": "Testing",
       "rate": null,
       "total": null,
       "unit": "it",
       "unit_divisor": 1000,
       "unit_scale": false
      },
      "application/vnd.jupyter.widget-view+json": {
       "model_id": "55a39a3dc4a84612babe6eb366253da2",
       "version_major": 2,
       "version_minor": 0
      },
      "text/plain": [
       "Testing: 0it [00:00, ?it/s]"
      ]
     },
     "metadata": {},
     "output_type": "display_data"
    },
    {
     "name": "stdout",
     "output_type": "stream",
     "text": [
      "────────────────────────────────────────────────────────────────────────────────────────────────────────────────────────\n",
      "       Test metric             DataLoader 0\n",
      "────────────────────────────────────────────────────────────────────────────────────────────────────────────────────────\n",
      "     bleu_score_beam        0.08305612951517105\n",
      "    bleu_score_greedy       0.09271679073572159\n",
      "────────────────────────────────────────────────────────────────────────────────────────────────────────────────────────\n"
     ]
    },
    {
     "data": {
      "application/json": {
       "ascii": false,
       "bar_format": null,
       "colour": null,
       "elapsed": 0.018542051315307617,
       "initial": 0,
       "n": 0,
       "ncols": null,
       "nrows": null,
       "postfix": null,
       "prefix": "Testing",
       "rate": null,
       "total": null,
       "unit": "it",
       "unit_divisor": 1000,
       "unit_scale": false
      },
      "application/vnd.jupyter.widget-view+json": {
       "model_id": "ddb7794a259a41aba57e25317f01206c",
       "version_major": 2,
       "version_minor": 0
      },
      "text/plain": [
       "Testing: 0it [00:00, ?it/s]"
      ]
     },
     "metadata": {},
     "output_type": "display_data"
    },
    {
     "name": "stdout",
     "output_type": "stream",
     "text": [
      "────────────────────────────────────────────────────────────────────────────────────────────────────────────────────────\n",
      "       Test metric             DataLoader 0\n",
      "────────────────────────────────────────────────────────────────────────────────────────────────────────────────────────\n",
      "     bleu_score_beam        0.11096175760030746\n",
      "    bleu_score_greedy       0.12486544251441956\n",
      "────────────────────────────────────────────────────────────────────────────────────────────────────────────────────────\n"
     ]
    },
    {
     "data": {
      "application/json": {
       "ascii": false,
       "bar_format": null,
       "colour": null,
       "elapsed": 0.02254009246826172,
       "initial": 0,
       "n": 0,
       "ncols": null,
       "nrows": null,
       "postfix": null,
       "prefix": "Testing",
       "rate": null,
       "total": null,
       "unit": "it",
       "unit_divisor": 1000,
       "unit_scale": false
      },
      "application/vnd.jupyter.widget-view+json": {
       "model_id": "0915d1d1877048359cac9e79a8719b86",
       "version_major": 2,
       "version_minor": 0
      },
      "text/plain": [
       "Testing: 0it [00:00, ?it/s]"
      ]
     },
     "metadata": {},
     "output_type": "display_data"
    },
    {
     "name": "stdout",
     "output_type": "stream",
     "text": [
      "────────────────────────────────────────────────────────────────────────────────────────────────────────────────────────\n",
      "       Test metric             DataLoader 0\n",
      "────────────────────────────────────────────────────────────────────────────────────────────────────────────────────────\n",
      "     bleu_score_beam        0.10270010679960251\n",
      "    bleu_score_greedy       0.12486544251441956\n",
      "────────────────────────────────────────────────────────────────────────────────────────────────────────────────────────\n"
     ]
    },
    {
     "data": {
      "application/json": {
       "ascii": false,
       "bar_format": null,
       "colour": null,
       "elapsed": 0.017281293869018555,
       "initial": 0,
       "n": 0,
       "ncols": null,
       "nrows": null,
       "postfix": null,
       "prefix": "Testing",
       "rate": null,
       "total": null,
       "unit": "it",
       "unit_divisor": 1000,
       "unit_scale": false
      },
      "application/vnd.jupyter.widget-view+json": {
       "model_id": "ea4b4e06b8b543d080696291be206c92",
       "version_major": 2,
       "version_minor": 0
      },
      "text/plain": [
       "Testing: 0it [00:00, ?it/s]"
      ]
     },
     "metadata": {},
     "output_type": "display_data"
    },
    {
     "name": "stdout",
     "output_type": "stream",
     "text": [
      "────────────────────────────────────────────────────────────────────────────────────────────────────────────────────────\n",
      "       Test metric             DataLoader 0\n",
      "────────────────────────────────────────────────────────────────────────────────────────────────────────────────────────\n",
      "     bleu_score_beam        0.09669148921966553\n",
      "    bleu_score_greedy       0.12486544251441956\n",
      "────────────────────────────────────────────────────────────────────────────────────────────────────────────────────────\n"
     ]
    },
    {
     "data": {
      "application/json": {
       "ascii": false,
       "bar_format": null,
       "colour": null,
       "elapsed": 0.018543720245361328,
       "initial": 0,
       "n": 0,
       "ncols": null,
       "nrows": null,
       "postfix": null,
       "prefix": "Testing",
       "rate": null,
       "total": null,
       "unit": "it",
       "unit_divisor": 1000,
       "unit_scale": false
      },
      "application/vnd.jupyter.widget-view+json": {
       "model_id": "08762abc99a546e8b26a02fc87d03aa5",
       "version_major": 2,
       "version_minor": 0
      },
      "text/plain": [
       "Testing: 0it [00:00, ?it/s]"
      ]
     },
     "metadata": {},
     "output_type": "display_data"
    },
    {
     "name": "stdout",
     "output_type": "stream",
     "text": [
      "────────────────────────────────────────────────────────────────────────────────────────────────────────────────────────\n",
      "       Test metric             DataLoader 0\n",
      "────────────────────────────────────────────────────────────────────────────────────────────────────────────────────────\n",
      "     bleu_score_beam        0.09214728325605392\n",
      "    bleu_score_greedy       0.12486544251441956\n",
      "────────────────────────────────────────────────────────────────────────────────────────────────────────────────────────\n"
     ]
    },
    {
     "data": {
      "application/json": {
       "ascii": false,
       "bar_format": null,
       "colour": null,
       "elapsed": 0.01751852035522461,
       "initial": 0,
       "n": 0,
       "ncols": null,
       "nrows": null,
       "postfix": null,
       "prefix": "Testing",
       "rate": null,
       "total": null,
       "unit": "it",
       "unit_divisor": 1000,
       "unit_scale": false
      },
      "application/vnd.jupyter.widget-view+json": {
       "model_id": "594e8ccfc8524a84850c9ef753060e7e",
       "version_major": 2,
       "version_minor": 0
      },
      "text/plain": [
       "Testing: 0it [00:00, ?it/s]"
      ]
     },
     "metadata": {},
     "output_type": "display_data"
    },
    {
     "name": "stdout",
     "output_type": "stream",
     "text": [
      "────────────────────────────────────────────────────────────────────────────────────────────────────────────────────────\n",
      "       Test metric             DataLoader 0\n",
      "────────────────────────────────────────────────────────────────────────────────────────────────────────────────────────\n",
      "     bleu_score_beam        0.11227952688932419\n",
      "    bleu_score_greedy       0.10975836217403412\n",
      "────────────────────────────────────────────────────────────────────────────────────────────────────────────────────────\n"
     ]
    },
    {
     "data": {
      "application/json": {
       "ascii": false,
       "bar_format": null,
       "colour": null,
       "elapsed": 0.018630504608154297,
       "initial": 0,
       "n": 0,
       "ncols": null,
       "nrows": null,
       "postfix": null,
       "prefix": "Testing",
       "rate": null,
       "total": null,
       "unit": "it",
       "unit_divisor": 1000,
       "unit_scale": false
      },
      "application/vnd.jupyter.widget-view+json": {
       "model_id": "11df8e33293b4e2c8c9231fe3fe76620",
       "version_major": 2,
       "version_minor": 0
      },
      "text/plain": [
       "Testing: 0it [00:00, ?it/s]"
      ]
     },
     "metadata": {},
     "output_type": "display_data"
    },
    {
     "name": "stdout",
     "output_type": "stream",
     "text": [
      "────────────────────────────────────────────────────────────────────────────────────────────────────────────────────────\n",
      "       Test metric             DataLoader 0\n",
      "────────────────────────────────────────────────────────────────────────────────────────────────────────────────────────\n",
      "     bleu_score_beam        0.10395141690969467\n",
      "    bleu_score_greedy       0.10975836217403412\n",
      "────────────────────────────────────────────────────────────────────────────────────────────────────────────────────────\n"
     ]
    },
    {
     "data": {
      "application/json": {
       "ascii": false,
       "bar_format": null,
       "colour": null,
       "elapsed": 0.01851797103881836,
       "initial": 0,
       "n": 0,
       "ncols": null,
       "nrows": null,
       "postfix": null,
       "prefix": "Testing",
       "rate": null,
       "total": null,
       "unit": "it",
       "unit_divisor": 1000,
       "unit_scale": false
      },
      "application/vnd.jupyter.widget-view+json": {
       "model_id": "d85f13090e134c9e87c7ae5a1421bf5c",
       "version_major": 2,
       "version_minor": 0
      },
      "text/plain": [
       "Testing: 0it [00:00, ?it/s]"
      ]
     },
     "metadata": {},
     "output_type": "display_data"
    },
    {
     "name": "stdout",
     "output_type": "stream",
     "text": [
      "────────────────────────────────────────────────────────────────────────────────────────────────────────────────────────\n",
      "       Test metric             DataLoader 0\n",
      "────────────────────────────────────────────────────────────────────────────────────────────────────────────────────────\n",
      "     bleu_score_beam        0.0969390794634819\n",
      "    bleu_score_greedy       0.10975836217403412\n",
      "────────────────────────────────────────────────────────────────────────────────────────────────────────────────────────\n"
     ]
    },
    {
     "data": {
      "application/json": {
       "ascii": false,
       "bar_format": null,
       "colour": null,
       "elapsed": 0.01657390594482422,
       "initial": 0,
       "n": 0,
       "ncols": null,
       "nrows": null,
       "postfix": null,
       "prefix": "Testing",
       "rate": null,
       "total": null,
       "unit": "it",
       "unit_divisor": 1000,
       "unit_scale": false
      },
      "application/vnd.jupyter.widget-view+json": {
       "model_id": "98b1f0ba73d944a995a5ea0579b5370d",
       "version_major": 2,
       "version_minor": 0
      },
      "text/plain": [
       "Testing: 0it [00:00, ?it/s]"
      ]
     },
     "metadata": {},
     "output_type": "display_data"
    },
    {
     "name": "stdout",
     "output_type": "stream",
     "text": [
      "────────────────────────────────────────────────────────────────────────────────────────────────────────────────────────\n",
      "       Test metric             DataLoader 0\n",
      "────────────────────────────────────────────────────────────────────────────────────────────────────────────────────────\n",
      "     bleu_score_beam        0.0925348550081253\n",
      "    bleu_score_greedy       0.10975836217403412\n",
      "────────────────────────────────────────────────────────────────────────────────────────────────────────────────────────\n"
     ]
    },
    {
     "data": {
      "application/json": {
       "ascii": false,
       "bar_format": null,
       "colour": null,
       "elapsed": 0.01952338218688965,
       "initial": 0,
       "n": 0,
       "ncols": null,
       "nrows": null,
       "postfix": null,
       "prefix": "Testing",
       "rate": null,
       "total": null,
       "unit": "it",
       "unit_divisor": 1000,
       "unit_scale": false
      },
      "application/vnd.jupyter.widget-view+json": {
       "model_id": "8596998882ea411dac16b186b5ada566",
       "version_major": 2,
       "version_minor": 0
      },
      "text/plain": [
       "Testing: 0it [00:00, ?it/s]"
      ]
     },
     "metadata": {},
     "output_type": "display_data"
    },
    {
     "name": "stdout",
     "output_type": "stream",
     "text": [
      "────────────────────────────────────────────────────────────────────────────────────────────────────────────────────────\n",
      "       Test metric             DataLoader 0\n",
      "────────────────────────────────────────────────────────────────────────────────────────────────────────────────────────\n",
      "     bleu_score_beam        0.11229399591684341\n",
      "    bleu_score_greedy       0.08688481897115707\n",
      "────────────────────────────────────────────────────────────────────────────────────────────────────────────────────────\n"
     ]
    },
    {
     "data": {
      "application/json": {
       "ascii": false,
       "bar_format": null,
       "colour": null,
       "elapsed": 0.017229080200195312,
       "initial": 0,
       "n": 0,
       "ncols": null,
       "nrows": null,
       "postfix": null,
       "prefix": "Testing",
       "rate": null,
       "total": null,
       "unit": "it",
       "unit_divisor": 1000,
       "unit_scale": false
      },
      "application/vnd.jupyter.widget-view+json": {
       "model_id": "655d5a4e5d624016a2f7e69cd72c8cc6",
       "version_major": 2,
       "version_minor": 0
      },
      "text/plain": [
       "Testing: 0it [00:00, ?it/s]"
      ]
     },
     "metadata": {},
     "output_type": "display_data"
    },
    {
     "name": "stdout",
     "output_type": "stream",
     "text": [
      "────────────────────────────────────────────────────────────────────────────────────────────────────────────────────────\n",
      "       Test metric             DataLoader 0\n",
      "────────────────────────────────────────────────────────────────────────────────────────────────────────────────────────\n",
      "     bleu_score_beam        0.10397815704345703\n",
      "    bleu_score_greedy       0.08688481897115707\n",
      "────────────────────────────────────────────────────────────────────────────────────────────────────────────────────────\n"
     ]
    },
    {
     "data": {
      "application/json": {
       "ascii": false,
       "bar_format": null,
       "colour": null,
       "elapsed": 0.018538951873779297,
       "initial": 0,
       "n": 0,
       "ncols": null,
       "nrows": null,
       "postfix": null,
       "prefix": "Testing",
       "rate": null,
       "total": null,
       "unit": "it",
       "unit_divisor": 1000,
       "unit_scale": false
      },
      "application/vnd.jupyter.widget-view+json": {
       "model_id": "84645f84e0784422905e903e9520d4f7",
       "version_major": 2,
       "version_minor": 0
      },
      "text/plain": [
       "Testing: 0it [00:00, ?it/s]"
      ]
     },
     "metadata": {},
     "output_type": "display_data"
    },
    {
     "name": "stdout",
     "output_type": "stream",
     "text": [
      "────────────────────────────────────────────────────────────────────────────────────────────────────────────────────────\n",
      "       Test metric             DataLoader 0\n",
      "────────────────────────────────────────────────────────────────────────────────────────────────────────────────────────\n",
      "     bleu_score_beam        0.0969390794634819\n",
      "    bleu_score_greedy       0.08688481897115707\n",
      "────────────────────────────────────────────────────────────────────────────────────────────────────────────────────────\n"
     ]
    },
    {
     "data": {
      "application/json": {
       "ascii": false,
       "bar_format": null,
       "colour": null,
       "elapsed": 0.017657756805419922,
       "initial": 0,
       "n": 0,
       "ncols": null,
       "nrows": null,
       "postfix": null,
       "prefix": "Testing",
       "rate": null,
       "total": null,
       "unit": "it",
       "unit_divisor": 1000,
       "unit_scale": false
      },
      "application/vnd.jupyter.widget-view+json": {
       "model_id": "33ee04b3c15945a78046db823431195c",
       "version_major": 2,
       "version_minor": 0
      },
      "text/plain": [
       "Testing: 0it [00:00, ?it/s]"
      ]
     },
     "metadata": {},
     "output_type": "display_data"
    },
    {
     "name": "stdout",
     "output_type": "stream",
     "text": [
      "────────────────────────────────────────────────────────────────────────────────────────────────────────────────────────\n",
      "       Test metric             DataLoader 0\n",
      "────────────────────────────────────────────────────────────────────────────────────────────────────────────────────────\n",
      "     bleu_score_beam        0.0925348550081253\n",
      "    bleu_score_greedy       0.08688481897115707\n",
      "────────────────────────────────────────────────────────────────────────────────────────────────────────────────────────\n"
     ]
    },
    {
     "data": {
      "application/json": {
       "ascii": false,
       "bar_format": null,
       "colour": null,
       "elapsed": 0.015007972717285156,
       "initial": 0,
       "n": 0,
       "ncols": null,
       "nrows": null,
       "postfix": null,
       "prefix": "Testing",
       "rate": null,
       "total": null,
       "unit": "it",
       "unit_divisor": 1000,
       "unit_scale": false
      },
      "application/vnd.jupyter.widget-view+json": {
       "model_id": "386cb1d118d84a11a6ccea3d26bde380",
       "version_major": 2,
       "version_minor": 0
      },
      "text/plain": [
       "Testing: 0it [00:00, ?it/s]"
      ]
     },
     "metadata": {},
     "output_type": "display_data"
    },
    {
     "name": "stdout",
     "output_type": "stream",
     "text": [
      "────────────────────────────────────────────────────────────────────────────────────────────────────────────────────────\n",
      "       Test metric             DataLoader 0\n",
      "────────────────────────────────────────────────────────────────────────────────────────────────────────────────────────\n",
      "     bleu_score_beam        0.11229399591684341\n",
      "    bleu_score_greedy       0.07171960920095444\n",
      "────────────────────────────────────────────────────────────────────────────────────────────────────────────────────────\n"
     ]
    },
    {
     "data": {
      "application/json": {
       "ascii": false,
       "bar_format": null,
       "colour": null,
       "elapsed": 0.01703643798828125,
       "initial": 0,
       "n": 0,
       "ncols": null,
       "nrows": null,
       "postfix": null,
       "prefix": "Testing",
       "rate": null,
       "total": null,
       "unit": "it",
       "unit_divisor": 1000,
       "unit_scale": false
      },
      "application/vnd.jupyter.widget-view+json": {
       "model_id": "8ce7c45fceac477bb8affff611bb9f95",
       "version_major": 2,
       "version_minor": 0
      },
      "text/plain": [
       "Testing: 0it [00:00, ?it/s]"
      ]
     },
     "metadata": {},
     "output_type": "display_data"
    },
    {
     "name": "stdout",
     "output_type": "stream",
     "text": [
      "────────────────────────────────────────────────────────────────────────────────────────────────────────────────────────\n",
      "       Test metric             DataLoader 0\n",
      "────────────────────────────────────────────────────────────────────────────────────────────────────────────────────────\n",
      "     bleu_score_beam        0.10397815704345703\n",
      "    bleu_score_greedy       0.07171960920095444\n",
      "────────────────────────────────────────────────────────────────────────────────────────────────────────────────────────\n"
     ]
    },
    {
     "data": {
      "application/json": {
       "ascii": false,
       "bar_format": null,
       "colour": null,
       "elapsed": 0.017540454864501953,
       "initial": 0,
       "n": 0,
       "ncols": null,
       "nrows": null,
       "postfix": null,
       "prefix": "Testing",
       "rate": null,
       "total": null,
       "unit": "it",
       "unit_divisor": 1000,
       "unit_scale": false
      },
      "application/vnd.jupyter.widget-view+json": {
       "model_id": "e93e258350f244db82d2b1a332d5b602",
       "version_major": 2,
       "version_minor": 0
      },
      "text/plain": [
       "Testing: 0it [00:00, ?it/s]"
      ]
     },
     "metadata": {},
     "output_type": "display_data"
    },
    {
     "name": "stdout",
     "output_type": "stream",
     "text": [
      "────────────────────────────────────────────────────────────────────────────────────────────────────────────────────────\n",
      "       Test metric             DataLoader 0\n",
      "────────────────────────────────────────────────────────────────────────────────────────────────────────────────────────\n",
      "     bleu_score_beam        0.0969390794634819\n",
      "    bleu_score_greedy       0.07171960920095444\n",
      "────────────────────────────────────────────────────────────────────────────────────────────────────────────────────────\n"
     ]
    },
    {
     "data": {
      "application/json": {
       "ascii": false,
       "bar_format": null,
       "colour": null,
       "elapsed": 0.0216066837310791,
       "initial": 0,
       "n": 0,
       "ncols": null,
       "nrows": null,
       "postfix": null,
       "prefix": "Testing",
       "rate": null,
       "total": null,
       "unit": "it",
       "unit_divisor": 1000,
       "unit_scale": false
      },
      "application/vnd.jupyter.widget-view+json": {
       "model_id": "c718eb8b86f041a08689886b4945de47",
       "version_major": 2,
       "version_minor": 0
      },
      "text/plain": [
       "Testing: 0it [00:00, ?it/s]"
      ]
     },
     "metadata": {},
     "output_type": "display_data"
    },
    {
     "name": "stdout",
     "output_type": "stream",
     "text": [
      "────────────────────────────────────────────────────────────────────────────────────────────────────────────────────────\n",
      "       Test metric             DataLoader 0\n",
      "────────────────────────────────────────────────────────────────────────────────────────────────────────────────────────\n",
      "     bleu_score_beam        0.0925348550081253\n",
      "    bleu_score_greedy       0.07171960920095444\n",
      "────────────────────────────────────────────────────────────────────────────────────────────────────────────────────────\n"
     ]
    },
    {
     "data": {
      "application/json": {
       "ascii": false,
       "bar_format": null,
       "colour": null,
       "elapsed": 0.015004873275756836,
       "initial": 0,
       "n": 0,
       "ncols": null,
       "nrows": null,
       "postfix": null,
       "prefix": "Testing",
       "rate": null,
       "total": null,
       "unit": "it",
       "unit_divisor": 1000,
       "unit_scale": false
      },
      "application/vnd.jupyter.widget-view+json": {
       "model_id": "be268d4cc6ff41ed9bd95c0bace362fb",
       "version_major": 2,
       "version_minor": 0
      },
      "text/plain": [
       "Testing: 0it [00:00, ?it/s]"
      ]
     },
     "metadata": {},
     "output_type": "display_data"
    },
    {
     "name": "stdout",
     "output_type": "stream",
     "text": [
      "────────────────────────────────────────────────────────────────────────────────────────────────────────────────────────\n",
      "       Test metric             DataLoader 0\n",
      "────────────────────────────────────────────────────────────────────────────────────────────────────────────────────────\n",
      "     bleu_score_beam        0.11229399591684341\n",
      "    bleu_score_greedy       0.06106547266244888\n",
      "────────────────────────────────────────────────────────────────────────────────────────────────────────────────────────\n"
     ]
    },
    {
     "data": {
      "application/json": {
       "ascii": false,
       "bar_format": null,
       "colour": null,
       "elapsed": 0.02052783966064453,
       "initial": 0,
       "n": 0,
       "ncols": null,
       "nrows": null,
       "postfix": null,
       "prefix": "Testing",
       "rate": null,
       "total": null,
       "unit": "it",
       "unit_divisor": 1000,
       "unit_scale": false
      },
      "application/vnd.jupyter.widget-view+json": {
       "model_id": "390bded3cf8741fa9382458cebf0c2bd",
       "version_major": 2,
       "version_minor": 0
      },
      "text/plain": [
       "Testing: 0it [00:00, ?it/s]"
      ]
     },
     "metadata": {},
     "output_type": "display_data"
    },
    {
     "name": "stdout",
     "output_type": "stream",
     "text": [
      "────────────────────────────────────────────────────────────────────────────────────────────────────────────────────────\n",
      "       Test metric             DataLoader 0\n",
      "────────────────────────────────────────────────────────────────────────────────────────────────────────────────────────\n",
      "     bleu_score_beam        0.10397815704345703\n",
      "    bleu_score_greedy       0.06106547266244888\n",
      "────────────────────────────────────────────────────────────────────────────────────────────────────────────────────────\n"
     ]
    },
    {
     "data": {
      "application/json": {
       "ascii": false,
       "bar_format": null,
       "colour": null,
       "elapsed": 0.03019428253173828,
       "initial": 0,
       "n": 0,
       "ncols": null,
       "nrows": null,
       "postfix": null,
       "prefix": "Testing",
       "rate": null,
       "total": null,
       "unit": "it",
       "unit_divisor": 1000,
       "unit_scale": false
      },
      "application/vnd.jupyter.widget-view+json": {
       "model_id": "7ede578ca96c40d8a5ebeb11e3c6f59d",
       "version_major": 2,
       "version_minor": 0
      },
      "text/plain": [
       "Testing: 0it [00:00, ?it/s]"
      ]
     },
     "metadata": {},
     "output_type": "display_data"
    },
    {
     "name": "stdout",
     "output_type": "stream",
     "text": [
      "────────────────────────────────────────────────────────────────────────────────────────────────────────────────────────\n",
      "       Test metric             DataLoader 0\n",
      "────────────────────────────────────────────────────────────────────────────────────────────────────────────────────────\n",
      "     bleu_score_beam        0.0969390794634819\n",
      "    bleu_score_greedy       0.06106547266244888\n",
      "────────────────────────────────────────────────────────────────────────────────────────────────────────────────────────\n"
     ]
    },
    {
     "data": {
      "application/json": {
       "ascii": false,
       "bar_format": null,
       "colour": null,
       "elapsed": 0.016003847122192383,
       "initial": 0,
       "n": 0,
       "ncols": null,
       "nrows": null,
       "postfix": null,
       "prefix": "Testing",
       "rate": null,
       "total": null,
       "unit": "it",
       "unit_divisor": 1000,
       "unit_scale": false
      },
      "application/vnd.jupyter.widget-view+json": {
       "model_id": "23ddb4857491405cb8b8dc4f6c34dd52",
       "version_major": 2,
       "version_minor": 0
      },
      "text/plain": [
       "Testing: 0it [00:00, ?it/s]"
      ]
     },
     "metadata": {},
     "output_type": "display_data"
    },
    {
     "name": "stdout",
     "output_type": "stream",
     "text": [
      "────────────────────────────────────────────────────────────────────────────────────────────────────────────────────────\n",
      "       Test metric             DataLoader 0\n",
      "────────────────────────────────────────────────────────────────────────────────────────────────────────────────────────\n",
      "     bleu_score_beam        0.0925348550081253\n",
      "    bleu_score_greedy       0.06106547266244888\n",
      "────────────────────────────────────────────────────────────────────────────────────────────────────────────────────────\n"
     ]
    },
    {
     "data": {
      "application/json": {
       "ascii": false,
       "bar_format": null,
       "colour": null,
       "elapsed": 0.020508527755737305,
       "initial": 0,
       "n": 0,
       "ncols": null,
       "nrows": null,
       "postfix": null,
       "prefix": "Testing",
       "rate": null,
       "total": null,
       "unit": "it",
       "unit_divisor": 1000,
       "unit_scale": false
      },
      "application/vnd.jupyter.widget-view+json": {
       "model_id": "f64d0f8c0a7a4efc89ecf3b1b0581902",
       "version_major": 2,
       "version_minor": 0
      },
      "text/plain": [
       "Testing: 0it [00:00, ?it/s]"
      ]
     },
     "metadata": {},
     "output_type": "display_data"
    },
    {
     "name": "stdout",
     "output_type": "stream",
     "text": [
      "────────────────────────────────────────────────────────────────────────────────────────────────────────────────────────\n",
      "       Test metric             DataLoader 0\n",
      "────────────────────────────────────────────────────────────────────────────────────────────────────────────────────────\n",
      "     bleu_score_beam        0.11229399591684341\n",
      "    bleu_score_greedy      0.053156327456235886\n",
      "────────────────────────────────────────────────────────────────────────────────────────────────────────────────────────\n"
     ]
    },
    {
     "data": {
      "application/json": {
       "ascii": false,
       "bar_format": null,
       "colour": null,
       "elapsed": 0.015967369079589844,
       "initial": 0,
       "n": 0,
       "ncols": null,
       "nrows": null,
       "postfix": null,
       "prefix": "Testing",
       "rate": null,
       "total": null,
       "unit": "it",
       "unit_divisor": 1000,
       "unit_scale": false
      },
      "application/vnd.jupyter.widget-view+json": {
       "model_id": "dae7fd479e4b469a87d13a9e27844890",
       "version_major": 2,
       "version_minor": 0
      },
      "text/plain": [
       "Testing: 0it [00:00, ?it/s]"
      ]
     },
     "metadata": {},
     "output_type": "display_data"
    },
    {
     "name": "stdout",
     "output_type": "stream",
     "text": [
      "────────────────────────────────────────────────────────────────────────────────────────────────────────────────────────\n",
      "       Test metric             DataLoader 0\n",
      "────────────────────────────────────────────────────────────────────────────────────────────────────────────────────────\n",
      "     bleu_score_beam        0.10397815704345703\n",
      "    bleu_score_greedy      0.053156327456235886\n",
      "────────────────────────────────────────────────────────────────────────────────────────────────────────────────────────\n"
     ]
    },
    {
     "data": {
      "application/json": {
       "ascii": false,
       "bar_format": null,
       "colour": null,
       "elapsed": 0.01501011848449707,
       "initial": 0,
       "n": 0,
       "ncols": null,
       "nrows": null,
       "postfix": null,
       "prefix": "Testing",
       "rate": null,
       "total": null,
       "unit": "it",
       "unit_divisor": 1000,
       "unit_scale": false
      },
      "application/vnd.jupyter.widget-view+json": {
       "model_id": "e2e1b36d9d71446eb8c6d317462824b6",
       "version_major": 2,
       "version_minor": 0
      },
      "text/plain": [
       "Testing: 0it [00:00, ?it/s]"
      ]
     },
     "metadata": {},
     "output_type": "display_data"
    },
    {
     "name": "stdout",
     "output_type": "stream",
     "text": [
      "────────────────────────────────────────────────────────────────────────────────────────────────────────────────────────\n",
      "       Test metric             DataLoader 0\n",
      "────────────────────────────────────────────────────────────────────────────────────────────────────────────────────────\n",
      "     bleu_score_beam        0.0969390794634819\n",
      "    bleu_score_greedy      0.053156327456235886\n",
      "────────────────────────────────────────────────────────────────────────────────────────────────────────────────────────\n"
     ]
    },
    {
     "data": {
      "application/json": {
       "ascii": false,
       "bar_format": null,
       "colour": null,
       "elapsed": 0.016008615493774414,
       "initial": 0,
       "n": 0,
       "ncols": null,
       "nrows": null,
       "postfix": null,
       "prefix": "Testing",
       "rate": null,
       "total": null,
       "unit": "it",
       "unit_divisor": 1000,
       "unit_scale": false
      },
      "application/vnd.jupyter.widget-view+json": {
       "model_id": "0bdaad59f14043e2b6354219da58647b",
       "version_major": 2,
       "version_minor": 0
      },
      "text/plain": [
       "Testing: 0it [00:00, ?it/s]"
      ]
     },
     "metadata": {},
     "output_type": "display_data"
    },
    {
     "name": "stdout",
     "output_type": "stream",
     "text": [
      "────────────────────────────────────────────────────────────────────────────────────────────────────────────────────────\n",
      "       Test metric             DataLoader 0\n",
      "────────────────────────────────────────────────────────────────────────────────────────────────────────────────────────\n",
      "     bleu_score_beam        0.0925348550081253\n",
      "    bleu_score_greedy      0.053156327456235886\n",
      "────────────────────────────────────────────────────────────────────────────────────────────────────────────────────────\n"
     ]
    }
   ],
   "source": [
    "results = []\n",
    "for max_caption_length in [10, 15, 20, 25, 30, 35, 40]:\n",
    "    for beam_size in [2, 3, 4, 5]:\n",
    "        config[\"max_caption_length\"] = max_caption_length\n",
    "        config[\"beam_size\"] = beam_size\n",
    "        metrics = trainer.test(model, flickr8k_data_module.test_dataloader())\n",
    "        results.append({\n",
    "            \"max_caption_length\": max_caption_length,\n",
    "            \"beam_size\": beam_size,\n",
    "            \"bleu_score_greedy\": metrics[0]['bleu_score_greedy'],\n",
    "            \"bleu_score_beam\": metrics[0]['bleu_score_beam']\n",
    "        })"
   ]
  },
  {
   "cell_type": "code",
   "execution_count": 66,
   "metadata": {},
   "outputs": [],
   "source": [
    "df_results = pd.DataFrame(results).reset_index()"
   ]
  },
  {
   "cell_type": "code",
   "execution_count": 72,
   "metadata": {},
   "outputs": [
    {
     "data": {
      "text/plain": [
       "Text(0.5, 1.0, 'BLEU score for greedy search for different max_caption_length')"
      ]
     },
     "execution_count": 72,
     "metadata": {},
     "output_type": "execute_result"
    },
    {
     "data": {
      "image/png": "[encoded data removed]",
      "text/plain": [
       "<Figure size 432x288 with 1 Axes>"
      ]
     },
     "metadata": {
      "needs_background": "light"
     },
     "output_type": "display_data"
    }
   ],
   "source": [
    "df_greedy = df_results[df_results['beam_size'] == 2]\n",
    "plt.plot(df_greedy['max_caption_length'], df_greedy['bleu_score_greedy'])\n",
    "_ = plt.axvline(df_greedy['max_caption_length'][df_greedy['bleu_score_greedy'].idxmax()], color='r', linestyle='--')\n",
    "plt.text(df_greedy['max_caption_length'][df_greedy['bleu_score_greedy'].idxmax()] + 0.5, df_greedy['bleu_score_greedy'].max() - 0.01, f\"max BLEU score at caption length={df_greedy['max_caption_length'][df_greedy['bleu_score_greedy'].idxmax()]}\")\n",
    "plt.xlabel(\"max_caption_length\")\n",
    "plt.ylabel(\"BLEU score\")\n",
    "plt.title(\"BLEU score for greedy search for different max_caption_length\")"
   ]
  },
  {
   "attachments": {},
   "cell_type": "markdown",
   "metadata": {},
   "source": [
    "Wie dieser Grafik zu entnehmen ist, ist der optimale BLEU score bei 15. Das ist nahe bei der durchschnittlichen Länge der Beschreibungen."
   ]
  },
  {
   "cell_type": "code",
   "execution_count": 75,
   "metadata": {},
   "outputs": [
    {
     "data": {
      "image/png": "[encoded data removed]",
      "text/plain": [
       "<Figure size 432x288 with 1 Axes>"
      ]
     },
     "metadata": {
      "needs_background": "light"
     },
     "output_type": "display_data"
    }
   ],
   "source": [
    "for k in [2, 3, 4, 5]:\n",
    "    df_beam = df_results[df_results['beam_size'] == k]\n",
    "    plt.plot(df_beam['max_caption_length'], df_beam['bleu_score_beam'], label=f\"beam_size={k}\")\n",
    "plt.legend()\n",
    "plt.xlabel(\"max_caption_length\")\n",
    "plt.ylabel(\"BLEU score\")\n",
    "plt.title(\"BLEU score for beam search for different max_caption_length\")\n",
    "plt.show()"
   ]
  },
  {
   "attachments": {},
   "cell_type": "markdown",
   "metadata": {},
   "source": [
    "Dieser Grafik ist zu entnehmen, dass der BLEU-Score nach 20 Wörter nicht mehr zunimmt. Und von 15 auf 20 Wörter ist der Zuwachs nur minimal. Der BLEU-Score wird hier nicht wieder schlechter wie in der Grafik darüber, weil Beamsearch einen Bias für kürzere Sätze hat.\n",
    "\n",
    "Zu meiner Vermutung: max-caption-length hat einen Einfluss auf den BLEU-Score, aber nur bis zu einer max_caption_length von 20.\n",
    "\n",
    "Da Greedy-Search bessere Resultate erzielt hat, nehme ich die max_caption_length von 15."
   ]
  },
  {
   "attachments": {},
   "cell_type": "markdown",
   "metadata": {},
   "source": [
    "# Model v2\n",
    "\n",
    "Mein zweites Modell unterscheidet sich nicht stark zum ersten. Ich möchte hier nur herausfinden, ob eine andere CNN-Architektur aus einem ähnlichen Zeitraum gleiche Ergebnisse liefert. Auch habe ich hier das grösste CNN der Reihe verwendet.\n",
    "\n",
    "Die Densenet Blöcke haben ähnlich wie ResNet auch Verbindungen die gewisse Layers umgehen. So werden innerhalb eines Densenet-Blocks alle Layers miteinander verbunden. Durch diese Skip-Connections (auch wie sie im ResNet verwendet wurden), können CNN-Modelle tiefer werden."
   ]
  },
  {
   "cell_type": "code",
   "execution_count": 77,
   "metadata": {},
   "outputs": [],
   "source": [
    "class ImageCaptioningV2(ImageCaptioning):\n",
    "    def __init__(self, embedding_dim: int, lstm_layers: int, hidden_dim: int, vocabulary_size: int, padding_idx: int, learning_rate: float):\n",
    "        super(ImageCaptioningV2, self).__init__(embedding_dim, lstm_layers, hidden_dim, vocabulary_size, padding_idx, learning_rate)\n",
    "\n",
    "        # Encoder\n",
    "        self.encoder = nn.Sequential(\n",
    "            models.densenet201(weights=models.DenseNet201_Weights.IMAGENET1K_V1),\n",
    "            nn.BatchNorm1d(embedding_dim)\n",
    "        )\n",
    "        for param in self.encoder[0].parameters():\n",
    "            param.requires_grad_(False)\n",
    "        \n",
    "        self.encoder[0].classifier = nn.Linear(self.encoder[0].classifier.in_features, embedding_dim)\n"
   ]
  },
  {
   "attachments": {},
   "cell_type": "markdown",
   "metadata": {},
   "source": [
    "Gleich wie beim ersten Modell habe ich ein Hyperparametertuning für die hidden_dim und embedding_dim durchgeführt."
   ]
  },
  {
   "attachments": {},
   "cell_type": "markdown",
   "metadata": {},
   "source": [
    "# Training Modell v2"
   ]
  },
  {
   "cell_type": "code",
   "execution_count": 24,
   "metadata": {},
   "outputs": [
    {
     "name": "stderr",
     "output_type": "stream",
     "text": [
      "c:\\Users\\flori\\miniconda3\\envs\\del\\lib\\site-packages\\pytorch_lightning\\loggers\\wandb.py:395: UserWarning: There is a wandb run already in progress and newly created instances of `WandbLogger` will reuse this run. If this is not desired, call `wandb.finish()` before instantiating `WandbLogger`.\n",
      "  rank_zero_warn(\n",
      "c:\\Users\\flori\\miniconda3\\envs\\del\\lib\\site-packages\\torch\\nn\\modules\\rnn.py:67: UserWarning: dropout option adds dropout after all but last recurrent layer, so non-zero dropout expects num_layers greater than 1, but got dropout=0.5 and num_layers=1\n",
      "  warnings.warn(\"dropout option adds dropout after all but last \"\n",
      "\u001b[34m\u001b[1mwandb\u001b[0m: logging graph, to disable use `wandb.watch(log_graph=False)`\n",
      "GPU available: True (cuda), used: True\n",
      "TPU available: False, using: 0 TPU cores\n",
      "IPU available: False, using: 0 IPUs\n",
      "HPU available: False, using: 0 HPUs\n",
      "LOCAL_RANK: 0 - CUDA_VISIBLE_DEVICES: [0]\n",
      "\n",
      "  | Name       | Type       | Params\n",
      "------------------------------------------\n",
      "0 | encoder    | Sequential | 22.0 M\n",
      "1 | decoder    | ModuleDict | 50.4 M\n",
      "2 | bleu_score | BLEUScore  | 0     \n",
      "------------------------------------------\n",
      "54.3 M    Trainable params\n",
      "18.1 M    Non-trainable params\n",
      "72.4 M    Total params\n",
      "289.550   Total estimated model params size (MB)\n"
     ]
    },
    {
     "data": {
      "application/json": {
       "ascii": false,
       "bar_format": null,
       "colour": null,
       "elapsed": 0.016000986099243164,
       "initial": 0,
       "n": 0,
       "ncols": null,
       "nrows": null,
       "postfix": null,
       "prefix": "Sanity Checking",
       "rate": null,
       "total": null,
       "unit": "it",
       "unit_divisor": 1000,
       "unit_scale": false
      },
      "application/vnd.jupyter.widget-view+json": {
       "model_id": "68a29ad4c20a4fcc9b022062f640fa6b",
       "version_major": 2,
       "version_minor": 0
      },
      "text/plain": [
       "Sanity Checking: 0it [00:00, ?it/s]"
      ]
     },
     "metadata": {},
     "output_type": "display_data"
    },
    {
     "name": "stderr",
     "output_type": "stream",
     "text": [
      "c:\\Users\\flori\\miniconda3\\envs\\del\\lib\\site-packages\\pytorch_lightning\\trainer\\connectors\\data_connector.py:224: PossibleUserWarning: The dataloader, val_dataloader 0, does not have many workers which may be a bottleneck. Consider increasing the value of the `num_workers` argument` (try 12 which is the number of cpus on this machine) in the `DataLoader` init to improve performance.\n",
      "  rank_zero_warn(\n",
      "c:\\Users\\flori\\miniconda3\\envs\\del\\lib\\site-packages\\pytorch_lightning\\trainer\\connectors\\data_connector.py:224: PossibleUserWarning: The dataloader, train_dataloader, does not have many workers which may be a bottleneck. Consider increasing the value of the `num_workers` argument` (try 12 which is the number of cpus on this machine) in the `DataLoader` init to improve performance.\n",
      "  rank_zero_warn(\n"
     ]
    },
    {
     "data": {
      "application/json": {
       "ascii": false,
       "bar_format": null,
       "colour": null,
       "elapsed": 0.0160064697265625,
       "initial": 0,
       "n": 0,
       "ncols": null,
       "nrows": null,
       "postfix": null,
       "prefix": "Training",
       "rate": null,
       "total": null,
       "unit": "it",
       "unit_divisor": 1000,
       "unit_scale": false
      },
      "application/vnd.jupyter.widget-view+json": {
       "model_id": "761892c23f364769a3f59e4de59dff06",
       "version_major": 2,
       "version_minor": 0
      },
      "text/plain": [
       "Training: 0it [00:00, ?it/s]"
      ]
     },
     "metadata": {},
     "output_type": "display_data"
    },
    {
     "name": "stderr",
     "output_type": "stream",
     "text": [
      "c:\\Users\\flori\\miniconda3\\envs\\del\\lib\\site-packages\\pytorch_lightning\\trainer\\call.py:48: UserWarning: Detected KeyboardInterrupt, attempting graceful shutdown...\n",
      "  rank_zero_warn(\"Detected KeyboardInterrupt, attempting graceful shutdown...\")\n",
      "LOCAL_RANK: 0 - CUDA_VISIBLE_DEVICES: [0]\n",
      "c:\\Users\\flori\\miniconda3\\envs\\del\\lib\\site-packages\\pytorch_lightning\\trainer\\connectors\\data_connector.py:224: PossibleUserWarning: The dataloader, test_dataloader 0, does not have many workers which may be a bottleneck. Consider increasing the value of the `num_workers` argument` (try 12 which is the number of cpus on this machine) in the `DataLoader` init to improve performance.\n",
      "  rank_zero_warn(\n"
     ]
    },
    {
     "data": {
      "application/json": {
       "ascii": false,
       "bar_format": null,
       "colour": null,
       "elapsed": 0.019510507583618164,
       "initial": 0,
       "n": 0,
       "ncols": null,
       "nrows": null,
       "postfix": null,
       "prefix": "Testing",
       "rate": null,
       "total": null,
       "unit": "it",
       "unit_divisor": 1000,
       "unit_scale": false
      },
      "application/vnd.jupyter.widget-view+json": {
       "model_id": "9fed17958d7641669b0bcb4f24ab1fcd",
       "version_major": 2,
       "version_minor": 0
      },
      "text/plain": [
       "Testing: 0it [00:00, ?it/s]"
      ]
     },
     "metadata": {},
     "output_type": "display_data"
    },
    {
     "name": "stderr",
     "output_type": "stream",
     "text": [
      "c:\\Users\\flori\\miniconda3\\envs\\del\\lib\\site-packages\\pytorch_lightning\\utilities\\data.py:84: UserWarning: Trying to infer the `batch_size` from an ambiguous collection. The batch size we found is 128. To avoid any miscalculations, use `self.log(..., batch_size=batch_size)`.\n",
      "  warning_cache.warn(\n",
      "c:\\Users\\flori\\miniconda3\\envs\\del\\lib\\site-packages\\pytorch_lightning\\utilities\\data.py:84: UserWarning: Trying to infer the `batch_size` from an ambiguous collection. The batch size we found is 42. To avoid any miscalculations, use `self.log(..., batch_size=batch_size)`.\n",
      "  warning_cache.warn(\n"
     ]
    },
    {
     "name": "stdout",
     "output_type": "stream",
     "text": [
      "────────────────────────────────────────────────────────────────────────────────────────────────────────────────────────\n",
      "       Test metric             DataLoader 0\n",
      "────────────────────────────────────────────────────────────────────────────────────────────────────────────────────────\n",
      "     bleu_score_beam        0.07551676779985428\n",
      "    bleu_score_greedy      0.028957342728972435\n",
      "────────────────────────────────────────────────────────────────────────────────────────────────────────────────────────\n"
     ]
    },
    {
     "data": {
      "text/html": [
       "Waiting for W&B process to finish... <strong style=\"color:green\">(success).</strong>"
      ],
      "text/plain": [
       "<IPython.core.display.HTML object>"
      ]
     },
     "metadata": {},
     "output_type": "display_data"
    },
    {
     "data": {
      "application/vnd.jupyter.widget-view+json": {
       "model_id": "8af76677533f4dc7918275e307cfcaba",
       "version_major": 2,
       "version_minor": 0
      },
      "text/plain": [
       "VBox(children=(Label(value='0.089 MB of 0.089 MB uploaded (0.000 MB deduped)\\r'), FloatProgress(value=1.0, max…"
      ]
     },
     "metadata": {},
     "output_type": "display_data"
    },
    {
     "data": {
      "text/html": [
       "<style>\n",
       "    table.wandb td:nth-child(1) { padding: 0 10px; text-align: left ; width: auto;} td:nth-child(2) {text-align: left ; width: 100%}\n",
       "    .wandb-row { display: flex; flex-direction: row; flex-wrap: wrap; justify-content: flex-start; width: 100% }\n",
       "    .wandb-col { display: flex; flex-direction: column; flex-basis: 100%; flex: 1; padding: 10px; }\n",
       "    </style>\n",
       "<div class=\"wandb-row\"><div class=\"wandb-col\"><h3>Run history:</h3><br/><table class=\"wandb\"><tr><td>bleu_score_beam</td><td>▁</td></tr><tr><td>bleu_score_greedy</td><td>▁</td></tr><tr><td>epoch</td><td>▁▁▁▁▁▁▁▁▁▁</td></tr><tr><td>train_loss</td><td>█▅▄▃▂▂▂▁▁</td></tr><tr><td>trainer/global_step</td><td>▁▂▃▄▄▅▆▇██</td></tr></table><br/></div><div class=\"wandb-col\"><h3>Run summary:</h3><br/><table class=\"wandb\"><tr><td>bleu_score_beam</td><td>0.07552</td></tr><tr><td>bleu_score_greedy</td><td>0.02896</td></tr><tr><td>epoch</td><td>0</td></tr><tr><td>train_loss</td><td>3.47473</td></tr><tr><td>trainer/global_step</td><td>91</td></tr></table><br/></div></div>"
      ],
      "text/plain": [
       "<IPython.core.display.HTML object>"
      ]
     },
     "metadata": {},
     "output_type": "display_data"
    },
    {
     "data": {
      "text/html": [
       " View run <strong style=\"color:#cdcd00\">royal-bee-106</strong> at: <a href='https://wandb.ai/florin-barbisch/del-mc2/runs/n0utjkrb' target=\"_blank\">https://wandb.ai/florin-barbisch/del-mc2/runs/n0utjkrb</a><br/>Synced 5 W&B file(s), 1 media file(s), 2 artifact file(s) and 0 other file(s)"
      ],
      "text/plain": [
       "<IPython.core.display.HTML object>"
      ]
     },
     "metadata": {},
     "output_type": "display_data"
    },
    {
     "data": {
      "text/html": [
       "Find logs at: <code>.\\wandb\\run-20230613_105424-n0utjkrb\\logs</code>"
      ],
      "text/plain": [
       "<IPython.core.display.HTML object>"
      ]
     },
     "metadata": {},
     "output_type": "display_data"
    }
   ],
   "source": [
    "for dim_size in[512, 1024, 2048, 4096, 8192]:\n",
    "    config[\"hidden_dim\"] = dim_size\n",
    "    config[\"embedding_dim\"] = dim_size\n",
    "    wandb_logger = WandbLogger(name=f\"v2-dim-{dim_size}\", project=\"del-mc2\", entity=\"florin-barbisch\", config=config, log_model=\"all\")\n",
    "\n",
    "    model = ImageCaptioningV2(\n",
    "        config[\"embedding_dim\"],\n",
    "        config[\"lstm_layers\"],\n",
    "        config[\"hidden_dim\"],\n",
    "        len(flickr8k_data_module.vocab),\n",
    "        flickr8k_data_module.vocab.pad_idx,\n",
    "        config[\"learning_rate\"]\n",
    "    )\n",
    "\n",
    "    wandb_logger.watch(model, log=\"all\")\n",
    "\n",
    "    checkpoint_callback = pl.callbacks.ModelCheckpoint(monitor='val_loss')\n",
    "    early_stopping_callback = pl.callbacks.EarlyStopping(monitor='val_loss', patience=5)\n",
    "\n",
    "    trainer = pl.Trainer(\n",
    "        accelerator = config[\"accelerator\"],\n",
    "        max_epochs = config[\"epochs\"],\n",
    "        callbacks = [checkpoint_callback, early_stopping_callback],\n",
    "        logger = wandb_logger,\n",
    "        log_every_n_steps = 10\n",
    "    )\n",
    "\n",
    "    trainer.fit(model, flickr8k_data_module)\n",
    "    trainer.test(model, flickr8k_data_module.test_dataloader())\n",
    "    wandb.finish()"
   ]
  },
  {
   "attachments": {},
   "cell_type": "markdown",
   "metadata": {},
   "source": [
    "# Evaluation Modell v2"
   ]
  },
  {
   "cell_type": "code",
   "execution_count": null,
   "metadata": {},
   "outputs": [],
   "source": [
    "# load model from \"Run data is saved locally in .\\wandb\\run-20230608_075712-xf91x694\"\n",
    "#model = ImageCaptioning.load_from_checkpoint(\"wandb/run-20230608_075712-xf91x694/files/epoch=0-step=0.ckpt\")\n"
   ]
  },
  {
   "cell_type": "code",
   "execution_count": 20,
   "metadata": {},
   "outputs": [
    {
     "name": "stderr",
     "output_type": "stream",
     "text": [
      "Clipping input data to the valid range for imshow with RGB data ([0..1] for floats or [0..255] for integers).\n"
     ]
    },
    {
     "name": "stdout",
     "output_type": "stream",
     "text": [
      "Generated caption: [['a', 'group', 'of', 'men', 'in', 'red', 'shirts', 'and', 'black', 'pants', 'are', 'dancing', 'in', 'front', 'of', 'a', 'crowd', '<eos>']]\n"
     ]
    },
    {
     "data": {
      "image/png": "[encoded data removed]",
      "text/plain": [
       "<Figure size 432x288 with 1 Axes>"
      ]
     },
     "metadata": {
      "needs_background": "light"
     },
     "output_type": "display_data"
    },
    {
     "name": "stderr",
     "output_type": "stream",
     "text": [
      "Clipping input data to the valid range for imshow with RGB data ([0..1] for floats or [0..255] for integers).\n"
     ]
    },
    {
     "name": "stdout",
     "output_type": "stream",
     "text": [
      "Generated caption: [['a', 'woman', 'with', 'a', 'red', 'shirt', 'and', 'a', 'woman', 'with', 'a', 'pink', 'shirt', '<eos>']]\n"
     ]
    },
    {
     "data": {
      "image/png": "[encoded data removed]",
      "text/plain": [
       "<Figure size 432x288 with 1 Axes>"
      ]
     },
     "metadata": {
      "needs_background": "light"
     },
     "output_type": "display_data"
    },
    {
     "name": "stderr",
     "output_type": "stream",
     "text": [
      "Clipping input data to the valid range for imshow with RGB data ([0..1] for floats or [0..255] for integers).\n"
     ]
    },
    {
     "name": "stdout",
     "output_type": "stream",
     "text": [
      "Generated caption: [['a', 'woman', 'in', 'a', 'black', 'jacket', 'and', 'sunglasses', 'is', 'smiling', '<eos>']]\n"
     ]
    },
    {
     "data": {
      "image/png": "[encoded data removed]",
      "text/plain": [
       "<Figure size 432x288 with 1 Axes>"
      ]
     },
     "metadata": {
      "needs_background": "light"
     },
     "output_type": "display_data"
    },
    {
     "name": "stderr",
     "output_type": "stream",
     "text": [
      "Clipping input data to the valid range for imshow with RGB data ([0..1] for floats or [0..255] for integers).\n"
     ]
    },
    {
     "name": "stdout",
     "output_type": "stream",
     "text": [
      "Generated caption: [['a', 'brown', 'dog', 'runs', 'through', 'the', 'grass', '<eos>']]\n"
     ]
    },
    {
     "data": {
      "image/png": "[encoded data removed]",
      "text/plain": [
       "<Figure size 432x288 with 1 Axes>"
      ]
     },
     "metadata": {
      "needs_background": "light"
     },
     "output_type": "display_data"
    },
    {
     "name": "stderr",
     "output_type": "stream",
     "text": [
      "Clipping input data to the valid range for imshow with RGB data ([0..1] for floats or [0..255] for integers).\n"
     ]
    },
    {
     "name": "stdout",
     "output_type": "stream",
     "text": [
      "Generated caption: [['a', 'dog', 'is', 'running', 'through', 'a', 'field', '<eos>']]\n"
     ]
    },
    {
     "data": {
      "image/png": "[encoded data removed]",
      "text/plain": [
       "<Figure size 432x288 with 1 Axes>"
      ]
     },
     "metadata": {
      "needs_background": "light"
     },
     "output_type": "display_data"
    }
   ],
   "source": [
    "# sample on first image and show the result\n",
    "model = model.to(torch.device('cuda'))\n",
    "\n",
    "i = 0\n",
    "for image, caption, _ in iter(flickr8k_data_module.train_dataloader()):\n",
    "    if i == 5:\n",
    "        break\n",
    "    i += 1\n",
    "    image = image.to(torch.device('cuda'))\n",
    "    image = image[0].unsqueeze(0)\n",
    "    # send image to cuda\n",
    "    #caption = caption[0].unsqueeze(0)\n",
    "\n",
    "    generated_caption = model.sample_greedy(image)\n",
    "    print(\"Generated caption:\", generated_caption)\n",
    "\n",
    "    plt.imshow(image[0].permute(1, 2, 0).cpu())\n",
    "    plt.title(f\"Generated caption: {' '.join(generated_caption[0])}\\nOriginal caption: {' '.join([flickr8k_data_module.vocab.idx_to_token(idx.item()) for idx in caption[0]])}\")\n",
    "    plt.show()"
   ]
  }
 ],
 "metadata": {
  "kernelspec": {
   "display_name": ".venv",
   "language": "python",
   "name": "python3"
  },
  "language_info": {
   "codemirror_mode": {
    "name": "ipython",
    "version": 3
   },
   "file_extension": ".py",
   "mimetype": "text/x-python",
   "name": "python",
   "nbconvert_exporter": "python",
   "pygments_lexer": "ipython3",
   "version": "3.10.10"
  },
  "orig_nbformat": 4
 },
 "nbformat": 4,
 "nbformat_minor": 2
}
