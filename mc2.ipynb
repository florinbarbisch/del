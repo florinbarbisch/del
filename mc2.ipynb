{
 "cells": [
  {
   "cell_type": "code",
   "execution_count": 2,
   "metadata": {},
   "outputs": [],
   "source": [
    "import os\n",
    "import time\n",
    "from collections import OrderedDict\n",
    "from typing import Tuple\n",
    "import pandas as pd\n",
    "import numpy as np\n",
    "import matplotlib.pyplot as plt\n",
    "from tqdm import tqdm\n",
    "\n",
    "\n",
    "from PIL import Image\n",
    "\n",
    "\n",
    "import torch\n",
    "import torch.nn as nn\n",
    "import torch.nn.functional as F\n",
    "from torch.utils.data import Dataset, DataLoader, random_split\n",
    "from torchvision import models\n",
    "from torchvision.transforms.functional import to_tensor\n",
    "\n",
    "import pytorch_lightning as pl\n",
    "from pytorch_lightning import Trainer\n",
    "from pytorch_lightning.loggers import WandbLogger\n",
    "\n",
    "from nltk.tokenize import word_tokenize, RegexpTokenizer\n",
    "\n",
    "import wandb\n",
    "\n",
    "\n",
    "# set WANDB_NOTEBOOK_NAME \n",
    "os.environ['WANDB_NOTEBOOK_NAME'] = 'mc2.ipynb'\n"
   ]
  },
  {
   "cell_type": "code",
   "execution_count": 46,
   "metadata": {},
   "outputs": [
    {
     "data": {
      "text/plain": [
       "{'epochs': 150,\n",
       " 'batch_size': 128,\n",
       " 'learning_rate': 0.001,\n",
       " 'accelerator': 'gpu',\n",
       " 'image_dir': 'flickr8k/images',\n",
       " 'caption_file': 'flickr8k/captions.txt',\n",
       " 'embedding_dim': 512,\n",
       " 'lstm_layers': 1,\n",
       " 'max_caption_length': 40,\n",
       " 'debug': False}"
      ]
     },
     "execution_count": 46,
     "metadata": {},
     "output_type": "execute_result"
    }
   ],
   "source": [
    "config = dict(\n",
    "    epochs=150,\n",
    "    batch_size=128,\n",
    "    learning_rate=0.001,\n",
    "    accelerator='gpu' if torch.cuda.is_available() else None,\n",
    "    image_dir = 'flickr8k/images',\n",
    "    caption_file = 'flickr8k/captions.txt',\n",
    "    embedding_dim = 512,\n",
    "    lstm_layers = 1,\n",
    "    max_caption_length = 40,\n",
    "    debug = False,\n",
    ")\n",
    "\n",
    "config"
   ]
  },
  {
   "cell_type": "code",
   "execution_count": 47,
   "metadata": {},
   "outputs": [
    {
     "name": "stdout",
     "output_type": "stream",
     "text": [
      "Vocab size: 4097, Pad index: 0, SOS index: 1, EOS index: 2\n"
     ]
    }
   ],
   "source": [
    "class Vocab():\n",
    "\n",
    "    def __init__(self, captions_file, tokenizer):\n",
    "        self.tokenizer = tokenizer\n",
    "        self.captions_file = captions_file\n",
    "        self.build_vocab()\n",
    "\n",
    "    def build_vocab(self):\n",
    "        vocab = OrderedDict()\n",
    "\n",
    "        # Add special tokens\n",
    "        vocab['<pad>'] = None\n",
    "        vocab['<sos>'] = None\n",
    "        vocab['<eos>'] = None\n",
    "        vocab['<unk>'] = None\n",
    "\n",
    "        captions = pd.read_csv(config[\"caption_file\"], delimiter='|')['caption_text'].str.lower() \\\n",
    "                                                         .replace(r\"[^a-zA-Z0-9\\s]+\", \"\", regex=True) \\\n",
    "                                                         .replace(r'\\s+', ' ', regex=True)\n",
    "        if config[\"debug\"]:\n",
    "            captions = captions[:500:5]\n",
    "        \n",
    "        token_freq = {}\n",
    "        for caption in captions:\n",
    "            for token in self.tokenizer(caption):\n",
    "                if token not in token_freq:\n",
    "                    token_freq[token] = 1\n",
    "                else:\n",
    "                    token_freq[token] += 1\n",
    "\n",
    "        for token, freq in token_freq.items():\n",
    "            if freq >= 3:\n",
    "                vocab[token] = None\n",
    "\n",
    "\n",
    "        self.idx2word = list(vocab.keys())\n",
    "        self.word2idx = {word: idx for idx, word in enumerate(self.idx2word)}\n",
    "\n",
    "        self.pad_idx = self.word2idx['<pad>']\n",
    "        self.sos_idx = self.word2idx['<sos>']\n",
    "        self.eos_idx = self.word2idx['<eos>']\n",
    "\n",
    "    def __len__(self):\n",
    "        return len(self.idx2word)\n",
    "\n",
    "    def token_to_idx(self, token):\n",
    "        if token not in self.word2idx:\n",
    "            return self.word2idx['<unk>']\n",
    "        else:\n",
    "            return self.word2idx[token]\n",
    "\n",
    "    def idx_to_token(self, idx):\n",
    "        return self.idx2word[idx]\n",
    "\n",
    "\n",
    "special_word_tokenizer = RegexpTokenizer( r'(?:\\w+|<\\w+>)') # capture <word> tokens\n",
    "\n",
    "vocab = Vocab(config[\"caption_file\"], tokenizer=special_word_tokenizer.tokenize)\n",
    "\n",
    "print(f'Vocab size: {len(vocab)}, Pad index: {vocab.pad_idx}, SOS index: {vocab.sos_idx}, EOS index: {vocab.eos_idx}')"
   ]
  },
  {
   "cell_type": "code",
   "execution_count": 52,
   "metadata": {},
   "outputs": [
    {
     "name": "stdout",
     "output_type": "stream",
     "text": [
      "Original string: a brown dog is running on the grass, like florin!\n",
      "Tokenized string: ['a', 'brown', 'dog', 'is', 'running', 'on', 'the', 'grass', 'like', 'florin']\n",
      "Tokenized string indices: [4, 42, 29, 9, 114, 39, 24, 66, 1160, 3]\n",
      "Converted string: ['a', 'brown', 'dog', 'is', 'running', 'on', 'the', 'grass', 'like', '<unk>']\n"
     ]
    }
   ],
   "source": [
    "# debug vocab\n",
    "test_string = 'a brown dog is running on the grass, like florin!'\n",
    "print(f'Original string: {test_string}')\n",
    "tokenized_string = special_word_tokenizer.tokenize(test_string)\n",
    "print(f'Tokenized string: {tokenized_string}')\n",
    "tokenized_string_idx = [vocab.token_to_idx(token) for token in tokenized_string]\n",
    "print(f'Tokenized string indices: {tokenized_string_idx}')\n",
    "converted_string = [vocab.idx_to_token(idx) for idx in tokenized_string_idx]\n",
    "print(f'Converted string: {converted_string}')"
   ]
  },
  {
   "cell_type": "code",
   "execution_count": 59,
   "metadata": {},
   "outputs": [],
   "source": [
    "class Flickr8kDataset(Dataset):\n",
    "    def __init__(self, root_dir, captions_file, tokenizer, vocab, transform=None):\n",
    "        \"\"\"\n",
    "        Args:\n",
    "            root_dir (string): Directory with all the images.\n",
    "            captions_file (string): Path to the txt file with captions.\n",
    "            transform (callable, optional): Optional transform to be applied\n",
    "                on a image sample.\n",
    "        \"\"\"\n",
    "        self.root_dir = root_dir\n",
    "        self.df = pd.read_csv(captions_file, delimiter='|')\n",
    "        if config[\"debug\"]:\n",
    "            # select only the first 10 images for testing\n",
    "            self.df = self.df[:500:5]\n",
    "        self.transform = transform\n",
    "        self.tokenizer = tokenizer\n",
    "        self.vocab = vocab\n",
    "\n",
    "        # clean caption_text\n",
    "        self.df['caption_text'] = self.df['caption_text'].str.lower() \\\n",
    "                                                         .replace(r\"[^a-zA-Z0-9\\s]+\", \"\", regex=True) \\\n",
    "                                                         .replace(r'\\s+', \" \", regex=True)\n",
    "        # append <start> and <end> to caption_text\n",
    "        self.df['caption_text'] = self.df['caption_text'].apply(lambda x: '<sos> ' + x + ' <eos>') \\\n",
    "                                                         .apply(lambda x: torch.LongTensor(self._caption_to_idx(x)))\n",
    "        # store memory\n",
    "        self.captions_image_names = list(zip(self.df['caption_text'], self.df['image_name']))\n",
    "        \n",
    "        self.images = {}\n",
    "\n",
    "        # load all images into memory\n",
    "        for img_name in tqdm(self.df['image_name'].unique()):\n",
    "            img_path = os.path.join(self.root_dir, img_name)\n",
    "            image = Image.open(img_path).convert('RGB')\n",
    "            \n",
    "            if self.transform:\n",
    "                image = self.transform(image)\n",
    "\n",
    "            self.images[img_name] = image\n",
    "\n",
    "    def _caption_to_idx(self, caption):\n",
    "        return [self.vocab.token_to_idx(word) for word in self.tokenizer(caption)]\n",
    "    \n",
    "    def __len__(self):\n",
    "        return len(self.df)\n",
    "\n",
    "    def __getitem__(self, idx):\n",
    "        caption, img_name = self.captions_image_names[idx]\n",
    "        image = self.images[img_name].clone()\n",
    "        return image, caption"
   ]
  },
  {
   "cell_type": "code",
   "execution_count": 54,
   "metadata": {},
   "outputs": [
    {
     "name": "stderr",
     "output_type": "stream",
     "text": [
      "100%|██████████| 8091/8091 [01:06<00:00, 121.85it/s]"
     ]
    },
    {
     "name": "stdout",
     "output_type": "stream",
     "text": [
      "40455\n"
     ]
    },
    {
     "name": "stderr",
     "output_type": "stream",
     "text": [
      "\n"
     ]
    }
   ],
   "source": [
    "dataset = Flickr8kDataset(config[\"image_dir\"],\n",
    "                          config[\"caption_file\"],\n",
    "                          special_word_tokenizer.tokenize,\n",
    "                          vocab,\n",
    "                          models.ResNet50_Weights.IMAGENET1K_V1.transforms())\n",
    "print(len(dataset))"
   ]
  },
  {
   "cell_type": "code",
   "execution_count": 7,
   "metadata": {},
   "outputs": [],
   "source": [
    "class Collate:\n",
    "    def __init__(self, pad_idx):\n",
    "        self.pad_idx = pad_idx\n",
    "    \n",
    "    def __call__(self, batch):\n",
    "        images, captions = zip(*batch)\n",
    "        images = torch.stack(images)\n",
    "        captions = nn.utils.rnn.pad_sequence(captions, batch_first=True, padding_value=self.pad_idx)\n",
    "        return images, captions"
   ]
  },
  {
   "cell_type": "code",
   "execution_count": 55,
   "metadata": {},
   "outputs": [
    {
     "name": "stderr",
     "output_type": "stream",
     "text": [
      "Clipping input data to the valid range for imshow with RGB data ([0..1] for floats or [0..255] for integers).\n"
     ]
    },
    {
     "data": {
      "image/png": "[encoded data removed]",
      "text/plain": [
       "<Figure size 432x288 with 1 Axes>"
      ]
     },
     "metadata": {
      "needs_background": "light"
     },
     "output_type": "display_data"
    }
   ],
   "source": [
    "test_loader = DataLoader(dataset,\n",
    "                         batch_size=config[\"batch_size\"],\n",
    "                         shuffle=False,\n",
    "                         pin_memory=True,\n",
    "                         collate_fn=Collate(vocab.pad_idx))\n",
    "for i, (images, captions) in enumerate(test_loader):\n",
    "    token_caption = captions[0]\n",
    "    reconstructed_caption = [vocab.idx_to_token(idx) for idx in token_caption]\n",
    "    plt.imshow(images[0].permute(1, 2, 0))\n",
    "    plt.title(f\"tokenized caption: {token_caption}\\nreconstructed caption: {' '.join(reconstructed_caption)}\")\n",
    "    plt.show()\n",
    "    break"
   ]
  },
  {
   "cell_type": "code",
   "execution_count": 17,
   "metadata": {},
   "outputs": [
    {
     "name": "stderr",
     "output_type": "stream",
     "text": [
      "100%|██████████| 1265/1265 [00:13<00:00, 95.38it/s]\n"
     ]
    }
   ],
   "source": [
    "# analyze the captions lengths\n",
    "lengths = []\n",
    "total_data_loader_len = len(test_loader)\n",
    "for i, (images, captions) in tqdm(enumerate(test_loader), total=total_data_loader_len):\n",
    "    lengths.append(np.array(captions.shape[1] - (captions == vocab.pad_idx).sum(dim=1)))"
   ]
  },
  {
   "cell_type": "code",
   "execution_count": 18,
   "metadata": {},
   "outputs": [
    {
     "data": {
      "text/plain": [
       "(40455,)"
      ]
     },
     "execution_count": 18,
     "metadata": {},
     "output_type": "execute_result"
    }
   ],
   "source": [
    "# convert lengths to numpy array\n",
    "np.concatenate(lengths).shape"
   ]
  },
  {
   "cell_type": "code",
   "execution_count": 19,
   "metadata": {},
   "outputs": [
    {
     "name": "stdout",
     "output_type": "stream",
     "text": [
      "Captions lengths shape: (40455,)\n"
     ]
    },
    {
     "data": {
      "image/png": "[encoded data removed]",
      "text/plain": [
       "<Figure size 432x288 with 1 Axes>"
      ]
     },
     "metadata": {
      "needs_background": "light"
     },
     "output_type": "display_data"
    }
   ],
   "source": [
    "lengths_arr = np.concatenate(lengths)\n",
    "\n",
    "print(\"Captions lengths shape:\", lengths_arr.shape)\n",
    "\n",
    "plt.hist(lengths_arr, bins=40)\n",
    "plt.title(\"Captions lengths, mean={:.2f}\".format(lengths_arr.mean()))\n",
    "plt.show()\n"
   ]
  },
  {
   "attachments": {},
   "cell_type": "markdown",
   "metadata": {},
   "source": [
    "# Model"
   ]
  },
  {
   "cell_type": "code",
   "execution_count": 92,
   "metadata": {},
   "outputs": [
    {
     "name": "stderr",
     "output_type": "stream",
     "text": [
      "c:\\Users\\flori\\miniconda3\\envs\\del\\lib\\site-packages\\torch\\nn\\modules\\rnn.py:67: UserWarning: dropout option adds dropout after all but last recurrent layer, so non-zero dropout expects num_layers greater than 1, but got dropout=0.5 and num_layers=1\n",
      "  warnings.warn(\"dropout option adds dropout after all but last \"\n"
     ]
    },
    {
     "name": "stdout",
     "output_type": "stream",
     "text": [
      "captions: torch.Size([32, 40])\n",
      "outputs: torch.Size([40, 32, 4097])\n",
      "loss: tensor(8.3180, device='cuda:0', grad_fn=<NllLossBackward0>)\n",
      "True\n",
      "True\n",
      "True\n",
      "True\n",
      "True\n",
      "True\n",
      "captions: torch.Size([40, 32])\n",
      "captions: ['checked', 'conversations', 'grinding', 'appears', 'offering', 'smiling', 'hiker', 'poem', 'juggling', 'trotting', 'sale', 'perched', 'bridal', 'chalk', 'swimmers', 'waits', 'join', '19', 'tussle', 'merchandise', 'crawls', 'stump', 'bit', 'interested', 'alleyway', 'rottweiler', 'mall', 'hummingbird', 'rests', 'gets', 'twilight', 'short']\n",
      "Generated caption: [['pile', 'pile', 'been', 'song', 'song', 'song', 'balancing', 'jogging', 'song', 'song', 'balancing', 'jogging', 'song', 'balancing', 'jogging', 'song', 'balancing', 'jogging', 'song', 'balancing', 'jogging', 'song', 'balancing', 'jogging', 'song', 'balancing', 'jogging', 'song', 'balancing', 'jogging']]\n"
     ]
    }
   ],
   "source": [
    "class ImageCaptioning(pl.LightningModule):\n",
    "\n",
    "    def __init__(self, embedding_dim: int, lstm_layers: int, vocabulary_size: int, padding_idx: int, learning_rate: float):\n",
    "        super(ImageCaptioning, self).__init__()\n",
    "\n",
    "        # Encoder\n",
    "        self.encoder = nn.Sequential(\n",
    "            nn.Sequential(*list(models.resnet50(weights=models.ResNet50_Weights.DEFAULT).children())[:-1]),\n",
    "            nn.Flatten(),\n",
    "            nn.Linear(models.resnet50().fc.in_features, embedding_dim),\n",
    "            nn.BatchNorm1d(embedding_dim)\n",
    "        )\n",
    "        for param in self.encoder[0].parameters():\n",
    "            param.requires_grad_(False)\n",
    "\n",
    "        # Decoder\n",
    "        self.decoder = nn.ModuleDict({\n",
    "            'embedding_layer': nn.Embedding(vocabulary_size, embedding_dim),\n",
    "            'lstm': nn.LSTM(input_size=embedding_dim, hidden_size=embedding_dim, num_layers=lstm_layers, dropout = 0.5),\n",
    "            'inv_embedding': nn.Sequential(nn.Linear(embedding_dim, vocabulary_size), nn.LogSoftmax(dim=2))\n",
    "        })\n",
    "        \n",
    "        self.learning_rate = learning_rate\n",
    "\n",
    "        # Initialize weights\n",
    "        self.init_weights()\n",
    "        \n",
    "        self.save_hyperparameters()\n",
    "\n",
    "\n",
    "    def init_weights(self):\n",
    "        # Initialize the linear layer with the uniform distribution\n",
    "        nn.init.uniform_(self.encoder[2].weight, -0.1, 0.1)\n",
    "        nn.init.zeros_(self.encoder[2].bias)\n",
    "        \n",
    "        # Initialize the embedding layer with the uniform distribution\n",
    "        nn.init.uniform_(self.decoder['embedding_layer'].weight, -0.1, 0.1)\n",
    "        \n",
    "        nn.init.uniform_(self.decoder['inv_embedding'][0].weight, -0.1, 0.1)\n",
    "        nn.init.zeros_(self.decoder['inv_embedding'][0].bias)\n",
    "\n",
    "\n",
    "    def forward(self, images: torch.Tensor, captions: torch.Tensor) -> torch.Tensor:\n",
    "        # Encoder forward\n",
    "        # images: (batch_size, channels, pixels, pixels)\n",
    "        image_embedding = self.encoder(images) # (batch_size, embedding_dim)\n",
    "\n",
    "        # Decoder forward\n",
    "        word_embeddings = self.decoder['embedding_layer'](captions).permute(1, 0, 2) # (seq_len, batch_size, embedding_dim)\n",
    "        \n",
    "        embeddings = torch.cat((image_embedding.unsqueeze(0), word_embeddings), dim=0)\n",
    "\n",
    "        outputs, _ = self.decoder['lstm'](embeddings) # (seq_len, batch_size, embedding_dim)\n",
    "        outputs = self.decoder['inv_embedding'](outputs) # (seq_len, batch_size, vocab_size)\n",
    "        return outputs\n",
    "\n",
    "\n",
    "    def configure_optimizers(self):\n",
    "        return torch.optim.Adam(filter(lambda p: p.requires_grad, self.parameters()), lr=self.learning_rate, weight_decay=0.0001)\n",
    "\n",
    "    \n",
    "    def training_step(self, batch, batch_idx):\n",
    "        self.train()\n",
    "        images, captions = batch\n",
    "        outputs = self(images, captions[:,:-1])\n",
    "        outputs = outputs[1:] # remove the first word from the output\n",
    "        captions = captions.permute(1, 0)[1:] # remove the first word from the target\n",
    "        captions = F.one_hot(captions, num_classes=len(vocab)).float()\n",
    "        loss = F.nll_loss(outputs.flatten(end_dim=1), captions.flatten(end_dim=1).argmax(dim=1), ignore_index=int(vocab.pad_idx))\n",
    "        self.log('train_loss', loss)\n",
    "        return loss\n",
    "\n",
    "    def validation_step(self, batch, batch_idx):\n",
    "        self.eval()\n",
    "        images, captions = batch\n",
    "        outputs = self(images, captions[:,:-1])\n",
    "        outputs = outputs[1:] # remove the first word from the output\n",
    "        captions = captions.permute(1, 0)[1:] # remove the first word from the target\n",
    "        # one hot encode the target\n",
    "        captions = F.one_hot(captions, num_classes=len(vocab)).float()\n",
    "        loss = F.nll_loss(outputs.flatten(end_dim=1), captions.flatten(end_dim=1).argmax(dim=1), ignore_index=int(vocab.pad_idx))\n",
    "        self.log('val_loss', loss)\n",
    "        return loss\n",
    "    \n",
    "\n",
    "    def sample(self, images: torch.Tensor, max_length: int = 30):\n",
    "        self.eval()\n",
    "\n",
    "        # Encoder forward\n",
    "        image_embedding = self.encoder(images) # (batch_size, embedding_dim)\n",
    "\n",
    "        # Initial input for the LSTM cell (start token)\n",
    "        input_token = torch.tensor([[vocab.sos_idx]], device=images.device)\n",
    "\n",
    "        output, hidden = self.decoder['lstm'](image_embedding.unsqueeze(0))\n",
    "\n",
    "        generated_caption = []\n",
    "        for _ in range(max_length):\n",
    "            # Embed the input\n",
    "            input_embed = self.decoder['embedding_layer'](input_token).permute(1, 0, 2)\n",
    "            \n",
    "            # LSTM forward\n",
    "            output, hidden = self.decoder['lstm'](input_embed, hidden)\n",
    "            output = self.decoder['inv_embedding'](output)\n",
    "            \n",
    "            # Get the maximum probable word (greedy decoding)\n",
    "            predicted_word_idx = output.argmax(dim=2)\n",
    "            generated_caption.append(predicted_word_idx)\n",
    "\n",
    "            if predicted_word_idx == vocab.eos_idx:\n",
    "                break\n",
    "\n",
    "            input_token = predicted_word_idx\n",
    "\n",
    "        # Convert the caption into a sequence of words\n",
    "        generated_caption = torch.cat(generated_caption, dim=0).permute(1, 0).tolist() \n",
    "        generated_caption = [[vocab.idx_to_token(idx) for idx in caption] for caption in generated_caption]\n",
    "\n",
    "        return generated_caption\n",
    "\n",
    "\n",
    "image_captioning = ImageCaptioning(512, 1, len(vocab), vocab.pad_idx, 0.001).to(torch.device('cuda')) # just to get feedback faster, not used in pl.Trainer \n",
    "\n",
    "image_captioning.train()\n",
    "\n",
    "# create random tensor of images and captions \n",
    "images = torch.randn(32, 3, 500, 500).to(torch.device('cuda')) # just to get feedback faster, not used in pl.Trainer \n",
    "# sequence of 40 words\n",
    "captions = torch.randint(0, len(vocab), (32, 40)).to(torch.device('cuda')) # just to get feedback faster, not used in pl.Trainer \n",
    "print(\"captions:\", captions.size())\n",
    "\n",
    "outputs = image_captioning(images, captions[:,:-1])\n",
    "\n",
    "\n",
    "print(\"outputs:\", outputs.size())\n",
    "\n",
    "# compute loss\n",
    "#loss = nn.NLLLoss()(outputs.permute(1, 2, 0), captions.permute(1, 0))\n",
    "loss = nn.NLLLoss(ignore_index=int(vocab.pad_idx))(outputs.reshape(-1, outputs.size(2)), captions.reshape(-1))\n",
    "\n",
    "print(\"loss:\", loss)\n",
    "\n",
    "# check if on cuda\n",
    "print(next(image_captioning.parameters()).is_cuda)\n",
    "print(next(image_captioning.encoder.parameters()).is_cuda)\n",
    "print(next(image_captioning.decoder['embedding_layer'].parameters()).is_cuda)\n",
    "print(next(image_captioning.decoder['lstm'].parameters()).is_cuda)\n",
    "print(next(image_captioning.decoder['inv_embedding'].parameters()).is_cuda)\n",
    "print(outputs.is_cuda)\n",
    "\n",
    "# convert outputs to captions_idx\n",
    "captions = torch.argmax(outputs, dim=2)\n",
    "print(\"captions:\", captions.size())\n",
    "\n",
    "# convert captions_idx to captions\n",
    "captions = [[vocab.idx_to_token(idx.item()) for idx in caption] for caption in captions]\n",
    "print(\"captions:\", captions[0])\n",
    "\n",
    "image = torch.randn(1, 3, 500, 500).to(torch.device('cuda')) \n",
    "caption = image_captioning.sample(image)\n",
    "print(\"Generated caption:\", caption)"
   ]
  },
  {
   "cell_type": "code",
   "execution_count": 62,
   "metadata": {},
   "outputs": [
    {
     "data": {
      "text/plain": [
       "ImageCaptioning(\n",
       "  (encoder): Sequential(\n",
       "    (0): Sequential(\n",
       "      (0): Conv2d(3, 64, kernel_size=(7, 7), stride=(2, 2), padding=(3, 3), bias=False)\n",
       "      (1): BatchNorm2d(64, eps=1e-05, momentum=0.1, affine=True, track_running_stats=True)\n",
       "      (2): ReLU(inplace=True)\n",
       "      (3): MaxPool2d(kernel_size=3, stride=2, padding=1, dilation=1, ceil_mode=False)\n",
       "      (4): Sequential(\n",
       "        (0): Bottleneck(\n",
       "          (conv1): Conv2d(64, 64, kernel_size=(1, 1), stride=(1, 1), bias=False)\n",
       "          (bn1): BatchNorm2d(64, eps=1e-05, momentum=0.1, affine=True, track_running_stats=True)\n",
       "          (conv2): Conv2d(64, 64, kernel_size=(3, 3), stride=(1, 1), padding=(1, 1), bias=False)\n",
       "          (bn2): BatchNorm2d(64, eps=1e-05, momentum=0.1, affine=True, track_running_stats=True)\n",
       "          (conv3): Conv2d(64, 256, kernel_size=(1, 1), stride=(1, 1), bias=False)\n",
       "          (bn3): BatchNorm2d(256, eps=1e-05, momentum=0.1, affine=True, track_running_stats=True)\n",
       "          (relu): ReLU(inplace=True)\n",
       "          (downsample): Sequential(\n",
       "            (0): Conv2d(64, 256, kernel_size=(1, 1), stride=(1, 1), bias=False)\n",
       "            (1): BatchNorm2d(256, eps=1e-05, momentum=0.1, affine=True, track_running_stats=True)\n",
       "          )\n",
       "        )\n",
       "        (1): Bottleneck(\n",
       "          (conv1): Conv2d(256, 64, kernel_size=(1, 1), stride=(1, 1), bias=False)\n",
       "          (bn1): BatchNorm2d(64, eps=1e-05, momentum=0.1, affine=True, track_running_stats=True)\n",
       "          (conv2): Conv2d(64, 64, kernel_size=(3, 3), stride=(1, 1), padding=(1, 1), bias=False)\n",
       "          (bn2): BatchNorm2d(64, eps=1e-05, momentum=0.1, affine=True, track_running_stats=True)\n",
       "          (conv3): Conv2d(64, 256, kernel_size=(1, 1), stride=(1, 1), bias=False)\n",
       "          (bn3): BatchNorm2d(256, eps=1e-05, momentum=0.1, affine=True, track_running_stats=True)\n",
       "          (relu): ReLU(inplace=True)\n",
       "        )\n",
       "        (2): Bottleneck(\n",
       "          (conv1): Conv2d(256, 64, kernel_size=(1, 1), stride=(1, 1), bias=False)\n",
       "          (bn1): BatchNorm2d(64, eps=1e-05, momentum=0.1, affine=True, track_running_stats=True)\n",
       "          (conv2): Conv2d(64, 64, kernel_size=(3, 3), stride=(1, 1), padding=(1, 1), bias=False)\n",
       "          (bn2): BatchNorm2d(64, eps=1e-05, momentum=0.1, affine=True, track_running_stats=True)\n",
       "          (conv3): Conv2d(64, 256, kernel_size=(1, 1), stride=(1, 1), bias=False)\n",
       "          (bn3): BatchNorm2d(256, eps=1e-05, momentum=0.1, affine=True, track_running_stats=True)\n",
       "          (relu): ReLU(inplace=True)\n",
       "        )\n",
       "      )\n",
       "      (5): Sequential(\n",
       "        (0): Bottleneck(\n",
       "          (conv1): Conv2d(256, 128, kernel_size=(1, 1), stride=(1, 1), bias=False)\n",
       "          (bn1): BatchNorm2d(128, eps=1e-05, momentum=0.1, affine=True, track_running_stats=True)\n",
       "          (conv2): Conv2d(128, 128, kernel_size=(3, 3), stride=(2, 2), padding=(1, 1), bias=False)\n",
       "          (bn2): BatchNorm2d(128, eps=1e-05, momentum=0.1, affine=True, track_running_stats=True)\n",
       "          (conv3): Conv2d(128, 512, kernel_size=(1, 1), stride=(1, 1), bias=False)\n",
       "          (bn3): BatchNorm2d(512, eps=1e-05, momentum=0.1, affine=True, track_running_stats=True)\n",
       "          (relu): ReLU(inplace=True)\n",
       "          (downsample): Sequential(\n",
       "            (0): Conv2d(256, 512, kernel_size=(1, 1), stride=(2, 2), bias=False)\n",
       "            (1): BatchNorm2d(512, eps=1e-05, momentum=0.1, affine=True, track_running_stats=True)\n",
       "          )\n",
       "        )\n",
       "        (1): Bottleneck(\n",
       "          (conv1): Conv2d(512, 128, kernel_size=(1, 1), stride=(1, 1), bias=False)\n",
       "          (bn1): BatchNorm2d(128, eps=1e-05, momentum=0.1, affine=True, track_running_stats=True)\n",
       "          (conv2): Conv2d(128, 128, kernel_size=(3, 3), stride=(1, 1), padding=(1, 1), bias=False)\n",
       "          (bn2): BatchNorm2d(128, eps=1e-05, momentum=0.1, affine=True, track_running_stats=True)\n",
       "          (conv3): Conv2d(128, 512, kernel_size=(1, 1), stride=(1, 1), bias=False)\n",
       "          (bn3): BatchNorm2d(512, eps=1e-05, momentum=0.1, affine=True, track_running_stats=True)\n",
       "          (relu): ReLU(inplace=True)\n",
       "        )\n",
       "        (2): Bottleneck(\n",
       "          (conv1): Conv2d(512, 128, kernel_size=(1, 1), stride=(1, 1), bias=False)\n",
       "          (bn1): BatchNorm2d(128, eps=1e-05, momentum=0.1, affine=True, track_running_stats=True)\n",
       "          (conv2): Conv2d(128, 128, kernel_size=(3, 3), stride=(1, 1), padding=(1, 1), bias=False)\n",
       "          (bn2): BatchNorm2d(128, eps=1e-05, momentum=0.1, affine=True, track_running_stats=True)\n",
       "          (conv3): Conv2d(128, 512, kernel_size=(1, 1), stride=(1, 1), bias=False)\n",
       "          (bn3): BatchNorm2d(512, eps=1e-05, momentum=0.1, affine=True, track_running_stats=True)\n",
       "          (relu): ReLU(inplace=True)\n",
       "        )\n",
       "        (3): Bottleneck(\n",
       "          (conv1): Conv2d(512, 128, kernel_size=(1, 1), stride=(1, 1), bias=False)\n",
       "          (bn1): BatchNorm2d(128, eps=1e-05, momentum=0.1, affine=True, track_running_stats=True)\n",
       "          (conv2): Conv2d(128, 128, kernel_size=(3, 3), stride=(1, 1), padding=(1, 1), bias=False)\n",
       "          (bn2): BatchNorm2d(128, eps=1e-05, momentum=0.1, affine=True, track_running_stats=True)\n",
       "          (conv3): Conv2d(128, 512, kernel_size=(1, 1), stride=(1, 1), bias=False)\n",
       "          (bn3): BatchNorm2d(512, eps=1e-05, momentum=0.1, affine=True, track_running_stats=True)\n",
       "          (relu): ReLU(inplace=True)\n",
       "        )\n",
       "      )\n",
       "      (6): Sequential(\n",
       "        (0): Bottleneck(\n",
       "          (conv1): Conv2d(512, 256, kernel_size=(1, 1), stride=(1, 1), bias=False)\n",
       "          (bn1): BatchNorm2d(256, eps=1e-05, momentum=0.1, affine=True, track_running_stats=True)\n",
       "          (conv2): Conv2d(256, 256, kernel_size=(3, 3), stride=(2, 2), padding=(1, 1), bias=False)\n",
       "          (bn2): BatchNorm2d(256, eps=1e-05, momentum=0.1, affine=True, track_running_stats=True)\n",
       "          (conv3): Conv2d(256, 1024, kernel_size=(1, 1), stride=(1, 1), bias=False)\n",
       "          (bn3): BatchNorm2d(1024, eps=1e-05, momentum=0.1, affine=True, track_running_stats=True)\n",
       "          (relu): ReLU(inplace=True)\n",
       "          (downsample): Sequential(\n",
       "            (0): Conv2d(512, 1024, kernel_size=(1, 1), stride=(2, 2), bias=False)\n",
       "            (1): BatchNorm2d(1024, eps=1e-05, momentum=0.1, affine=True, track_running_stats=True)\n",
       "          )\n",
       "        )\n",
       "        (1): Bottleneck(\n",
       "          (conv1): Conv2d(1024, 256, kernel_size=(1, 1), stride=(1, 1), bias=False)\n",
       "          (bn1): BatchNorm2d(256, eps=1e-05, momentum=0.1, affine=True, track_running_stats=True)\n",
       "          (conv2): Conv2d(256, 256, kernel_size=(3, 3), stride=(1, 1), padding=(1, 1), bias=False)\n",
       "          (bn2): BatchNorm2d(256, eps=1e-05, momentum=0.1, affine=True, track_running_stats=True)\n",
       "          (conv3): Conv2d(256, 1024, kernel_size=(1, 1), stride=(1, 1), bias=False)\n",
       "          (bn3): BatchNorm2d(1024, eps=1e-05, momentum=0.1, affine=True, track_running_stats=True)\n",
       "          (relu): ReLU(inplace=True)\n",
       "        )\n",
       "        (2): Bottleneck(\n",
       "          (conv1): Conv2d(1024, 256, kernel_size=(1, 1), stride=(1, 1), bias=False)\n",
       "          (bn1): BatchNorm2d(256, eps=1e-05, momentum=0.1, affine=True, track_running_stats=True)\n",
       "          (conv2): Conv2d(256, 256, kernel_size=(3, 3), stride=(1, 1), padding=(1, 1), bias=False)\n",
       "          (bn2): BatchNorm2d(256, eps=1e-05, momentum=0.1, affine=True, track_running_stats=True)\n",
       "          (conv3): Conv2d(256, 1024, kernel_size=(1, 1), stride=(1, 1), bias=False)\n",
       "          (bn3): BatchNorm2d(1024, eps=1e-05, momentum=0.1, affine=True, track_running_stats=True)\n",
       "          (relu): ReLU(inplace=True)\n",
       "        )\n",
       "        (3): Bottleneck(\n",
       "          (conv1): Conv2d(1024, 256, kernel_size=(1, 1), stride=(1, 1), bias=False)\n",
       "          (bn1): BatchNorm2d(256, eps=1e-05, momentum=0.1, affine=True, track_running_stats=True)\n",
       "          (conv2): Conv2d(256, 256, kernel_size=(3, 3), stride=(1, 1), padding=(1, 1), bias=False)\n",
       "          (bn2): BatchNorm2d(256, eps=1e-05, momentum=0.1, affine=True, track_running_stats=True)\n",
       "          (conv3): Conv2d(256, 1024, kernel_size=(1, 1), stride=(1, 1), bias=False)\n",
       "          (bn3): BatchNorm2d(1024, eps=1e-05, momentum=0.1, affine=True, track_running_stats=True)\n",
       "          (relu): ReLU(inplace=True)\n",
       "        )\n",
       "        (4): Bottleneck(\n",
       "          (conv1): Conv2d(1024, 256, kernel_size=(1, 1), stride=(1, 1), bias=False)\n",
       "          (bn1): BatchNorm2d(256, eps=1e-05, momentum=0.1, affine=True, track_running_stats=True)\n",
       "          (conv2): Conv2d(256, 256, kernel_size=(3, 3), stride=(1, 1), padding=(1, 1), bias=False)\n",
       "          (bn2): BatchNorm2d(256, eps=1e-05, momentum=0.1, affine=True, track_running_stats=True)\n",
       "          (conv3): Conv2d(256, 1024, kernel_size=(1, 1), stride=(1, 1), bias=False)\n",
       "          (bn3): BatchNorm2d(1024, eps=1e-05, momentum=0.1, affine=True, track_running_stats=True)\n",
       "          (relu): ReLU(inplace=True)\n",
       "        )\n",
       "        (5): Bottleneck(\n",
       "          (conv1): Conv2d(1024, 256, kernel_size=(1, 1), stride=(1, 1), bias=False)\n",
       "          (bn1): BatchNorm2d(256, eps=1e-05, momentum=0.1, affine=True, track_running_stats=True)\n",
       "          (conv2): Conv2d(256, 256, kernel_size=(3, 3), stride=(1, 1), padding=(1, 1), bias=False)\n",
       "          (bn2): BatchNorm2d(256, eps=1e-05, momentum=0.1, affine=True, track_running_stats=True)\n",
       "          (conv3): Conv2d(256, 1024, kernel_size=(1, 1), stride=(1, 1), bias=False)\n",
       "          (bn3): BatchNorm2d(1024, eps=1e-05, momentum=0.1, affine=True, track_running_stats=True)\n",
       "          (relu): ReLU(inplace=True)\n",
       "        )\n",
       "      )\n",
       "      (7): Sequential(\n",
       "        (0): Bottleneck(\n",
       "          (conv1): Conv2d(1024, 512, kernel_size=(1, 1), stride=(1, 1), bias=False)\n",
       "          (bn1): BatchNorm2d(512, eps=1e-05, momentum=0.1, affine=True, track_running_stats=True)\n",
       "          (conv2): Conv2d(512, 512, kernel_size=(3, 3), stride=(2, 2), padding=(1, 1), bias=False)\n",
       "          (bn2): BatchNorm2d(512, eps=1e-05, momentum=0.1, affine=True, track_running_stats=True)\n",
       "          (conv3): Conv2d(512, 2048, kernel_size=(1, 1), stride=(1, 1), bias=False)\n",
       "          (bn3): BatchNorm2d(2048, eps=1e-05, momentum=0.1, affine=True, track_running_stats=True)\n",
       "          (relu): ReLU(inplace=True)\n",
       "          (downsample): Sequential(\n",
       "            (0): Conv2d(1024, 2048, kernel_size=(1, 1), stride=(2, 2), bias=False)\n",
       "            (1): BatchNorm2d(2048, eps=1e-05, momentum=0.1, affine=True, track_running_stats=True)\n",
       "          )\n",
       "        )\n",
       "        (1): Bottleneck(\n",
       "          (conv1): Conv2d(2048, 512, kernel_size=(1, 1), stride=(1, 1), bias=False)\n",
       "          (bn1): BatchNorm2d(512, eps=1e-05, momentum=0.1, affine=True, track_running_stats=True)\n",
       "          (conv2): Conv2d(512, 512, kernel_size=(3, 3), stride=(1, 1), padding=(1, 1), bias=False)\n",
       "          (bn2): BatchNorm2d(512, eps=1e-05, momentum=0.1, affine=True, track_running_stats=True)\n",
       "          (conv3): Conv2d(512, 2048, kernel_size=(1, 1), stride=(1, 1), bias=False)\n",
       "          (bn3): BatchNorm2d(2048, eps=1e-05, momentum=0.1, affine=True, track_running_stats=True)\n",
       "          (relu): ReLU(inplace=True)\n",
       "        )\n",
       "        (2): Bottleneck(\n",
       "          (conv1): Conv2d(2048, 512, kernel_size=(1, 1), stride=(1, 1), bias=False)\n",
       "          (bn1): BatchNorm2d(512, eps=1e-05, momentum=0.1, affine=True, track_running_stats=True)\n",
       "          (conv2): Conv2d(512, 512, kernel_size=(3, 3), stride=(1, 1), padding=(1, 1), bias=False)\n",
       "          (bn2): BatchNorm2d(512, eps=1e-05, momentum=0.1, affine=True, track_running_stats=True)\n",
       "          (conv3): Conv2d(512, 2048, kernel_size=(1, 1), stride=(1, 1), bias=False)\n",
       "          (bn3): BatchNorm2d(2048, eps=1e-05, momentum=0.1, affine=True, track_running_stats=True)\n",
       "          (relu): ReLU(inplace=True)\n",
       "        )\n",
       "      )\n",
       "      (8): AdaptiveAvgPool2d(output_size=(1, 1))\n",
       "    )\n",
       "    (1): Flatten(start_dim=1, end_dim=-1)\n",
       "    (2): Linear(in_features=2048, out_features=512, bias=True)\n",
       "    (3): BatchNorm1d(512, eps=1e-05, momentum=0.1, affine=True, track_running_stats=True)\n",
       "  )\n",
       "  (decoder): ModuleDict(\n",
       "    (embedding_layer): Embedding(4097, 512, padding_idx=0)\n",
       "    (lstm): LSTM(512, 512, dropout=0.5)\n",
       "    (inv_embedding): Sequential(\n",
       "      (0): Linear(in_features=512, out_features=4097, bias=True)\n",
       "      (1): LogSoftmax(dim=2)\n",
       "    )\n",
       "  )\n",
       ")"
      ]
     },
     "execution_count": 62,
     "metadata": {},
     "output_type": "execute_result"
    }
   ],
   "source": [
    "image_captioning"
   ]
  },
  {
   "cell_type": "code",
   "execution_count": 57,
   "metadata": {},
   "outputs": [
    {
     "data": {
      "text/plain": [
       "(tensor([[[ 1,  2,  3,  4,  5],\n",
       "          [ 6,  7,  8,  9, 10]],\n",
       " \n",
       "         [[11, 12, 13, 14, 15],\n",
       "          [16, 17, 18, 19, 20]],\n",
       " \n",
       "         [[21, 22, 23, 24, 25],\n",
       "          [26, 27, 28, 29, 30]]]),\n",
       " tensor([[ 1,  2,  3,  4,  5],\n",
       "         [ 6,  7,  8,  9, 10],\n",
       "         [11, 12, 13, 14, 15],\n",
       "         [16, 17, 18, 19, 20],\n",
       "         [21, 22, 23, 24, 25],\n",
       "         [26, 27, 28, 29, 30]]))"
      ]
     },
     "execution_count": 57,
     "metadata": {},
     "output_type": "execute_result"
    }
   ],
   "source": [
    "# shape (3, 2, 5)\n",
    "# using integers for simplicity\n",
    "x = torch.tensor([[[1, 2, 3, 4, 5],\n",
    "                     [6, 7, 8, 9, 10]],\n",
    "                    [[11, 12, 13, 14, 15],\n",
    "                        [16, 17, 18, 19, 20]],\n",
    "                    [[21, 22, 23, 24, 25],\n",
    "                        [26, 27, 28, 29, 30]]])\n",
    "x, x.reshape(-1, x.size(2))"
   ]
  },
  {
   "cell_type": "code",
   "execution_count": 12,
   "metadata": {},
   "outputs": [
    {
     "name": "stdout",
     "output_type": "stream",
     "text": [
      "Number of parameters: 35711167\n"
     ]
    },
    {
     "data": {
      "text/plain": [
       "'model.png'"
      ]
     },
     "execution_count": 12,
     "metadata": {},
     "output_type": "execute_result"
    }
   ],
   "source": [
    "\"\"\"\n",
    "# visualize the model\n",
    "from torchviz import make_dot\n",
    "\n",
    "# print number of parameters\n",
    "params = list(image_encoder.parameters()) + list(caption_decoder.parameters())\n",
    "print(\"Number of parameters:\", sum([np.prod(p.size()) for p in params]))\n",
    "\n",
    "make_dot(outputs, params=dict(list(image_encoder.named_parameters()) + list(caption_decoder.named_parameters()))).render(\"model\", format=\"png\")\n",
    "\"\"\""
   ]
  },
  {
   "cell_type": "code",
   "execution_count": 60,
   "metadata": {},
   "outputs": [],
   "source": [
    "class Flickr8kDataModule(pl.LightningDataModule):\n",
    "    def __init__(self, config, transform=None):\n",
    "        super().__init__()\n",
    "        self.config = config\n",
    "        self.transform = transform\n",
    "        self.special_word_tokenizer = RegexpTokenizer( r'(?:\\w+|<\\w+>)') # capture <word> tokens\n",
    "        self.vocab = Vocab(self.config[\"caption_file\"], tokenizer=self.special_word_tokenizer.tokenize)\n",
    "        self.config['vocab_size'] = len(self.vocab)\n",
    "        self.collate_fn = Collate(self.vocab.pad_idx)\n",
    "\n",
    "\n",
    "    def setup(self, stage=None):\n",
    "        # check if train_dataset variable exists\n",
    "        if hasattr(self, 'train_dataset'):\n",
    "            return\n",
    "        dataset = Flickr8kDataset(self.config[\"image_dir\"],\n",
    "                                  self.config[\"caption_file\"],\n",
    "                                  self.special_word_tokenizer.tokenize,\n",
    "                                  self.vocab,\n",
    "                                  self.transform)\n",
    "\n",
    "        train_split_idx = int(len(dataset) * 0.8)\n",
    "        val_split_idx = int(len(dataset) * 0.1)\n",
    "        test_split_idx = len(dataset) - train_split_idx - val_split_idx\n",
    "\n",
    "        self.train_dataset, self.val_dataset, self.test_dataset = random_split(dataset, [train_split_idx, val_split_idx, test_split_idx])\n",
    "\n",
    "\n",
    "    def dataloader(self, dataset, shuffle=False):\n",
    "        return DataLoader(dataset,\n",
    "                          batch_size=self.config[\"batch_size\"],\n",
    "                          shuffle=shuffle,\n",
    "                          pin_memory=True,\n",
    "                          collate_fn=Collate(self.vocab.pad_idx))\n",
    "\n",
    "\n",
    "    def train_dataloader(self): return self.dataloader(self.train_dataset, shuffle=True)\n",
    "    def val_dataloader  (self): return self.dataloader(self.val_dataset)\n",
    "    #def test_dataloader (self): return self.dataloader(self.test_dataset)\n",
    "\n",
    "flickr8k_data_module = Flickr8kDataModule(config, transform=models.ResNet50_Weights.IMAGENET1K_V1.transforms())"
   ]
  },
  {
   "cell_type": "code",
   "execution_count": 20,
   "metadata": {},
   "outputs": [
    {
     "name": "stderr",
     "output_type": "stream",
     "text": [
      "100%|██████████| 100/100 [00:00<00:00, 145.69it/s]\n"
     ]
    }
   ],
   "source": [
    "flickr8k_data_module.setup()"
   ]
  },
  {
   "cell_type": "code",
   "execution_count": 93,
   "metadata": {},
   "outputs": [
    {
     "data": {
      "text/html": [
       "Waiting for W&B process to finish... <strong style=\"color:green\">(success).</strong>"
      ],
      "text/plain": [
       "<IPython.core.display.HTML object>"
      ]
     },
     "metadata": {},
     "output_type": "display_data"
    },
    {
     "data": {
      "text/html": [
       " View run <strong style=\"color:#cdcd00\">logical-jazz-86</strong> at: <a href='https://wandb.ai/florin-barbisch/del-mc2/runs/tpsaihk3' target=\"_blank\">https://wandb.ai/florin-barbisch/del-mc2/runs/tpsaihk3</a><br/>Synced 5 W&B file(s), 0 media file(s), 0 artifact file(s) and 0 other file(s)"
      ],
      "text/plain": [
       "<IPython.core.display.HTML object>"
      ]
     },
     "metadata": {},
     "output_type": "display_data"
    },
    {
     "data": {
      "text/html": [
       "Find logs at: <code>.\\wandb\\run-20230607_174636-tpsaihk3\\logs</code>"
      ],
      "text/plain": [
       "<IPython.core.display.HTML object>"
      ]
     },
     "metadata": {},
     "output_type": "display_data"
    },
    {
     "data": {
      "application/vnd.jupyter.widget-view+json": {
       "model_id": "850c63cb85ad417ba905265b0d49625a",
       "version_major": 2,
       "version_minor": 0
      },
      "text/plain": [
       "VBox(children=(Label(value='Waiting for wandb.init()...\\r'), FloatProgress(value=0.016666666666666666, max=1.0…"
      ]
     },
     "metadata": {},
     "output_type": "display_data"
    },
    {
     "data": {
      "text/html": [
       "Tracking run with wandb version 0.15.4"
      ],
      "text/plain": [
       "<IPython.core.display.HTML object>"
      ]
     },
     "metadata": {},
     "output_type": "display_data"
    },
    {
     "data": {
      "text/html": [
       "Run data is saved locally in <code>.\\wandb\\run-20230607_221848-p4xp3cx2</code>"
      ],
      "text/plain": [
       "<IPython.core.display.HTML object>"
      ]
     },
     "metadata": {},
     "output_type": "display_data"
    },
    {
     "data": {
      "text/html": [
       "Syncing run <strong><a href='https://wandb.ai/florin-barbisch/del-mc2/runs/p4xp3cx2' target=\"_blank\">stellar-disco-87</a></strong> to <a href='https://wandb.ai/florin-barbisch/del-mc2' target=\"_blank\">Weights & Biases</a> (<a href='https://wandb.me/run' target=\"_blank\">docs</a>)<br/>"
      ],
      "text/plain": [
       "<IPython.core.display.HTML object>"
      ]
     },
     "metadata": {},
     "output_type": "display_data"
    },
    {
     "data": {
      "text/html": [
       " View project at <a href='https://wandb.ai/florin-barbisch/del-mc2' target=\"_blank\">https://wandb.ai/florin-barbisch/del-mc2</a>"
      ],
      "text/plain": [
       "<IPython.core.display.HTML object>"
      ]
     },
     "metadata": {},
     "output_type": "display_data"
    },
    {
     "data": {
      "text/html": [
       " View run at <a href='https://wandb.ai/florin-barbisch/del-mc2/runs/p4xp3cx2' target=\"_blank\">https://wandb.ai/florin-barbisch/del-mc2/runs/p4xp3cx2</a>"
      ],
      "text/plain": [
       "<IPython.core.display.HTML object>"
      ]
     },
     "metadata": {},
     "output_type": "display_data"
    },
    {
     "name": "stderr",
     "output_type": "stream",
     "text": [
      "GPU available: True (cuda), used: True\n",
      "TPU available: False, using: 0 TPU cores\n",
      "IPU available: False, using: 0 IPUs\n",
      "HPU available: False, using: 0 HPUs\n",
      "LOCAL_RANK: 0 - CUDA_VISIBLE_DEVICES: [0]\n",
      "\n",
      "  | Name    | Type       | Params\n",
      "---------------------------------------\n",
      "0 | encoder | Sequential | 23.6 M\n",
      "1 | decoder | ModuleDict | 628 K \n",
      "---------------------------------------\n",
      "759 K     Trainable params\n",
      "23.5 M    Non-trainable params\n",
      "24.3 M    Total params\n",
      "97.071    Total estimated model params size (MB)\n"
     ]
    },
    {
     "data": {
      "application/json": {
       "ascii": false,
       "bar_format": null,
       "colour": null,
       "elapsed": 0.03355145454406738,
       "initial": 0,
       "n": 0,
       "ncols": null,
       "nrows": null,
       "postfix": null,
       "prefix": "Sanity Checking",
       "rate": null,
       "total": null,
       "unit": "it",
       "unit_divisor": 1000,
       "unit_scale": false
      },
      "application/vnd.jupyter.widget-view+json": {
       "model_id": "1ea45d9ca18745b18f81f1f45538e478",
       "version_major": 2,
       "version_minor": 0
      },
      "text/plain": [
       "Sanity Checking: 0it [00:00, ?it/s]"
      ]
     },
     "metadata": {},
     "output_type": "display_data"
    },
    {
     "name": "stderr",
     "output_type": "stream",
     "text": [
      "c:\\Users\\flori\\miniconda3\\envs\\del\\lib\\site-packages\\pytorch_lightning\\trainer\\connectors\\data_connector.py:224: PossibleUserWarning: The dataloader, val_dataloader 0, does not have many workers which may be a bottleneck. Consider increasing the value of the `num_workers` argument` (try 12 which is the number of cpus on this machine) in the `DataLoader` init to improve performance.\n",
      "  rank_zero_warn(\n",
      "c:\\Users\\flori\\miniconda3\\envs\\del\\lib\\site-packages\\pytorch_lightning\\trainer\\connectors\\data_connector.py:224: PossibleUserWarning: The dataloader, train_dataloader, does not have many workers which may be a bottleneck. Consider increasing the value of the `num_workers` argument` (try 12 which is the number of cpus on this machine) in the `DataLoader` init to improve performance.\n",
      "  rank_zero_warn(\n"
     ]
    },
    {
     "data": {
      "application/json": {
       "ascii": false,
       "bar_format": null,
       "colour": null,
       "elapsed": 0.040978431701660156,
       "initial": 0,
       "n": 0,
       "ncols": null,
       "nrows": null,
       "postfix": null,
       "prefix": "Training",
       "rate": null,
       "total": null,
       "unit": "it",
       "unit_divisor": 1000,
       "unit_scale": false
      },
      "application/vnd.jupyter.widget-view+json": {
       "model_id": "1a32bdf8b0014a0e904d4298d3cc3415",
       "version_major": 2,
       "version_minor": 0
      },
      "text/plain": [
       "Training: 0it [00:00, ?it/s]"
      ]
     },
     "metadata": {},
     "output_type": "display_data"
    },
    {
     "data": {
      "application/json": {
       "ascii": false,
       "bar_format": null,
       "colour": null,
       "elapsed": 0.040518760681152344,
       "initial": 0,
       "n": 0,
       "ncols": null,
       "nrows": null,
       "postfix": null,
       "prefix": "Validation",
       "rate": null,
       "total": null,
       "unit": "it",
       "unit_divisor": 1000,
       "unit_scale": false
      },
      "application/vnd.jupyter.widget-view+json": {
       "model_id": "822e2c734f764f8d8e4d69f0bc933f13",
       "version_major": 2,
       "version_minor": 0
      },
      "text/plain": [
       "Validation: 0it [00:00, ?it/s]"
      ]
     },
     "metadata": {},
     "output_type": "display_data"
    },
    {
     "data": {
      "application/json": {
       "ascii": false,
       "bar_format": null,
       "colour": null,
       "elapsed": 0.0350034236907959,
       "initial": 0,
       "n": 0,
       "ncols": null,
       "nrows": null,
       "postfix": null,
       "prefix": "Validation",
       "rate": null,
       "total": null,
       "unit": "it",
       "unit_divisor": 1000,
       "unit_scale": false
      },
      "application/vnd.jupyter.widget-view+json": {
       "model_id": "3aba38c744544bb49a0e1be009c407c4",
       "version_major": 2,
       "version_minor": 0
      },
      "text/plain": [
       "Validation: 0it [00:00, ?it/s]"
      ]
     },
     "metadata": {},
     "output_type": "display_data"
    },
    {
     "data": {
      "application/json": {
       "ascii": false,
       "bar_format": null,
       "colour": null,
       "elapsed": 0.036028385162353516,
       "initial": 0,
       "n": 0,
       "ncols": null,
       "nrows": null,
       "postfix": null,
       "prefix": "Validation",
       "rate": null,
       "total": null,
       "unit": "it",
       "unit_divisor": 1000,
       "unit_scale": false
      },
      "application/vnd.jupyter.widget-view+json": {
       "model_id": "29a3638ae7d04e148c12172ddf41e5a4",
       "version_major": 2,
       "version_minor": 0
      },
      "text/plain": [
       "Validation: 0it [00:00, ?it/s]"
      ]
     },
     "metadata": {},
     "output_type": "display_data"
    }
   ],
   "source": [
    "# Use the DataModule with a PyTorch Lightning Trainer\n",
    "wandb.finish()\n",
    "wandb_logger = WandbLogger(project=\"del-mc2\", entity=\"florin-barbisch\", config=config)\n",
    "\n",
    "trainer = pl.Trainer(\n",
    "    accelerator=config[\"accelerator\"],\n",
    "    max_epochs=config[\"epochs\"],\n",
    "    logger=wandb_logger,\n",
    "    log_every_n_steps=1\n",
    ")\n",
    "\n",
    "model = ImageCaptioning(\n",
    "    64,#config[\"embedding_dim\"],\n",
    "    3,#config[\"lstm_layers\"],\n",
    "    len(flickr8k_data_module.vocab),\n",
    "    flickr8k_data_module.vocab.pad_idx,\n",
    "    0.001#config[\"learning_rate\"]\n",
    ")\n",
    "\n",
    "trainer.fit(model, flickr8k_data_module)"
   ]
  },
  {
   "cell_type": "code",
   "execution_count": 82,
   "metadata": {},
   "outputs": [
    {
     "name": "stdout",
     "output_type": "stream",
     "text": [
      "Generated caption: [['a', 'a', 'a', 'a', 'a', 'a', 'a', 'a', 'a', 'a', 'a', 'a', 'a', 'a', 'a', 'a', 'a', 'a', 'a', 'a', 'a', 'a', 'a', 'a', 'a', 'a', 'a', 'a', 'a', 'a']]\n"
     ]
    }
   ],
   "source": [
    "# sample on first image and show the result\n",
    "image, caption = None, None\n",
    "i = 0\n",
    "for image, caption in iter(flickr8k_data_module.train_dataloader()):\n",
    "    if i == 1:\n",
    "        break\n",
    "    i += 1\n",
    "image = image.to(torch.device('cuda'))\n",
    "image = image[0].unsqueeze(0)\n",
    "# send image to cuda\n",
    "#caption = caption[0].unsqueeze(0)\n",
    "\n",
    "generated_caption = model.sample(image)\n",
    "print(\"Generated caption:\", generated_caption)"
   ]
  }
 ],
 "metadata": {
  "kernelspec": {
   "display_name": ".venv",
   "language": "python",
   "name": "python3"
  },
  "language_info": {
   "codemirror_mode": {
    "name": "ipython",
    "version": 3
   },
   "file_extension": ".py",
   "mimetype": "text/x-python",
   "name": "python",
   "nbconvert_exporter": "python",
   "pygments_lexer": "ipython3",
   "version": "3.10.10"
  },
  "orig_nbformat": 4
 },
 "nbformat": 4,
 "nbformat_minor": 2
}
